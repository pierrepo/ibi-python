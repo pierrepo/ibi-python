{
 "cells": [
  {
   "cell_type": "markdown",
   "id": "outer-personal",
   "metadata": {},
   "source": [
    "# Calcul du pourcentage de GC (*GC content*)\n",
    "\n",
    "Le %GC est la proportion de bases G et C dans une séquence donnée :\n",
    "\n",
    "$\\%GC = \\frac{nbG + nbC}{nbA + nbT + nbC + nbG} \\times 100$\n",
    "\n",
    "Soit la séquence :\n",
    "```\n",
    "ACGCGATTAGCTAGCCGG\n",
    "```"
   ]
  },
  {
   "cell_type": "code",
   "execution_count": 3,
   "id": "multiple-replication",
   "metadata": {
    "jupyter": {
     "source_hidden": true
    },
    "tags": []
   },
   "outputs": [],
   "source": [
    "nb_A = 4\n",
    "nb_T = 3\n",
    "nb_C = 5\n",
    "nb_G = 6"
   ]
  },
  {
   "cell_type": "code",
   "execution_count": null,
   "id": "thirty-latex",
   "metadata": {
    "jupyter": {
     "source_hidden": true
    },
    "tags": []
   },
   "outputs": [],
   "source": [
    "GC = (nb_G + nb_C)/(nb_A + nb_T + nb_G + nb_C) * 100"
   ]
  },
  {
   "cell_type": "code",
   "execution_count": null,
   "id": "sitting-explorer",
   "metadata": {
    "jupyter": {
     "source_hidden": true
    }
   },
   "outputs": [],
   "source": [
    "print(GC)"
   ]
  },
  {
   "cell_type": "code",
   "execution_count": null,
   "id": "coordinated-comparison",
   "metadata": {
    "jupyter": {
     "source_hidden": true
    }
   },
   "outputs": [],
   "source": [
    "print(\"Le %GC vaut : {}\".format(GC))"
   ]
  },
  {
   "cell_type": "code",
   "execution_count": null,
   "id": "roman-disposition",
   "metadata": {
    "jupyter": {
     "source_hidden": true
    },
    "tags": []
   },
   "outputs": [],
   "source": [
    "print(\"Le %GC vaut : {:.1f}\".format(GC))"
   ]
  },
  {
   "cell_type": "code",
   "execution_count": null,
   "id": "revised-syndrome",
   "metadata": {},
   "outputs": [],
   "source": []
  },
  {
   "cell_type": "markdown",
   "id": "affiliated-wiring",
   "metadata": {
    "tags": []
   },
   "source": [
    "## %GC en PCR\n",
    "\n",
    "*Polymerase chain reaction* : technique d'amplification de séquences d'ADN\n",
    "\n",
    "![](https://media.giphy.com/media/oCCLHVNt8YO64/giphy.gif)\n",
    "\n",
    "Plusieurs cycles successifs composés de 3 phases :\n",
    "\n",
    "1. Dénaturation. Séparation du brin d'ADN. Température : 92-95 °C.\n",
    "\n",
    "2. Hybridation. Appariement spécifique des amorces. Température : 50-60 °C,  \n",
    "    mais dépend de la température de fusion (Tm) des amorces.\n",
    "\n",
    "3. Extension. Élongation par l'ADN polymérase. Température : 70-72 °C.\n",
    "\n",
    "![](https://upload.wikimedia.org/wikipedia/commons/thumb/a/ab/Polymerase_chain_reaction-en.svg/1920px-Polymerase_chain_reaction-en.svg.png)\n",
    "\n",
    "*Source : By Enzoklop - Own work, CC BY-SA 4.0, https://commons.wikimedia.org/w/index.php?curid=96042657*"
   ]
  },
  {
   "cell_type": "markdown",
   "id": "animal-baseball",
   "metadata": {},
   "source": [
    "### Liaison A-T\n",
    "\n",
    "![](https://upload.wikimedia.org/wikipedia/commons/thumb/d/db/Base_pair_AT.svg/320px-Base_pair_AT.svg.png)\n",
    "\n",
    "*Source : By [Yikrazuul - Base pair Adenine Tyhmine (AT)](https://commons.wikimedia.org/wiki/File:Base_pair_AT.svg), Public domain*"
   ]
  },
  {
   "cell_type": "markdown",
   "id": "constitutional-implement",
   "metadata": {},
   "source": [
    "### Liaison G-C\n",
    "\n",
    "![](https://upload.wikimedia.org/wikipedia/commons/thumb/6/64/Base_pair_GC.svg/320px-Base_pair_GC.svg.png)\n",
    "\n",
    "*Source : By [Yikrazuul - Base pair guanine cytosine (GT)](https://commons.wikimedia.org/wiki/File:Base_pair_GC.svg), Public domain*\n",
    "\n",
    "La liaison G-C est constituée de 3 liaisons hydrogènes, contre 2 pour la liaison A-T. Il faudra proportionnellement plus d'énergie pour rompre une liaison G-C par rapport à une liaison A-T. On s'attend donc que la température de fusion soit proportionnelle avec le %GC (plus il y aura de bases G et C dans une séquence, plus la température de fusion sera elevée)."
   ]
  },
  {
   "cell_type": "markdown",
   "id": "outside-justice",
   "metadata": {},
   "source": [
    "### Calcul de la température de Fusion"
   ]
  },
  {
   "cell_type": "markdown",
   "id": "reduced-patrick",
   "metadata": {},
   "source": [
    "Si séquence > 13 nucléotides\n",
    "\n",
    "$Tm = 64.9 + 0.41 \\times \\%GC - \\frac{672.4}{nbA + nbT + nbG + nbC}$"
   ]
  },
  {
   "cell_type": "code",
   "execution_count": null,
   "id": "short-massachusetts",
   "metadata": {
    "jupyter": {
     "source_hidden": true
    }
   },
   "outputs": [],
   "source": [
    "Tm = 64.9 + 0.41 * GC - 672.4/(nb_A + nb_T + nb_G + nb_C)"
   ]
  },
  {
   "cell_type": "code",
   "execution_count": null,
   "id": "entitled-flour",
   "metadata": {
    "jupyter": {
     "source_hidden": true
    }
   },
   "outputs": [],
   "source": [
    "print(Tm)"
   ]
  },
  {
   "cell_type": "code",
   "execution_count": null,
   "id": "anticipated-entrepreneur",
   "metadata": {
    "jupyter": {
     "source_hidden": true
    },
    "tags": []
   },
   "outputs": [],
   "source": [
    "print(\"Tm vaut : {:.2f}\".format(Tm))"
   ]
  },
  {
   "cell_type": "code",
   "execution_count": null,
   "id": "lesbian-bhutan",
   "metadata": {},
   "outputs": [],
   "source": []
  },
  {
   "cell_type": "code",
   "execution_count": null,
   "id": "suffering-understanding",
   "metadata": {},
   "outputs": [],
   "source": []
  },
  {
   "cell_type": "markdown",
   "id": "everyday-grocery",
   "metadata": {},
   "source": [
    "## %GC pour caractériser un génome (ou des gènes)"
   ]
  },
  {
   "cell_type": "markdown",
   "id": "expensive-characteristic",
   "metadata": {},
   "source": [
    "### A relationship between GC content and coding-sequence length\n",
    "\n",
    "Oliver et Marin, *Journal of Molecular Evolution*, 43: 216–223 (1996). [lien](https://link.springer.com/article/10.1007/BF02338829)\n",
    "\n",
    "> Since base composition of translational stop codons (TAG, TAA, and TGA) is biased toward a low G+C content, a differential density for these termination signals is expected in random DNA sequences of different base compositions. The expected length of reading frames (DNA segments of sense codons flanked by in-phase stop codons) in random sequences is thus a function of GC content. The analysis of DNA sequences from several genome databases stratified according to GC content reveals that the longest coding sequences—exons in vertebrates and genes in prokaryotes—are GC-rich, while the shortest ones are GC-poor. Exon lengthening in GC-rich vertebrate regions does not result, however, in longer vertebrate proteins, perhaps because of the lower number of exons in the genes located in these regions. The effects on coding-sequence lengths constitute a new evolutionary meaning for compositional variations in DNA GC content."
   ]
  },
  {
   "cell_type": "markdown",
   "id": "gentle-surfing",
   "metadata": {},
   "source": [
    "### GC content shapes mRNA storage and decay in human cells\n",
    "\n",
    "Courel *et al.*, eLife, 8: e49708 (2019). [lien](https://elifesciences.org/articles/49708)\n",
    "\n",
    "> mRNA translation and decay appear often intimately linked although the rules of this interplay are poorly understood. In this study, we combined our recent P-body transcriptome with transcriptomes obtained following silencing of broadly acting mRNA decay and repression factors, and with available CLIP and related data. This revealed the central role of GC content in mRNA fate, in terms of P-body localization, mRNA translation and mRNA stability: P-bodies contain mostly AU-rich mRNAs, which have a particular codon usage associated with a low protein yield; AU-rich and GC-rich transcripts tend to follow distinct decay pathways; and the targets of sequence-specific RBPs and miRNAs are also biased in terms of GC content. Altogether, these results suggest an integrated view of post-transcriptional control in human cells where most translation regulation is dedicated to inefficiently translated AU-rich mRNAs, whereas control at the level of 5’ decay applies to optimally translated GC-rich mRNAs."
   ]
  },
  {
   "cell_type": "markdown",
   "id": "focal-species",
   "metadata": {},
   "source": [
    "### GC usage of SARS-CoV-2 genes might adapt to the environment of human lung expressed genes\n",
    "\n",
    "Li *et al.*, *Molecular Genetics and Genomics volume*, 295: 1537–1546 (2020). [lien](https://link.springer.com/article/10.1007/s00438-020-01719-0)\n",
    "\n",
    "> Understanding how SARS-CoV-2 (Severe Acute Respiratory Syndrome Coronavirus 2) efficiently reproduces itself by taking resources from the human host could facilitate the development of drugs against the virus. SARS-CoV-2 translates its own proteins by using the host tRNAs, so that its GC or codon usage should fit that of the host cells. It is necessary to study both the virus and human genomes in the light of evolution and adaptation. The SARS-CoV-2 virus has significantly lower GC content and GC3 as compared to human. However, when we selected a set of human genes that have similar GC properties to SARS-CoV-2, we found that these genes were enriched in particular pathways. Moreover, these human genes have the codon composition perfectly correlated with the SARS-CoV-2, and were extraordinarily highly expressed in human lung tissues, demonstrating that the SARS-CoV-2 genes have similar GC usage as compared to the lung expressed human genes. RSCU (relative synonymous codon usage) and CAI (codon adaptation index) profiles further support the matching between SARS-CoV-2 and lungs. Our study indicates that SARS-CoV-2 might have adapted to the human lung environment by observing the high correlation between GC usage of SARS-CoV-2 and human lung genes, which suggests the GC content of SARS-CoV-2 is optimized to take advantage of human lung tissues."
   ]
  },
  {
   "cell_type": "code",
   "execution_count": null,
   "id": "antique-license",
   "metadata": {},
   "outputs": [],
   "source": []
  }
 ],
 "metadata": {
  "kernelspec": {
   "display_name": "Python 3",
   "language": "python",
   "name": "python3"
  },
  "language_info": {
   "codemirror_mode": {
    "name": "ipython",
    "version": 3
   },
   "file_extension": ".py",
   "mimetype": "text/x-python",
   "name": "python",
   "nbconvert_exporter": "python",
   "pygments_lexer": "ipython3",
   "version": "3.8.8"
  },
  "toc-autonumbering": false,
  "toc-showcode": false
 },
 "nbformat": 4,
 "nbformat_minor": 5
}
