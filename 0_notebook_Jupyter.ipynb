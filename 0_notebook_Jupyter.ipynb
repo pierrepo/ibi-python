{
 "cells": [
  {
   "cell_type": "markdown",
   "id": "adolescent-tribe",
   "metadata": {},
   "source": [
    "# Introduction aux notebooks Jupyter"
   ]
  },
  {
   "cell_type": "markdown",
   "id": "perceived-content",
   "metadata": {},
   "source": [
    "Les notebooks Jupyter sont des cahiers électroniques d'analyse composés de « cellules ». Il existe deux types de cellules : \n",
    "\n",
    "- Les cellules de code, grisées, avec des `[ ]` sur le côté.\n",
    "- Les cellules de texte au format Markdown, en général sur fond blanc et qui peuvent contenir du texte, des équations, des images, des tableaux...\n",
    "\n",
    "Entrez l'instruction `print(\"Salut Python\")` dans la cellule de code grisée ci-dessous. \n",
    "\n",
    "Pressez ensuite les touches <kbd>Shift</kbd>+<kbd>Entrée</kbd> pour exécuter votre instruction."
   ]
  },
  {
   "cell_type": "code",
   "execution_count": null,
   "id": "australian-hardware",
   "metadata": {},
   "outputs": [],
   "source": []
  },
  {
   "cell_type": "markdown",
   "id": "criminal-expression",
   "metadata": {},
   "source": [
    "Remarque : \n",
    "- La combinaison de touches <kbd>Ctrl</kbd>+<kbd>Entrée</kbd> exécute une cellule.\n",
    "- La combinaison de touches <kbd>Shift</kbd>+<kbd>Entrée</kbd> exécute une cellule puis passe à la suivante. C'est équivalent à cliquer sur le bouton ► dans la barre de menu en haut du notebook.\n",
    "- La combinaison de touches <kbd>Alt</kbd>+<kbd>Entrée</kbd> exécute une cellule puis en crée une nouvelle (vide) en dessous.\n",
    "\n",
    "Pour ajouter une cellule, vous pouvez aussi cliquer sur l'icone ➕ dans la barre de menu du notebook.\n",
    "\n",
    "Entrez maintenant dans la cellule ci-dessous l'instruction `a = 10` puis exécutez-la."
   ]
  },
  {
   "cell_type": "code",
   "execution_count": null,
   "id": "stuffed-roads",
   "metadata": {},
   "outputs": [],
   "source": []
  },
  {
   "cell_type": "markdown",
   "id": "freelance-amateur",
   "metadata": {},
   "source": [
    "Entrez ensuite dans la cellule ci-dessous l'instruction `b = -3` puis exécutez-la."
   ]
  },
  {
   "cell_type": "code",
   "execution_count": null,
   "id": "caring-bidder",
   "metadata": {},
   "outputs": [],
   "source": []
  },
  {
   "cell_type": "markdown",
   "id": "harmful-hollywood",
   "metadata": {},
   "source": [
    "Enfin, entrez dans la cellule ci-dessous l'instruction `print(a + b)` puis exécutez-la."
   ]
  },
  {
   "cell_type": "code",
   "execution_count": null,
   "id": "smart-colombia",
   "metadata": {},
   "outputs": [],
   "source": []
  },
  {
   "cell_type": "markdown",
   "id": "simple-enclosure",
   "metadata": {},
   "source": [
    "Une variable définie dans une cellule d'un notebook est visible dans toutes les cellules du notebook.\n",
    "\n",
    "Quelques astuces supplémentaires :\n",
    "\n",
    "- Pour enregistrer votre notebook, cliquez sur la petite disquette située à gauche dans la barre de menu en haut de votre notebook. Si vous avez lancé ce notebook depuis une version en ligne de Jupyter, vous pouvez sauver localement votre notebook en cliquant droit sur le nom du notebook (à gauche), puis en cliquant sur *Download*.\n",
    "- Essayez d'exporter votre notebook en cliquant dans le menu sur *File → Export Notebook As → Export Notebook to HTML* (ou l'équivalent en français).\n",
    "- Relancez le *kernel* de votre notebook et toutes les cellules, en cliquant dans le menu sur *Kernel → Restart Kernel and Run All Cells* (ou l'équivalent en français)"
   ]
  }
 ],
 "metadata": {
  "kernelspec": {
   "display_name": "Python 3",
   "language": "python",
   "name": "python3"
  },
  "language_info": {
   "codemirror_mode": {
    "name": "ipython",
    "version": 3
   },
   "file_extension": ".py",
   "mimetype": "text/x-python",
   "name": "python",
   "nbconvert_exporter": "python",
   "pygments_lexer": "ipython3",
   "version": "3.8.8"
  }
 },
 "nbformat": 4,
 "nbformat_minor": 5
}
