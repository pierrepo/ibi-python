{
 "cells": [
  {
   "cell_type": "markdown",
   "id": "korean-backup",
   "metadata": {},
   "source": [
    "# TP 1\n",
    "\n",
    "*Renommez ce notebook en y ajoutant vos initiales (par exemple `TP1_PP.ipynb`) et pensez à le sauvegarder régulièrement !*\n",
    "\n",
    "*Renseignez également ci-dessous vos prénoms et noms (double-cliquez).*\n",
    "\n",
    "---\n",
    "\n",
    "Prénom :\n",
    "\n",
    "Nom :\n",
    "\n",
    "---"
   ]
  },
  {
   "cell_type": "markdown",
   "id": "apart-polls",
   "metadata": {},
   "source": [
    "## Partie 1 : Calcul du %GC\n",
    "\n",
    "Déterminez le %GC pour les séquences suivantes :\n",
    "\n",
    "1. `AATTTGGGCCCATTACATAC`\n",
    "2. `GCGAGGAAGATGTAGGCCGG`\n",
    "\n",
    "Affichez la valeur du %GC avec deux chiffres après la virgule, sous la forme :\n",
    "```\n",
    "Le pourcentage de GC est : xx.xx\n",
    "```\n",
    "\n",
    "Pour cela, pour chaque séquence :\n",
    "- Comptez le nombre de bases A, T, C et G.\n",
    "- Créez 4 variables pour stocker ces 4 valeurs.\n",
    "- Calculez le %GC et stockez le résultat dans une autre variable.\n",
    "- Affichez le %GC avec la fonction `print()` et l'écriture formatée.\n",
    "\n",
    "Comparez vos résultats avec vos voisins."
   ]
  },
  {
   "cell_type": "markdown",
   "id": "frozen-destiny",
   "metadata": {},
   "source": [
    "### Séquence 1\n",
    "\n",
    "Stockage du nombre de bases dans les variables `nb_A_1`, `nb_T_1`, `nb_C_1` et `nb_G_1` :"
   ]
  },
  {
   "cell_type": "code",
   "execution_count": null,
   "id": "elementary-excerpt",
   "metadata": {},
   "outputs": [],
   "source": []
  },
  {
   "cell_type": "markdown",
   "id": "occupied-animal",
   "metadata": {},
   "source": [
    "Calcul du %GC et stockage dans la variable `GC_1` :"
   ]
  },
  {
   "cell_type": "code",
   "execution_count": null,
   "id": "undefined-enterprise",
   "metadata": {},
   "outputs": [],
   "source": []
  },
  {
   "cell_type": "markdown",
   "id": "olive-windows",
   "metadata": {},
   "source": [
    "Affichage du %GC :"
   ]
  },
  {
   "cell_type": "code",
   "execution_count": null,
   "id": "neither-recommendation",
   "metadata": {},
   "outputs": [],
   "source": []
  },
  {
   "cell_type": "markdown",
   "id": "piano-spider",
   "metadata": {},
   "source": [
    "### Séquence 2\n",
    "\n",
    "Stockage du nombre de bases dans les variables `nb_A_2`, `nb_T_2`, `nb_C_2` et `nb_G_2` :"
   ]
  },
  {
   "cell_type": "code",
   "execution_count": null,
   "id": "computational-panel",
   "metadata": {},
   "outputs": [],
   "source": []
  },
  {
   "cell_type": "markdown",
   "id": "prospective-reality",
   "metadata": {},
   "source": [
    "Calcul du %GC et stockage dans la variable `GC_2` :"
   ]
  },
  {
   "cell_type": "code",
   "execution_count": null,
   "id": "split-intro",
   "metadata": {},
   "outputs": [],
   "source": []
  },
  {
   "cell_type": "markdown",
   "id": "proved-verse",
   "metadata": {},
   "source": [
    "Affichage du %GC :"
   ]
  },
  {
   "cell_type": "code",
   "execution_count": null,
   "id": "molecular-mobility",
   "metadata": {},
   "outputs": [],
   "source": []
  },
  {
   "cell_type": "markdown",
   "id": "amended-onion",
   "metadata": {},
   "source": [
    "## Partie 2 : Calcul de la température de fusion\n",
    "\n",
    "À partir du %GC, déterminez la température de fusion des séquences précédentes.\n",
    "\n",
    "Affichez la température de fusion avec trois chiffres après la virgule, sous la forme :\n",
    "```\n",
    "La température de fusion vaut : yy.yyy\n",
    "```\n",
    "\n",
    "Pour cela, pour chaque séquence :\n",
    "\n",
    "- Reprenez les variables précédentes qui contienent le nombre de bases A, T, C et G, ainsi que le %GC.\n",
    "- Calculez *Tm* et stockez le résultat dans une nouvelle variable.\n",
    "- Affichez la température de fusion avec la fonction `print()` et l'écriture formatée.\n",
    "\n",
    "Comparez vos résultats avec vos voisins."
   ]
  },
  {
   "cell_type": "markdown",
   "id": "finite-discretion",
   "metadata": {},
   "source": [
    "### Séquence 1\n",
    "\n",
    "Calcul de la température de fusion `Tm_1` à partir de `nb_A_1`, `nb_T_1`, `nb_C_1`, `nb_G_1` et `GC_1` :"
   ]
  },
  {
   "cell_type": "code",
   "execution_count": null,
   "id": "fleet-atlantic",
   "metadata": {},
   "outputs": [],
   "source": []
  },
  {
   "cell_type": "markdown",
   "id": "dominant-annex",
   "metadata": {},
   "source": [
    "Affichage de la température de fusion :"
   ]
  },
  {
   "cell_type": "code",
   "execution_count": null,
   "id": "early-protein",
   "metadata": {},
   "outputs": [],
   "source": []
  },
  {
   "cell_type": "markdown",
   "id": "fatal-aviation",
   "metadata": {},
   "source": [
    "### Séquence 2\n",
    "\n",
    "Calcul de la température de fusion `Tm_2` à partir de `nb_A_2`, `nb_T_2`, `nb_C_2`, `nb_G_2` et `GC_2` :"
   ]
  },
  {
   "cell_type": "code",
   "execution_count": null,
   "id": "structural-coach",
   "metadata": {},
   "outputs": [],
   "source": []
  },
  {
   "cell_type": "markdown",
   "id": "coastal-screw",
   "metadata": {},
   "source": [
    "Affichage de la température de fusion :"
   ]
  },
  {
   "cell_type": "code",
   "execution_count": null,
   "id": "extensive-simulation",
   "metadata": {},
   "outputs": [],
   "source": []
  },
  {
   "cell_type": "markdown",
   "id": "advisory-humor",
   "metadata": {},
   "source": [
    "## Partie 3 : Automatisation du calcul du %GC\n",
    "\n",
    "En utilisant une boucle `for` et des tests `if` et `elif`, calculez les %GC de la séquence suivante :\n",
    "\n",
    "`TAGATCCTTGGGTCCATTTGACGTAGTCTATGACG`\n",
    "\n",
    "Affichez la valeur du %GC avec deux chiffres après la virgule, sous la forme :\n",
    "```\n",
    "Le pourcentage de GC est : xx.xx\n",
    "```"
   ]
  },
  {
   "cell_type": "code",
   "execution_count": null,
   "id": "absolute-brazilian",
   "metadata": {},
   "outputs": [],
   "source": [
    "sequence = \"TAGATCCTTGGGTCCATTTGACGTAGTCTATGACG\""
   ]
  },
  {
   "cell_type": "markdown",
   "id": "solved-concept",
   "metadata": {},
   "source": [
    "**Comptage automatique** du nombre de bases ave une boucle `for` et des tests `if` et `elif`, et stockage dans les variables `nb_A`, `nb_T`, `nb_C` et `nb_G` :"
   ]
  },
  {
   "cell_type": "code",
   "execution_count": null,
   "id": "younger-token",
   "metadata": {},
   "outputs": [],
   "source": []
  },
  {
   "cell_type": "markdown",
   "id": "dental-belfast",
   "metadata": {},
   "source": [
    "Calcul du %GC et stockage dans la variable `GC` :"
   ]
  },
  {
   "cell_type": "code",
   "execution_count": null,
   "id": "documented-english",
   "metadata": {},
   "outputs": [],
   "source": []
  },
  {
   "cell_type": "markdown",
   "id": "superior-madrid",
   "metadata": {},
   "source": [
    "Affichage du %GC :"
   ]
  },
  {
   "cell_type": "code",
   "execution_count": null,
   "id": "twenty-rachel",
   "metadata": {},
   "outputs": [],
   "source": []
  },
  {
   "cell_type": "code",
   "execution_count": null,
   "id": "daily-worse",
   "metadata": {},
   "outputs": [],
   "source": []
  },
  {
   "cell_type": "markdown",
   "id": "individual-screw",
   "metadata": {},
   "source": [
    "## Partie 4 : Automatisation du calcul du %GC\n",
    "\n",
    "À partir du %GC, déterminez la température de fusion de la séquence précédente.\n",
    "\n",
    "Affichez la température de fusion avec trois chiffres après la virgule, sous la forme :\n",
    "```\n",
    "La température de fusion vaut : yy.yyy\n",
    "```"
   ]
  },
  {
   "cell_type": "markdown",
   "id": "reverse-being",
   "metadata": {},
   "source": [
    "Calcul de la température de fusion `Tm` à partir de `nb_A`, `nb_T`, `nb_C`, `nb_G` et `GC` :"
   ]
  },
  {
   "cell_type": "code",
   "execution_count": null,
   "id": "violent-dietary",
   "metadata": {},
   "outputs": [],
   "source": []
  },
  {
   "cell_type": "markdown",
   "id": "naked-debate",
   "metadata": {},
   "source": [
    "Affichage de la température de fusion :"
   ]
  },
  {
   "cell_type": "code",
   "execution_count": null,
   "id": "sudden-custody",
   "metadata": {},
   "outputs": [],
   "source": []
  }
 ],
 "metadata": {
  "kernelspec": {
   "display_name": "Python 3",
   "language": "python",
   "name": "python3"
  },
  "language_info": {
   "codemirror_mode": {
    "name": "ipython",
    "version": 3
   },
   "file_extension": ".py",
   "mimetype": "text/x-python",
   "name": "python",
   "nbconvert_exporter": "python",
   "pygments_lexer": "ipython3",
   "version": "3.8.8"
  }
 },
 "nbformat": 4,
 "nbformat_minor": 5
}
