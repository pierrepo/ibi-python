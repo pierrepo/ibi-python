{
 "cells": [
  {
   "cell_type": "markdown",
   "id": "soviet-reviewer",
   "metadata": {},
   "source": [
    "# TP 1\n",
    "\n",
    "*Renommez ce notebook en y ajoutant vos initiales (par exemple `TP1_PP.ipynb`) et pensez à le sauvegarder régulièrement !*\n",
    "\n",
    "*Renseignez également ci-dessous vos prénoms et noms (double-cliquez).*\n",
    "\n",
    "---\n",
    "\n",
    "Prénom :\n",
    "\n",
    "Nom :\n",
    "\n",
    "---"
   ]
  },
  {
   "cell_type": "markdown",
   "id": "mental-investigation",
   "metadata": {},
   "source": [
    "## Partie 1 : Calcul du %GC\n",
    "\n",
    "Déterminez le %GC pour les séquences suivantes :\n",
    "\n",
    "1. `AATTTGGGCCCATTACATAC`\n",
    "2. `GCGAGGAAGATGTAGGCCGG`\n",
    "\n",
    "Affichez la valeur du %GC avec deux chiffres après la virgule, sous la forme :\n",
    "```\n",
    "Le pourcentage de GC est : xx.xx\n",
    "```\n",
    "\n",
    "Pour cela, pour chaque séquence :\n",
    "- Comptez le nombre de bases A, T, C et G.\n",
    "- Créez 4 variables pour stocker ces 4 valeurs.\n",
    "- Calculez le %GC et stockez le résultat dans une autre variable.\n",
    "- Affichez le %GC avec la fonction `print()` et l'écriture formatée.\n",
    "\n",
    "Comparez vos résultats avec vos voisins."
   ]
  },
  {
   "cell_type": "code",
   "execution_count": null,
   "id": "encouraging-cross",
   "metadata": {},
   "outputs": [],
   "source": []
  },
  {
   "cell_type": "markdown",
   "id": "cutting-multiple",
   "metadata": {},
   "source": [
    "Calcul du %GC et stockage dans la variable `GC_1` :"
   ]
  },
  {
   "cell_type": "code",
   "execution_count": null,
   "id": "proved-grant",
   "metadata": {},
   "outputs": [],
   "source": []
  },
  {
   "cell_type": "markdown",
   "id": "undefined-economics",
   "metadata": {},
   "source": [
    "Affichage du %GC :"
   ]
  },
  {
   "cell_type": "code",
   "execution_count": null,
   "id": "promising-quarter",
   "metadata": {},
   "outputs": [],
   "source": []
  },
  {
   "cell_type": "markdown",
   "id": "centered-starter",
   "metadata": {},
   "source": [
    "### Séquence 2\n",
    "\n",
    "Stockage du nombre de bases dans les variables `nb_A_2`, `nb_T_2`, `nb_C_2` et `nb_G_2` :"
   ]
  },
  {
   "cell_type": "code",
   "execution_count": null,
   "id": "boring-contents",
   "metadata": {},
   "outputs": [],
   "source": []
  },
  {
   "cell_type": "markdown",
   "id": "satellite-channels",
   "metadata": {},
   "source": [
    "Calcul du %GC et stockage dans la variable `GC_2` :"
   ]
  },
  {
   "cell_type": "code",
   "execution_count": null,
   "id": "bored-participation",
   "metadata": {},
   "outputs": [],
   "source": []
  },
  {
   "cell_type": "markdown",
   "id": "elementary-condition",
   "metadata": {},
   "source": [
    "Affichage du %GC :"
   ]
  },
  {
   "cell_type": "code",
   "execution_count": null,
   "id": "vocal-blowing",
   "metadata": {},
   "outputs": [],
   "source": []
  },
  {
   "cell_type": "markdown",
   "id": "civilian-ridge",
   "metadata": {},
   "source": [
    "## Partie 2 : Calcul de la température de fusion\n",
    "\n",
    "À partir du %GC, déterminez la température de fusion des séquences précédentes.\n",
    "\n",
    "Affichez la température de fusion avec trois chiffres après la virgule, sous la forme :\n",
    "```\n",
    "La température de fusion vaut : yy.yyy\n",
    "```\n",
    "\n",
    "Pour cela, pour chaque séquence :\n",
    "\n",
    "- Reprenez les variables précédentes qui contienent le nombre de bases A, T, C et G, ainsi que le %GC.\n",
    "- Calculez *Tm* et stockez le résultat dans une nouvelle variable.\n",
    "- Affichez la température de fusion avec la fonction `print()` et l'écriture formatée.\n",
    "\n",
    "Comparez vos résultats avec vos voisins."
   ]
  },
  {
   "cell_type": "markdown",
   "id": "confirmed-concert",
   "metadata": {},
   "source": [
    "### Séquence 1\n",
    "\n",
    "Calcul de la température de fusion `Tm_1` à partir de `nb_A_1`, `nb_T_1`, `nb_C_1`, `nb_G_1` et `GC_1` :"
   ]
  },
  {
   "cell_type": "code",
   "execution_count": null,
   "id": "specified-release",
   "metadata": {},
   "outputs": [],
   "source": []
  },
  {
   "cell_type": "markdown",
   "id": "presidential-pulse",
   "metadata": {},
   "source": [
    "Affichage de la température de fusion :"
   ]
  },
  {
   "cell_type": "code",
   "execution_count": null,
   "id": "metric-cisco",
   "metadata": {},
   "outputs": [],
   "source": []
  },
  {
   "cell_type": "markdown",
   "id": "great-muscle",
   "metadata": {},
   "source": [
    "### Séquence 2\n",
    "\n",
    "Calcul de la température de fusion `Tm_2` à partir de `nb_A_2`, `nb_T_2`, `nb_C_2`, `nb_G_2` et `GC_2` :"
   ]
  },
  {
   "cell_type": "code",
   "execution_count": null,
   "id": "figured-soccer",
   "metadata": {},
   "outputs": [],
   "source": []
  },
  {
   "cell_type": "markdown",
   "id": "caring-plenty",
   "metadata": {},
   "source": [
    "Affichage de la température de fusion :"
   ]
  },
  {
   "cell_type": "code",
   "execution_count": null,
   "id": "plastic-lodging",
   "metadata": {},
   "outputs": [],
   "source": []
  },
  {
   "cell_type": "markdown",
   "id": "through-bench",
   "metadata": {},
   "source": [
    "## Partie 3 : Automatisation du calcul du %GC\n",
    "\n",
    "En utilisant une boucle `for` et des tests `if` et `elif`, calculez les %GC de la séquence suivante :\n",
    "\n",
    "`TAGATCCTTGGGTCCATTTGACGTAGTCTATGACG`\n",
    "\n",
    "Affichez la valeur du %GC avec deux chiffres après la virgule, sous la forme :\n",
    "```\n",
    "Le pourcentage de GC est : xx.xx\n",
    "```"
   ]
  },
  {
   "cell_type": "code",
   "execution_count": null,
   "id": "employed-violation",
   "metadata": {},
   "outputs": [],
   "source": [
    "sequence = \"TAGATCCTTGGGTCCATTTGACGTAGTCTATGACG\""
   ]
  },
  {
   "cell_type": "markdown",
   "id": "subtle-thomas",
   "metadata": {},
   "source": [
    "**Comptage automatique** du nombre de bases ave une boucle `for` et des tests `if` et `elif`, et stockage dans les variables `nb_A`, `nb_T`, `nb_C` et `nb_G` :"
   ]
  },
  {
   "cell_type": "code",
   "execution_count": null,
   "id": "complimentary-dollar",
   "metadata": {},
   "outputs": [],
   "source": []
  },
  {
   "cell_type": "markdown",
   "id": "illegal-crowd",
   "metadata": {},
   "source": [
    "Calcul du %GC et stockage dans la variable `GC` :"
   ]
  },
  {
   "cell_type": "code",
   "execution_count": null,
   "id": "wound-serbia",
   "metadata": {},
   "outputs": [],
   "source": []
  },
  {
   "cell_type": "markdown",
   "id": "competitive-accessory",
   "metadata": {},
   "source": [
    "Affichage du %GC :"
   ]
  },
  {
   "cell_type": "code",
   "execution_count": null,
   "id": "freelance-fairy",
   "metadata": {},
   "outputs": [],
   "source": []
  },
  {
   "cell_type": "code",
   "execution_count": null,
   "id": "electric-addition",
   "metadata": {},
   "outputs": [],
   "source": []
  },
  {
   "cell_type": "markdown",
   "id": "hourly-ultimate",
   "metadata": {},
   "source": [
    "## Partie 4 : Automatisation du calcul du %GC\n",
    "\n",
    "À partir du %GC, déterminez la température de fusion de la séquence précédente.\n",
    "\n",
    "Affichez la température de fusion avec trois chiffres après la virgule, sous la forme :\n",
    "```\n",
    "La température de fusion vaut : yy.yyy\n",
    "```"
   ]
  },
  {
   "cell_type": "markdown",
   "id": "banned-saver",
   "metadata": {},
   "source": [
    "Calcul de la température de fusion `Tm` à partir de `nb_A`, `nb_T`, `nb_C`, `nb_G` et `GC` :"
   ]
  },
  {
   "cell_type": "code",
   "execution_count": null,
   "id": "burning-netscape",
   "metadata": {},
   "outputs": [],
   "source": []
  },
  {
   "cell_type": "markdown",
   "id": "successful-monitor",
   "metadata": {},
   "source": [
    "Affichage de la température de fusion :"
   ]
  },
  {
   "cell_type": "code",
   "execution_count": null,
   "id": "fatty-winning",
   "metadata": {},
   "outputs": [],
   "source": []
  }
 ],
 "metadata": {
  "kernelspec": {
   "display_name": "Python 3",
   "language": "python",
   "name": "python3"
  },
  "language_info": {
   "codemirror_mode": {
    "name": "ipython",
    "version": 3
   },
   "file_extension": ".py",
   "mimetype": "text/x-python",
   "name": "python",
   "nbconvert_exporter": "python",
   "pygments_lexer": "ipython3",
   "version": "3.8.8"
  }
 },
 "nbformat": 4,
 "nbformat_minor": 5
}
