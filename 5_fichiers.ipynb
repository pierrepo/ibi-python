{
 "cells": [
  {
   "cell_type": "markdown",
   "id": "dental-ratio",
   "metadata": {},
   "source": [
    "# Fichiers\n",
    "\n",
    "https://python.sdv.univ-paris-diderot.fr/07_fichiers/\n",
    "\n",
    "Une grande partie de l'information en biologie est stockée sous forme de texte dans des fichiers.\n",
    "\n",
    "## Lire un fichier"
   ]
  },
  {
   "cell_type": "code",
   "execution_count": null,
   "id": "furnished-horizon",
   "metadata": {},
   "outputs": [],
   "source": [
    "with open(\"zoo.txt\", \"r\") as input_file:\n",
    "    for line in input_file:\n",
    "        print(line)"
   ]
  },
  {
   "cell_type": "code",
   "execution_count": null,
   "id": "sonic-polymer",
   "metadata": {},
   "outputs": [],
   "source": []
  },
  {
   "cell_type": "markdown",
   "id": "prompt-lighting",
   "metadata": {},
   "source": [
    "Remarques :\n",
    "\n",
    "- L'instruction `with` introduit un bloc d'instructions. C'est à l'intérieur de ce bloc que nous effectuons toutes les opérations sur le fichier. L'instruction `open()` ouvre le fichier. Une fois sorti de ce bloc d'instructions, le fichier est automatiquement fermé.\n",
    "- Le mode `\"r\"` (pour *read*) indique qu'on lit le fichier.\n",
    "- L'instruction `for` permet d'itérer (de parcourir) chaque ligne du fichier, une par une.\n",
    "- Il y a une ligne vide entre chaque animaux car la ligne contient elle-même un saut de ligne qui s'additionne à celui de l'instruction `print()`.\n",
    "\n",
    "Pour supprimer le saut de ligne supplémentaire, on peut « nettoyer » la ligne lue dans le fichier avec `strip()` :"
   ]
  },
  {
   "cell_type": "code",
   "execution_count": null,
   "id": "offshore-neutral",
   "metadata": {},
   "outputs": [],
   "source": [
    "with open(\"zoo.txt\", \"r\") as input_file:\n",
    "    for line in input_file:\n",
    "        print(line.strip())"
   ]
  },
  {
   "cell_type": "markdown",
   "id": "careful-malawi",
   "metadata": {},
   "source": [
    "## Lire un fichier en une seule fois"
   ]
  },
  {
   "cell_type": "code",
   "execution_count": null,
   "id": "brazilian-homework",
   "metadata": {},
   "outputs": [],
   "source": [
    "with open(\"zoo.txt\", \"r\") as input_file:\n",
    "    content = input_file.read()\n",
    "content"
   ]
  },
  {
   "cell_type": "markdown",
   "id": "clear-ensemble",
   "metadata": {},
   "source": [
    "Les symboles `\\n` représentent le caractère de saut à la ligne."
   ]
  },
  {
   "cell_type": "code",
   "execution_count": null,
   "id": "matched-preview",
   "metadata": {},
   "outputs": [],
   "source": []
  },
  {
   "cell_type": "markdown",
   "id": "small-action",
   "metadata": {},
   "source": [
    "## Écrire un fichier"
   ]
  },
  {
   "cell_type": "code",
   "execution_count": null,
   "id": "synthetic-contest",
   "metadata": {},
   "outputs": [],
   "source": [
    "animaux = [\"poisson\", \"abeille\", \"chat\"]\n",
    "\n",
    "with open(\"zoo2.txt\", \"w\") as output_file:\n",
    "    for animal in animaux:\n",
    "        output_file.write(animal)"
   ]
  },
  {
   "cell_type": "code",
   "execution_count": null,
   "id": "editorial-syria",
   "metadata": {},
   "outputs": [],
   "source": []
  },
  {
   "cell_type": "markdown",
   "id": "encouraging-federal",
   "metadata": {},
   "source": [
    "Le mode `\"w\"` (pour *write*) est utilisé pour écrire un fichier."
   ]
  },
  {
   "cell_type": "markdown",
   "id": "compressed-norwegian",
   "metadata": {},
   "source": [
    "Il ne faut pas oublier d'ajouter les sauts de ligne."
   ]
  },
  {
   "cell_type": "code",
   "execution_count": null,
   "id": "retained-attraction",
   "metadata": {},
   "outputs": [],
   "source": [
    "animaux = [\"poisson\", \"abeille\", \"chat\"]\n",
    "\n",
    "with open(\"zoo3.txt\", \"w\") as output_file:\n",
    "    for animal in animaux:\n",
    "        output_file.write(f\"{animal}\\n\")"
   ]
  },
  {
   "cell_type": "code",
   "execution_count": null,
   "id": "fundamental-enlargement",
   "metadata": {},
   "outputs": [],
   "source": []
  },
  {
   "cell_type": "code",
   "execution_count": null,
   "id": "editorial-compact",
   "metadata": {},
   "outputs": [],
   "source": []
  }
 ],
 "metadata": {
  "kernelspec": {
   "display_name": "Python 3 (ipykernel)",
   "language": "python",
   "name": "python3"
  },
  "language_info": {
   "codemirror_mode": {
    "name": "ipython",
    "version": 3
   },
   "file_extension": ".py",
   "mimetype": "text/x-python",
   "name": "python",
   "nbconvert_exporter": "python",
   "pygments_lexer": "ipython3",
   "version": "3.8.12"
  }
 },
 "nbformat": 4,
 "nbformat_minor": 5
}
