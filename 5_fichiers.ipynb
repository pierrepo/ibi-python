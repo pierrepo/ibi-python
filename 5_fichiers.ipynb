{
 "cells": [
  {
   "cell_type": "markdown",
   "id": "approved-cherry",
   "metadata": {},
   "source": [
    "# Fichiers\n",
    "\n",
    "https://python.sdv.univ-paris-diderot.fr/07_fichiers/\n",
    "\n",
    "Une grande partie de l'information en biologie est stockée sous forme de texte dans des fichiers.\n",
    "\n",
    "## Lire un fichier"
   ]
  },
  {
   "cell_type": "code",
   "execution_count": 3,
   "id": "impossible-initial",
   "metadata": {},
   "outputs": [
    {
     "name": "stdout",
     "output_type": "stream",
     "text": [
      "girafe\n",
      "\n",
      "tigre\n",
      "\n",
      "singe\n",
      "\n",
      "souris\n"
     ]
    }
   ],
   "source": [
    "with open(\"zoo.txt\", \"r\") as input_file:\n",
    "    for line in input_file:\n",
    "        print(line)"
   ]
  },
  {
   "cell_type": "code",
   "execution_count": null,
   "id": "caring-surname",
   "metadata": {},
   "outputs": [],
   "source": []
  },
  {
   "cell_type": "markdown",
   "id": "scenic-average",
   "metadata": {},
   "source": [
    "Remarques :\n",
    "\n",
    "- L'instruction `with` introduit un bloc d'instructions. C'est à l'intérieur de ce bloc que nous effectuons toutes les opérations sur le fichier. L'instruction `open()` ouvre le fichier. Une fois sorti de ce bloc d'instructions, le fichier est automatiquement fermé.\n",
    "- Le mode `\"r\"` (pour *read*) indique qu'on lit le fichier.\n",
    "- L'instruction `for` permet d'itérer chaque ligne du fichier, une par une.\n",
    "- Il y a une ligne vide entre chaque animaux car la ligne contient elle-même un saut de ligne qui s'additionne à celui de l'instruction `print()`.\n",
    "\n",
    "Pour supprimer le saut de ligne supplémentaire :"
   ]
  },
  {
   "cell_type": "code",
   "execution_count": 9,
   "id": "junior-berry",
   "metadata": {},
   "outputs": [
    {
     "name": "stdout",
     "output_type": "stream",
     "text": [
      "girafe\n",
      "tigre\n",
      "singe\n",
      "souris\n"
     ]
    }
   ],
   "source": [
    "with open(\"zoo.txt\", \"r\") as input_file:\n",
    "    for line in input_file:\n",
    "        print(line.strip())"
   ]
  },
  {
   "cell_type": "markdown",
   "id": "alpine-nutrition",
   "metadata": {},
   "source": [
    "## Lire un fichier en une seule fois"
   ]
  },
  {
   "cell_type": "code",
   "execution_count": 13,
   "id": "previous-harris",
   "metadata": {},
   "outputs": [
    {
     "data": {
      "text/plain": [
       "'girafe\\ntigre\\nsinge\\nsouris'"
      ]
     },
     "execution_count": 13,
     "metadata": {},
     "output_type": "execute_result"
    }
   ],
   "source": [
    "with open(\"zoo.txt\", \"r\") as input_file:\n",
    "    content = input_file.read()\n",
    "content"
   ]
  },
  {
   "cell_type": "markdown",
   "id": "renewable-bobby",
   "metadata": {},
   "source": [
    "Les symboles `\\n` représentent le caractère de saut à la ligne."
   ]
  },
  {
   "cell_type": "code",
   "execution_count": null,
   "id": "weighted-manchester",
   "metadata": {},
   "outputs": [],
   "source": []
  },
  {
   "cell_type": "markdown",
   "id": "realistic-radius",
   "metadata": {},
   "source": [
    "## Écrire un fichier"
   ]
  },
  {
   "cell_type": "code",
   "execution_count": 17,
   "id": "coral-humor",
   "metadata": {},
   "outputs": [],
   "source": [
    "animaux = [\"poisson\", \"abeille\", \"chat\"]\n",
    "\n",
    "with open(\"zoo2.txt\", \"w\") as output_file:\n",
    "    for animal in animaux:\n",
    "        output_file.write(animal)"
   ]
  },
  {
   "cell_type": "code",
   "execution_count": null,
   "id": "embedded-updating",
   "metadata": {},
   "outputs": [],
   "source": []
  },
  {
   "cell_type": "markdown",
   "id": "julian-twelve",
   "metadata": {},
   "source": [
    "Le mode `\"w\"` (pour *write*) est utilisé pour écrire un fichier."
   ]
  },
  {
   "cell_type": "markdown",
   "id": "prospective-updating",
   "metadata": {},
   "source": [
    "Il ne faut pas oublier d'ajouter les sauts de ligne."
   ]
  },
  {
   "cell_type": "code",
   "execution_count": 16,
   "id": "rotary-thread",
   "metadata": {},
   "outputs": [],
   "source": [
    "animaux = [\"poisson\", \"abeille\", \"chat\"]\n",
    "\n",
    "with open(\"zoo2.txt\", \"w\") as output_file:\n",
    "    for animal in animaux:\n",
    "        output_file.write(\"{}\\n\".format(animal))"
   ]
  },
  {
   "cell_type": "code",
   "execution_count": null,
   "id": "hawaiian-photography",
   "metadata": {},
   "outputs": [],
   "source": []
  },
  {
   "cell_type": "code",
   "execution_count": null,
   "id": "smart-single",
   "metadata": {},
   "outputs": [],
   "source": []
  }
 ],
 "metadata": {
  "kernelspec": {
   "display_name": "Python 3",
   "language": "python",
   "name": "python3"
  },
  "language_info": {
   "codemirror_mode": {
    "name": "ipython",
    "version": 3
   },
   "file_extension": ".py",
   "mimetype": "text/x-python",
   "name": "python",
   "nbconvert_exporter": "python",
   "pygments_lexer": "ipython3",
   "version": "3.8.8"
  }
 },
 "nbformat": 4,
 "nbformat_minor": 5
}
