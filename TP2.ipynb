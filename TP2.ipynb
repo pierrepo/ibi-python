{
 "cells": [
  {
   "cell_type": "markdown",
   "id": "civilian-detroit",
   "metadata": {},
   "source": [
    "# TP 2\n",
    "\n",
    "*Renommez ce notebook en y ajoutant vos initiales (par exemple `TP2_PP.ipynb`) et pensez à le sauvegarder régulièrement !*\n",
    "\n",
    "*Renseignez également ci-dessous vos prénoms et noms (double-cliquez pour éditer).*\n",
    "\n",
    "---\n",
    "\n",
    "Prénom :\n",
    "\n",
    "Nom :\n",
    "\n",
    "---"
   ]
  },
  {
   "cell_type": "markdown",
   "id": "based-champion",
   "metadata": {},
   "source": [
    "## Partie 1 : Calcul du %GC pour le génome du Sars-Cov-2\n",
    "\n",
    "Le génome de référence du Sars-Cov-2 est disposnible sous la référence [NC_045512](https://www.ncbi.nlm.nih.gov/nuccore/NC_045512) sur le site du NCBI. Il est constitué de 29903 bases.\n",
    "\n",
    "Le fichier `sars-cov-2.txt` contient le génome du Sars-Cov-2. Toute la séquence se trouve sur une seule ligne.\n",
    "\n",
    "Pour lire ce fichier, extraire la séquence du génome de Sars-Cov-2 et la stocker dans la variable `sequence`, vous pouvez utiliser le code suivant :"
   ]
  },
  {
   "cell_type": "code",
   "execution_count": 2,
   "id": "attached-audit",
   "metadata": {},
   "outputs": [],
   "source": [
    "with open(\"sars-cov-2.txt\", \"r\") as txt_file:\n",
    "    sequence = txt_file.read()"
   ]
  },
  {
   "cell_type": "markdown",
   "id": "warming-upgrade",
   "metadata": {},
   "source": [
    "Affichez la taille de la séquence lue dans la variable `sequence` :"
   ]
  },
  {
   "cell_type": "code",
   "execution_count": 3,
   "id": "fitting-rendering",
   "metadata": {},
   "outputs": [
    {
     "name": "stdout",
     "output_type": "stream",
     "text": [
      "29903\n"
     ]
    }
   ],
   "source": [
    "print(len(sequence))"
   ]
  },
  {
   "cell_type": "markdown",
   "id": "expanded-workplace",
   "metadata": {},
   "source": [
    "Vérifiez que les 10 premières bases de la séquence sont `ATTAAAGGTT` :"
   ]
  },
  {
   "cell_type": "code",
   "execution_count": 11,
   "id": "australian-ordinance",
   "metadata": {},
   "outputs": [
    {
     "name": "stdout",
     "output_type": "stream",
     "text": [
      "ATTAAAGGTT\n"
     ]
    }
   ],
   "source": [
    "print(sequence[0:10])"
   ]
  },
  {
   "cell_type": "markdown",
   "id": "future-exclusion",
   "metadata": {},
   "source": [
    "Vérifiez que les 10 dernières bases de la séquence sont `AAAAAAAAAA` :"
   ]
  },
  {
   "cell_type": "code",
   "execution_count": 12,
   "id": "dressed-batman",
   "metadata": {},
   "outputs": [
    {
     "name": "stdout",
     "output_type": "stream",
     "text": [
      "AAAAAAAAAA\n"
     ]
    }
   ],
   "source": [
    "print(sequence[-10:])"
   ]
  },
  {
   "cell_type": "markdown",
   "id": "coordinate-knife",
   "metadata": {},
   "source": [
    "Réutilisez le code de la partie 3 du TP1, pour calculer le %GC de cette sequence :"
   ]
  },
  {
   "cell_type": "code",
   "execution_count": null,
   "id": "minus-assumption",
   "metadata": {},
   "outputs": [],
   "source": []
  },
  {
   "cell_type": "markdown",
   "id": "judicial-windsor",
   "metadata": {},
   "source": [
    "Affichez la valeur du %GC avec deux chiffres après la virgule, sous la forme :\n",
    "```\n",
    "Le pourcentage de GC est : xx.xx\n",
    "```"
   ]
  },
  {
   "cell_type": "code",
   "execution_count": null,
   "id": "seventh-symbol",
   "metadata": {},
   "outputs": [],
   "source": []
  },
  {
   "cell_type": "code",
   "execution_count": null,
   "id": "charitable-intake",
   "metadata": {},
   "outputs": [],
   "source": []
  },
  {
   "cell_type": "markdown",
   "id": "sound-shipping",
   "metadata": {},
   "source": [
    "## Partie 2 : Calcul du %GC pour le génome du Sars-Cov-2 à partir d'un fichier au format FASTA\n",
    "\n",
    "Les séquences ne se trouvent pas sous la forme d'une séquence par ligne.\n",
    "\n",
    "Un format classique pour partager des séquences est le format FASTA :\n",
    "```\n",
    ">en-tête\n",
    "séquence avec un nombre maximum de caractères par ligne\n",
    "séquence avec un nombre maximum de caractères par ligne\n",
    "séquence avec un nombre maximum de caractères par ligne\n",
    "séquence avec un nombre maximum de caractères par ligne\n",
    "séquence avec un nombre max\n",
    "```\n",
    "\n",
    "Dans le cas du génome du Sars-cov-2 stocké au format FASTA dans le fichier `sars-cov-2.fasta`, les premières lignes sont :\n",
    "```\n",
    ">NC_045512.2 Severe acute respiratory syndrome coronavirus 2 isolate Wuhan-Hu-1, complete genome\n",
    "ATTAAAGGTTTATACCTTCCCAGGTAACAAACCAACCAACTTTCGATCTCTTGTAGATCTGTTCTCTAAA\n",
    "CGAACTTTAAAATCTGTGTGGCTGTCACTCGGCTGCATGCTTAGTGCACTCACGCAGTATAATTAATAAC\n",
    "TAATTACTGTCGTTGACAGGACACGAGTAACTCGTCTATCTTCTGCAGGCTGCTTACGGTTTCGTCCGTG\n",
    "TTGCAGCCGATCATCAGCACATCTAGGTTTCGTCCGGGTGTGACCGAAAGGTAAGATGGAGAGCCTTGTC\n",
    "CCTGGTTTCAACGAGAAAACACACGTCCAACTCAGTTTGCCTGTTTTACAGGTTCGCGACGTGCTCGTAC\n",
    "GTGGCTTTGGAGACTCCGTGGAGGAGGTCTTATCAGAGGCACGTCAACATCTTAAAGATGGCACTTGTGG\n",
    "CTTAGTAGAAGTTGAAAAAGGCGTTTTGCCTCAACTTGAACAGCCCTATGTGTTCATCAAACGTTCGGAT\n",
    "```\n",
    "\n",
    "Sachant que la séquence du Sars-cov-2 contient 29903 bases et que le `sars-cov-2.fasta` contient 70 bases par lignes, déterminez avec Python combien de lignes doit contenir le fichier `sars-cov-2.fasta` de la séquence du génome du Sars-cov-2 au format FASTA :"
   ]
  },
  {
   "cell_type": "code",
   "execution_count": 17,
   "id": "english-cooperation",
   "metadata": {},
   "outputs": [
    {
     "data": {
      "text/plain": [
       "13"
      ]
     },
     "execution_count": 17,
     "metadata": {},
     "output_type": "execute_result"
    }
   ],
   "source": [
    "29903%70"
   ]
  },
  {
   "cell_type": "markdown",
   "id": "rough-speaking",
   "metadata": {},
   "source": [
    "Ouvrez le fichier `sars-cov-2.fasta` en double-cliquant sur le nom du fichier sur le navigateur de fichier à gauche.\n",
    "\n",
    "Vérifiez que le nombre de lignes que vous avez calculé correspond bien au nombre de lignes dans le fichier.\n",
    "\n",
    "Remarque : le numéro de la ligne est affiché en gris à gauche de chaque ligne."
   ]
  },
  {
   "cell_type": "markdown",
   "id": "enclosed-special",
   "metadata": {},
   "source": [
    "*double-cliquez sur cette cellule pour ajouter vos commentaires* "
   ]
  },
  {
   "cell_type": "markdown",
   "id": "current-indication",
   "metadata": {},
   "source": [
    "Lire une séquence au format FASTA (donc répartie sur plusieurs lignes) est moins simple que si cette séquence était sur une seule ligne. Par ailleurs, la première ligne contient l'identifiant de la séquence.\n",
    "\n",
    "Voici un exemple de code qui vous pouvez utiliser pour lire la séquence depuis un fichier au format FASTA :"
   ]
  },
  {
   "cell_type": "code",
   "execution_count": 19,
   "id": "agricultural-brain",
   "metadata": {},
   "outputs": [],
   "source": [
    "with open(\"sars-cov-2.fasta\", \"r\") as fasta_file:\n",
    "    header = \"\"\n",
    "    sequence = \"\"\n",
    "    for line in fasta_file:\n",
    "        if line.startswith(\">\"):\n",
    "            header = line.strip()\n",
    "        else:\n",
    "            sequence += line.strip()"
   ]
  },
  {
   "cell_type": "markdown",
   "id": "pressing-senator",
   "metadata": {},
   "source": [
    "L'entête est stocké dans la variable `header`. La séquence est stockée dans la variable `sequence`.\n",
    "\n",
    "Affichez l'entête :"
   ]
  },
  {
   "cell_type": "code",
   "execution_count": 24,
   "id": "curious-engine",
   "metadata": {},
   "outputs": [
    {
     "name": "stdout",
     "output_type": "stream",
     "text": [
      ">NC_045512.2 Severe acute respiratory syndrome coronavirus 2 isolate Wuhan-Hu-1, complete genome\n"
     ]
    }
   ],
   "source": [
    "print(header)"
   ]
  },
  {
   "cell_type": "markdown",
   "id": "prescription-muscle",
   "metadata": {},
   "source": [
    "Affichez la taille de la séquence :"
   ]
  },
  {
   "cell_type": "code",
   "execution_count": 20,
   "id": "ancient-oklahoma",
   "metadata": {},
   "outputs": [
    {
     "data": {
      "text/plain": [
       "29903"
      ]
     },
     "execution_count": 20,
     "metadata": {},
     "output_type": "execute_result"
    }
   ],
   "source": [
    "len(sequence)"
   ]
  },
  {
   "cell_type": "markdown",
   "id": "geographic-flexibility",
   "metadata": {},
   "source": [
    "Vérifiez que les 10 premières bases de la séquence sont `ATTAAAGGTT` :"
   ]
  },
  {
   "cell_type": "code",
   "execution_count": 25,
   "id": "architectural-china",
   "metadata": {},
   "outputs": [
    {
     "data": {
      "text/plain": [
       "'ATTAAAGGTT'"
      ]
     },
     "execution_count": 25,
     "metadata": {},
     "output_type": "execute_result"
    }
   ],
   "source": [
    "sequence[0:10]"
   ]
  },
  {
   "cell_type": "markdown",
   "id": "visible-ownership",
   "metadata": {},
   "source": [
    "Vérifiez que les 10 dernières bases de la séquence sont `AAAAAAAAAA` :"
   ]
  },
  {
   "cell_type": "code",
   "execution_count": 26,
   "id": "studied-wallet",
   "metadata": {},
   "outputs": [
    {
     "data": {
      "text/plain": [
       "'AAAAAAAAAA'"
      ]
     },
     "execution_count": 26,
     "metadata": {},
     "output_type": "execute_result"
    }
   ],
   "source": [
    "sequence[-10:]"
   ]
  },
  {
   "cell_type": "markdown",
   "id": "funny-selling",
   "metadata": {},
   "source": [
    "Réutilisez le code de la partie 1 de ce TP, pour calculer le %GC de cette sequence :"
   ]
  },
  {
   "cell_type": "code",
   "execution_count": null,
   "id": "unexpected-pointer",
   "metadata": {},
   "outputs": [],
   "source": []
  },
  {
   "cell_type": "markdown",
   "id": "mineral-alarm",
   "metadata": {},
   "source": [
    "Affichez la valeur du %GC avec deux chiffres après la virgule, sous la forme :\n",
    "```\n",
    "Le pourcentage de GC est : xx.xx\n",
    "```\n",
    "\n",
    "Vérfiez que vous obtenez le même résultat que dans la partie 1."
   ]
  },
  {
   "cell_type": "code",
   "execution_count": null,
   "id": "bronze-blogger",
   "metadata": {},
   "outputs": [],
   "source": []
  },
  {
   "cell_type": "markdown",
   "id": "special-louisville",
   "metadata": {},
   "source": []
  },
  {
   "cell_type": "markdown",
   "id": "mounted-element",
   "metadata": {},
   "source": [
    "## Partie 3 : Comparaison de génomes\n",
    "\n"
   ]
  }
 ],
 "metadata": {
  "kernelspec": {
   "display_name": "Python 3",
   "language": "python",
   "name": "python3"
  },
  "language_info": {
   "codemirror_mode": {
    "name": "ipython",
    "version": 3
   },
   "file_extension": ".py",
   "mimetype": "text/x-python",
   "name": "python",
   "nbconvert_exporter": "python",
   "pygments_lexer": "ipython3",
   "version": "3.8.8"
  }
 },
 "nbformat": 4,
 "nbformat_minor": 5
}
