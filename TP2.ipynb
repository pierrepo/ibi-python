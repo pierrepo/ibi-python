{
 "cells": [
  {
   "cell_type": "markdown",
   "id": "removable-beauty",
   "metadata": {},
   "source": [
    "# TP 2\n",
    "\n",
    "*Renommez ce notebook en y ajoutant vos initiales (par exemple `TP2_PP.ipynb`) et pensez à le sauvegarder régulièrement !*\n",
    "\n",
    "*Renseignez également ci-dessous vos prénoms et noms (double-cliquez pour éditer).*\n",
    "\n",
    "---\n",
    "\n",
    "Prénom :\n",
    "\n",
    "Nom :\n",
    "\n",
    "---"
   ]
  },
  {
   "cell_type": "markdown",
   "id": "nearby-crisis",
   "metadata": {},
   "source": [
    "## Partie 1 : Calcul du %GC pour le génome du Sars-Cov-2\n",
    "\n",
    "Le génome de référence du Sars-Cov-2 est disposnible sous l'identifiant [NC_045512](https://www.ncbi.nlm.nih.gov/nuccore/NC_045512) sur le site du NCBI. Il est constitué de 29903 bases.\n",
    "\n",
    "Le fichier `sars-cov-2.txt` contient le génome de ce virus. Toute la séquence se trouve sur une seule ligne.\n",
    "\n",
    "Pour lire ce fichier, extraire la séquence du génome de Sars-Cov-2 et la stocker dans la variable `sequence`, vous pouvez utiliser le code suivant :"
   ]
  },
  {
   "cell_type": "code",
   "execution_count": null,
   "id": "returning-crime",
   "metadata": {},
   "outputs": [],
   "source": [
    "with open(\"sars-cov-2.txt\", \"r\") as txt_file:\n",
    "    sequence = txt_file.read()"
   ]
  },
  {
   "cell_type": "markdown",
   "id": "quiet-nursing",
   "metadata": {},
   "source": [
    "Affichez la taille de la séquence lue dans la variable `sequence` :"
   ]
  },
  {
   "cell_type": "code",
   "execution_count": null,
   "id": "fluid-alert",
   "metadata": {},
   "outputs": [],
   "source": []
  },
  {
   "cell_type": "markdown",
   "id": "otherwise-colon",
   "metadata": {},
   "source": [
    "Vérifiez que les 10 premières bases de la séquence sont `ATTAAAGGTT` :"
   ]
  },
  {
   "cell_type": "code",
   "execution_count": null,
   "id": "muslim-hurricane",
   "metadata": {},
   "outputs": [],
   "source": []
  },
  {
   "cell_type": "markdown",
   "id": "different-cooper",
   "metadata": {},
   "source": [
    "Vérifiez que les 10 dernières bases de la séquence sont `AAAAAAAAAA` :"
   ]
  },
  {
   "cell_type": "code",
   "execution_count": null,
   "id": "motivated-allah",
   "metadata": {},
   "outputs": [],
   "source": []
  },
  {
   "cell_type": "markdown",
   "id": "continental-journal",
   "metadata": {},
   "source": [
    "Réutilisez le code de la partie 3 du TP1, pour calculer le %GC de cette sequence :"
   ]
  },
  {
   "cell_type": "code",
   "execution_count": null,
   "id": "crazy-dress",
   "metadata": {},
   "outputs": [],
   "source": []
  },
  {
   "cell_type": "markdown",
   "id": "taken-asthma",
   "metadata": {},
   "source": [
    "Affichez la valeur du %GC avec deux chiffres après la virgule, sous la forme :\n",
    "```\n",
    "Le pourcentage de GC est : xx.xx\n",
    "```"
   ]
  },
  {
   "cell_type": "code",
   "execution_count": null,
   "id": "understood-clerk",
   "metadata": {},
   "outputs": [],
   "source": []
  },
  {
   "cell_type": "code",
   "execution_count": null,
   "id": "related-sperm",
   "metadata": {},
   "outputs": [],
   "source": []
  },
  {
   "cell_type": "markdown",
   "id": "disciplinary-right",
   "metadata": {},
   "source": [
    "## Partie 2 : Calcul du %GC pour le génome du Sars-Cov-2 à partir d'un fichier au format FASTA\n",
    "\n",
    "### Format FASTA\n",
    "\n",
    "En biologie, les séquences ne se trouvent jamais sous la forme d'une séquence par ligne.\n",
    "\n",
    "Un format classique pour partager des séquences est le format FASTA :\n",
    "```\n",
    ">en-tête\n",
    "séquence avec un nombre maximum de caractères par ligne\n",
    "séquence avec un nombre maximum de caractères par ligne\n",
    "séquence avec un nombre maximum de caractères par ligne\n",
    "séquence avec un nombre maximum de caractères par ligne\n",
    "séquence avec un nombre max\n",
    "```\n",
    "\n",
    "Dans le cas du génome du Sars-cov-2 stocké au format FASTA dans le fichier `sars-cov-2.fasta`, les premières lignes sont :\n",
    "```\n",
    ">NC_045512.2 Severe acute respiratory syndrome coronavirus 2 isolate Wuhan-Hu-1, complete genome\n",
    "ATTAAAGGTTTATACCTTCCCAGGTAACAAACCAACCAACTTTCGATCTCTTGTAGATCTGTTCTCTAAA\n",
    "CGAACTTTAAAATCTGTGTGGCTGTCACTCGGCTGCATGCTTAGTGCACTCACGCAGTATAATTAATAAC\n",
    "TAATTACTGTCGTTGACAGGACACGAGTAACTCGTCTATCTTCTGCAGGCTGCTTACGGTTTCGTCCGTG\n",
    "TTGCAGCCGATCATCAGCACATCTAGGTTTCGTCCGGGTGTGACCGAAAGGTAAGATGGAGAGCCTTGTC\n",
    "CCTGGTTTCAACGAGAAAACACACGTCCAACTCAGTTTGCCTGTTTTACAGGTTCGCGACGTGCTCGTAC\n",
    "GTGGCTTTGGAGACTCCGTGGAGGAGGTCTTATCAGAGGCACGTCAACATCTTAAAGATGGCACTTGTGG\n",
    "CTTAGTAGAAGTTGAAAAAGGCGTTTTGCCTCAACTTGAACAGCCCTATGTGTTCATCAAACGTTCGGAT\n",
    "```\n",
    "\n",
    "Sachant que la séquence du Sars-cov-2 contient 29903 bases et que le `sars-cov-2.fasta` contient 70 bases par lignes, déterminez avec Python combien de lignes doit contenir le fichier `sars-cov-2.fasta` de la séquence du génome du Sars-cov-2 au format FASTA :"
   ]
  },
  {
   "cell_type": "code",
   "execution_count": null,
   "id": "funded-times",
   "metadata": {},
   "outputs": [],
   "source": []
  },
  {
   "cell_type": "markdown",
   "id": "atomic-cooper",
   "metadata": {},
   "source": [
    "Ouvrez le fichier `sars-cov-2.fasta` en double-cliquant sur le nom du fichier dans le navigateur de fichiers à gauche.\n",
    "\n",
    "Vérifiez que le nombre de lignes que vous avez calculé correspond bien au nombre de lignes dans le fichier.\n",
    "\n",
    "Remarque : le numéro de la ligne est affiché en gris à gauche de chaque ligne."
   ]
  },
  {
   "cell_type": "markdown",
   "id": "thousand-webcam",
   "metadata": {},
   "source": [
    "*double-cliquez sur cette cellule pour ajouter vos commentaires* "
   ]
  },
  {
   "cell_type": "markdown",
   "id": "general-bishop",
   "metadata": {},
   "source": [
    "### Lecture d'un séquence au format FASTA\n",
    "\n",
    "Pour lire une séquence au format FASTA, il faut se souvenir :\n",
    "- que la première ligne contient l'entête (l'identifiant + le nom + d'autres informations) ;\n",
    "- que la séquence est répartie sur les lignes suivantes.\n",
    "\n",
    "Voici un exemple de code qui vous pouvez utiliser pour lire la séquence depuis un fichier au format FASTA :"
   ]
  },
  {
   "cell_type": "code",
   "execution_count": null,
   "id": "blocked-stuart",
   "metadata": {},
   "outputs": [],
   "source": [
    "with open(\"sars-cov-2.fasta\", \"r\") as fasta_file:\n",
    "    header = \"\"\n",
    "    sequence = \"\"\n",
    "    for line in fasta_file:\n",
    "        if line.startswith(\">\"):\n",
    "            header = line.strip()\n",
    "        else:\n",
    "            sequence += line.strip()"
   ]
  },
  {
   "cell_type": "markdown",
   "id": "dried-telescope",
   "metadata": {},
   "source": [
    "L'entête est stocké dans la variable `header`. La séquence est stockée dans la variable `sequence`.\n",
    "\n",
    "Prenez quelques minutes pour comprendre le fonctionnement de ce code Python.\n",
    "\n",
    "Affichez ensuite l'entête :"
   ]
  },
  {
   "cell_type": "code",
   "execution_count": null,
   "id": "stylish-breach",
   "metadata": {},
   "outputs": [],
   "source": []
  },
  {
   "cell_type": "markdown",
   "id": "understood-document",
   "metadata": {},
   "source": [
    "Affichez la taille de la séquence :"
   ]
  },
  {
   "cell_type": "code",
   "execution_count": null,
   "id": "conservative-theorem",
   "metadata": {},
   "outputs": [],
   "source": []
  },
  {
   "cell_type": "markdown",
   "id": "narrow-swiss",
   "metadata": {},
   "source": [
    "Vérifiez que les 10 premières bases de la séquence sont `ATTAAAGGTT` :"
   ]
  },
  {
   "cell_type": "code",
   "execution_count": null,
   "id": "likely-seven",
   "metadata": {},
   "outputs": [],
   "source": []
  },
  {
   "cell_type": "markdown",
   "id": "smart-visibility",
   "metadata": {},
   "source": [
    "Vérifiez que les 10 dernières bases de la séquence sont `AAAAAAAAAA` :"
   ]
  },
  {
   "cell_type": "code",
   "execution_count": null,
   "id": "combined-essence",
   "metadata": {},
   "outputs": [],
   "source": []
  },
  {
   "cell_type": "markdown",
   "id": "adverse-lyric",
   "metadata": {},
   "source": [
    "Réutilisez le code de la partie 1 de ce TP, pour calculer le %GC de cette sequence :"
   ]
  },
  {
   "cell_type": "code",
   "execution_count": null,
   "id": "comfortable-discrimination",
   "metadata": {},
   "outputs": [],
   "source": []
  },
  {
   "cell_type": "markdown",
   "id": "buried-spell",
   "metadata": {},
   "source": [
    "Affichez la valeur du %GC avec deux chiffres après la virgule, sous la forme :\n",
    "```\n",
    "Le pourcentage de GC est : xx.xx\n",
    "```\n",
    "\n",
    "Vérifiez que vous obtenez le même résultat que dans la partie 1."
   ]
  },
  {
   "cell_type": "code",
   "execution_count": null,
   "id": "lined-finnish",
   "metadata": {},
   "outputs": [],
   "source": []
  },
  {
   "cell_type": "markdown",
   "id": "exclusive-packaging",
   "metadata": {},
   "source": []
  },
  {
   "cell_type": "markdown",
   "id": "looking-scheme",
   "metadata": {},
   "source": [
    "## Partie 3 : Comparaison de génomes\n",
    "\n",
    "La même procédure peut être utilisée pour étudier le génome d'un autre coronavirus : le [MERS-CoV](https://www.ncbi.nlm.nih.gov/nuccore/NC_019843).\n",
    "\n",
    "Réutilisez et adaptez le code précédant pour effectuer les étapes suivantes :\n",
    "\n",
    "1. Lire le fichier `mers-cov.fasta` et extraire la séquence du génome du MERS-Cov.\n",
    "2. Afficher la taille du génome et vérifier qu'elle correspond à celle indiquée sur [la page du NCBI](https://www.ncbi.nlm.nih.gov/nuccore/NC_019843).\n",
    "3. Calculer le %GC de ce génome.\n",
    "4. Afficher la valeur du %GC avec deux chiffres après la virgule.\n",
    "\n",
    "### Étape 1"
   ]
  },
  {
   "cell_type": "code",
   "execution_count": null,
   "id": "silver-retailer",
   "metadata": {},
   "outputs": [],
   "source": []
  },
  {
   "cell_type": "markdown",
   "id": "exempt-electricity",
   "metadata": {},
   "source": [
    "### Étape 2"
   ]
  },
  {
   "cell_type": "code",
   "execution_count": null,
   "id": "theoretical-third",
   "metadata": {},
   "outputs": [],
   "source": []
  },
  {
   "cell_type": "markdown",
   "id": "departmental-driving",
   "metadata": {},
   "source": [
    "### Étape 3"
   ]
  },
  {
   "cell_type": "code",
   "execution_count": null,
   "id": "center-dealer",
   "metadata": {},
   "outputs": [],
   "source": []
  },
  {
   "cell_type": "markdown",
   "id": "therapeutic-electron",
   "metadata": {},
   "source": [
    "### Étape 4"
   ]
  },
  {
   "cell_type": "code",
   "execution_count": null,
   "id": "another-camcorder",
   "metadata": {},
   "outputs": [],
   "source": []
  },
  {
   "cell_type": "code",
   "execution_count": null,
   "id": "tropical-islam",
   "metadata": {},
   "outputs": [],
   "source": []
  }
 ],
 "metadata": {
  "kernelspec": {
   "display_name": "Python 3",
   "language": "python",
   "name": "python3"
  },
  "language_info": {
   "codemirror_mode": {
    "name": "ipython",
    "version": 3
   },
   "file_extension": ".py",
   "mimetype": "text/x-python",
   "name": "python",
   "nbconvert_exporter": "python",
   "pygments_lexer": "ipython3",
   "version": "3.8.8"
  }
 },
 "nbformat": 4,
 "nbformat_minor": 5
}
