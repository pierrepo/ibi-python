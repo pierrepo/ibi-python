{
 "cells": [
  {
   "cell_type": "markdown",
   "id": "celtic-courage",
   "metadata": {},
   "source": [
    "# Affichage\n",
    "\n",
    "https://python.sdv.univ-paris-diderot.fr/03_affichage/\n",
    "\n",
    "La fonction `print()`"
   ]
  },
  {
   "cell_type": "code",
   "execution_count": null,
   "id": "early-plumbing",
   "metadata": {},
   "outputs": [],
   "source": [
    "print(\"Salut Python\")"
   ]
  },
  {
   "cell_type": "code",
   "execution_count": null,
   "id": "ecological-hammer",
   "metadata": {},
   "outputs": [],
   "source": [
    "print(42)"
   ]
  },
  {
   "cell_type": "code",
   "execution_count": null,
   "id": "familiar-legislation",
   "metadata": {},
   "outputs": [],
   "source": [
    "nombre = 3.14"
   ]
  },
  {
   "cell_type": "code",
   "execution_count": null,
   "id": "extra-universal",
   "metadata": {},
   "outputs": [],
   "source": [
    "print(nombre)"
   ]
  },
  {
   "cell_type": "markdown",
   "id": "internal-malpractice",
   "metadata": {},
   "source": [
    "Avec plusieurs arguments :"
   ]
  },
  {
   "cell_type": "code",
   "execution_count": null,
   "id": "personal-memorial",
   "metadata": {},
   "outputs": [],
   "source": [
    "name = \"Jean\" \n",
    "age = 20"
   ]
  },
  {
   "cell_type": "code",
   "execution_count": null,
   "id": "straight-demonstration",
   "metadata": {},
   "outputs": [],
   "source": [
    "print(name)\n",
    "print(age)"
   ]
  },
  {
   "cell_type": "code",
   "execution_count": null,
   "id": "alternative-annual",
   "metadata": {},
   "outputs": [],
   "source": [
    "print(name, age)"
   ]
  },
  {
   "cell_type": "code",
   "execution_count": null,
   "id": "adolescent-richards",
   "metadata": {},
   "outputs": [],
   "source": [
    "print(name, \"a\", age, \"ans\")"
   ]
  },
  {
   "cell_type": "code",
   "execution_count": null,
   "id": "social-tobacco",
   "metadata": {},
   "outputs": [],
   "source": []
  },
  {
   "cell_type": "markdown",
   "id": "common-billy",
   "metadata": {},
   "source": [
    "## Écriture formatée"
   ]
  },
  {
   "cell_type": "code",
   "execution_count": null,
   "id": "portuguese-large",
   "metadata": {},
   "outputs": [],
   "source": [
    "print(\"{} a {} ans\".format(name, age))"
   ]
  },
  {
   "cell_type": "code",
   "execution_count": null,
   "id": "attended-athens",
   "metadata": {},
   "outputs": [],
   "source": []
  },
  {
   "cell_type": "markdown",
   "id": "sensitive-elizabeth",
   "metadata": {},
   "source": [
    "### Contrôler le nombre de chiffres après la virgule :"
   ]
  },
  {
   "cell_type": "code",
   "execution_count": null,
   "id": "hollywood-current",
   "metadata": {},
   "outputs": [],
   "source": [
    "i = 34.7879783705980890\n",
    "print(i)"
   ]
  },
  {
   "cell_type": "markdown",
   "id": "prostate-works",
   "metadata": {},
   "source": [
    "Avec deux chiffres après la virgule :"
   ]
  },
  {
   "cell_type": "code",
   "execution_count": null,
   "id": "convenient-differential",
   "metadata": {},
   "outputs": [],
   "source": [
    "print(\"{:.2f}\".format(i))"
   ]
  },
  {
   "cell_type": "markdown",
   "id": "cutting-beast",
   "metadata": {},
   "source": [
    "Avec trois chiffres après la virgule :"
   ]
  },
  {
   "cell_type": "code",
   "execution_count": null,
   "id": "hired-symphony",
   "metadata": {},
   "outputs": [],
   "source": [
    "print(\"{:.3f}\".format(i))"
   ]
  },
  {
   "cell_type": "code",
   "execution_count": null,
   "id": "african-intermediate",
   "metadata": {},
   "outputs": [],
   "source": []
  },
  {
   "cell_type": "markdown",
   "id": "sustained-packing",
   "metadata": {},
   "source": [
    "### Contrôler l'alignement et la taille"
   ]
  },
  {
   "cell_type": "code",
   "execution_count": null,
   "id": "classified-madrid",
   "metadata": {},
   "outputs": [],
   "source": [
    "print(\"Salut {:>10s} !\".format(name))"
   ]
  },
  {
   "cell_type": "code",
   "execution_count": null,
   "id": "handmade-black",
   "metadata": {},
   "outputs": [],
   "source": [
    "print(\"Salut {:*>10s} !\".format(name))"
   ]
  },
  {
   "cell_type": "code",
   "execution_count": null,
   "id": "authorized-hazard",
   "metadata": {},
   "outputs": [],
   "source": [
    "print(\"Salut {:<10s} !\".format(name))"
   ]
  },
  {
   "cell_type": "code",
   "execution_count": null,
   "id": "first-atmosphere",
   "metadata": {},
   "outputs": [],
   "source": [
    "print(\"Salut {:^10s} !\".format(name))"
   ]
  },
  {
   "cell_type": "code",
   "execution_count": null,
   "id": "postal-tactics",
   "metadata": {},
   "outputs": [],
   "source": [
    "print(\"Salut {:*^10s} !\".format(name))"
   ]
  },
  {
   "cell_type": "code",
   "execution_count": null,
   "id": "velvet-arrest",
   "metadata": {},
   "outputs": [],
   "source": []
  }
 ],
 "metadata": {
  "kernelspec": {
   "display_name": "Python 3",
   "language": "python",
   "name": "python3"
  },
  "language_info": {
   "codemirror_mode": {
    "name": "ipython",
    "version": 3
   },
   "file_extension": ".py",
   "mimetype": "text/x-python",
   "name": "python",
   "nbconvert_exporter": "python",
   "pygments_lexer": "ipython3",
   "version": "3.8.8"
  }
 },
 "nbformat": 4,
 "nbformat_minor": 5
}
