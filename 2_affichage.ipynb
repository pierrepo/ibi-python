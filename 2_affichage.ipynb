{
 "cells": [
  {
   "cell_type": "markdown",
   "id": "wrong-philip",
   "metadata": {},
   "source": [
    "# Affichage\n",
    "\n",
    "https://python.sdv.univ-paris-diderot.fr/03_affichage/\n",
    "\n",
    "La fonction `print()`"
   ]
  },
  {
   "cell_type": "code",
   "execution_count": null,
   "id": "exciting-aquarium",
   "metadata": {},
   "outputs": [],
   "source": [
    "print(\"Salut Python\")"
   ]
  },
  {
   "cell_type": "code",
   "execution_count": null,
   "id": "induced-legislation",
   "metadata": {},
   "outputs": [],
   "source": [
    "print(42)"
   ]
  },
  {
   "cell_type": "code",
   "execution_count": null,
   "id": "cordless-paradise",
   "metadata": {},
   "outputs": [],
   "source": [
    "nombre = 3.14"
   ]
  },
  {
   "cell_type": "code",
   "execution_count": null,
   "id": "human-bullet",
   "metadata": {},
   "outputs": [],
   "source": [
    "print(nombre)"
   ]
  },
  {
   "cell_type": "markdown",
   "id": "excessive-roulette",
   "metadata": {},
   "source": [
    "Avec plusieurs arguments :"
   ]
  },
  {
   "cell_type": "code",
   "execution_count": null,
   "id": "external-sleeve",
   "metadata": {},
   "outputs": [],
   "source": [
    "name = \"Jean\" \n",
    "age = 20"
   ]
  },
  {
   "cell_type": "code",
   "execution_count": null,
   "id": "stupid-voice",
   "metadata": {},
   "outputs": [],
   "source": [
    "print(name)\n",
    "print(age)"
   ]
  },
  {
   "cell_type": "code",
   "execution_count": null,
   "id": "robust-ensemble",
   "metadata": {},
   "outputs": [],
   "source": [
    "print(name, age)"
   ]
  },
  {
   "cell_type": "code",
   "execution_count": null,
   "id": "common-creator",
   "metadata": {},
   "outputs": [],
   "source": [
    "print(name, \"a\", age, \"ans\")"
   ]
  },
  {
   "cell_type": "code",
   "execution_count": null,
   "id": "reasonable-authentication",
   "metadata": {},
   "outputs": [],
   "source": []
  },
  {
   "cell_type": "markdown",
   "id": "fifteen-commerce",
   "metadata": {},
   "source": [
    "## Écriture formatée"
   ]
  },
  {
   "cell_type": "code",
   "execution_count": null,
   "id": "mental-principal",
   "metadata": {},
   "outputs": [],
   "source": [
    "print(\"{} a {} ans\".format(name, age))"
   ]
  },
  {
   "cell_type": "code",
   "execution_count": null,
   "id": "joined-insider",
   "metadata": {},
   "outputs": [],
   "source": []
  },
  {
   "cell_type": "code",
   "execution_count": null,
   "id": "heard-spray",
   "metadata": {},
   "outputs": [],
   "source": [
    "i = 34.7879783705980890\n",
    "print(i)"
   ]
  },
  {
   "cell_type": "markdown",
   "id": "intermediate-xerox",
   "metadata": {},
   "source": [
    "### Contrôler le nombre de chiffres après la virgule :"
   ]
  },
  {
   "cell_type": "code",
   "execution_count": null,
   "id": "arabic-tobacco",
   "metadata": {},
   "outputs": [],
   "source": [
    "print(\"{:.2f}\".format(i))"
   ]
  },
  {
   "cell_type": "code",
   "execution_count": null,
   "id": "graphic-variable",
   "metadata": {},
   "outputs": [],
   "source": [
    "print(\"{:.3f}\".format(i))"
   ]
  },
  {
   "cell_type": "markdown",
   "id": "after-north",
   "metadata": {},
   "source": [
    "### Contrôler l'alignement"
   ]
  },
  {
   "cell_type": "code",
   "execution_count": null,
   "id": "frozen-laugh",
   "metadata": {},
   "outputs": [],
   "source": [
    "print(\"Salut {:>10s} !\".format(name))"
   ]
  },
  {
   "cell_type": "code",
   "execution_count": null,
   "id": "thirty-scroll",
   "metadata": {},
   "outputs": [],
   "source": [
    "print(\"Salut {:*>10s} !\".format(name))"
   ]
  },
  {
   "cell_type": "code",
   "execution_count": null,
   "id": "generous-wichita",
   "metadata": {},
   "outputs": [],
   "source": [
    "print(\"Salut {:<10s} !\".format(name))"
   ]
  },
  {
   "cell_type": "code",
   "execution_count": null,
   "id": "future-calcium",
   "metadata": {},
   "outputs": [],
   "source": [
    "print(\"Salut {:^10s} !\".format(name))"
   ]
  },
  {
   "cell_type": "code",
   "execution_count": null,
   "id": "optional-calvin",
   "metadata": {},
   "outputs": [],
   "source": [
    "print(\"Salut {:*^10s} !\".format(name))"
   ]
  },
  {
   "cell_type": "code",
   "execution_count": null,
   "id": "confident-comment",
   "metadata": {},
   "outputs": [],
   "source": []
  }
 ],
 "metadata": {
  "kernelspec": {
   "display_name": "Python 3",
   "language": "python",
   "name": "python3"
  },
  "language_info": {
   "codemirror_mode": {
    "name": "ipython",
    "version": 3
   },
   "file_extension": ".py",
   "mimetype": "text/x-python",
   "name": "python",
   "nbconvert_exporter": "python",
   "pygments_lexer": "ipython3",
   "version": "3.8.8"
  }
 },
 "nbformat": 4,
 "nbformat_minor": 5
}
