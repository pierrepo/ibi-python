{
 "cells": [
  {
   "cell_type": "markdown",
   "id": "satisfactory-links",
   "metadata": {},
   "source": [
    "# Boucles\n",
    "\n",
    "https://python.sdv.univ-paris-diderot.fr/05_boucles_comparaisons/\n",
    "\n",
    "Répéter des actions\n",
    "\n",
    "## Itération sur les éléments d'une liste"
   ]
  },
  {
   "cell_type": "code",
   "execution_count": null,
   "id": "above-flooring",
   "metadata": {},
   "outputs": [],
   "source": [
    "placard = [\"farine\", \"oeufs\", \"lait\", \"sucre\"]\n",
    "for ingredient in placard:\n",
    "    print(ingredient)"
   ]
  },
  {
   "cell_type": "markdown",
   "id": "frozen-winner",
   "metadata": {},
   "source": [
    "Remarques :\n",
    "\n",
    "- La variable *ingredient* est appelée *variable d'itération* et change de valeur à chaque itération de la boucle.\n",
    "- La ligne débutant par `for` se termine toujours par `:`\n",
    "- Le bloc d'instructions `print(ingredient)` est indenté : décalage vers la droite du contenu du bloc d'instructions."
   ]
  },
  {
   "cell_type": "code",
   "execution_count": null,
   "id": "passing-sperm",
   "metadata": {},
   "outputs": [],
   "source": []
  },
  {
   "cell_type": "code",
   "execution_count": null,
   "id": "engaged-financing",
   "metadata": {},
   "outputs": [],
   "source": [
    "placard = [\"farine\", \"oeufs\", \"lait\", \"sucre\"]\n",
    "\n",
    "for ingredient in placard:\n",
    "    print(\"J'ajoute un ingrédient :\")\n",
    "    print(ingredient)\n",
    "print(\"Les crèpes sont prêtes !\")"
   ]
  },
  {
   "cell_type": "markdown",
   "id": "chronic-dimension",
   "metadata": {},
   "source": [
    "Ici, le bloc d'instructions de la boucle `for` est composé des 2 instructions :\n",
    "```\n",
    "print(\"J'ajoute un ingrédient :\")\n",
    "print(ingredient)\n",
    "```\n",
    "\n",
    "L'instruction `print(\"Les crèpes sont prêtes !\")` est en dehors du bloc d'instructions."
   ]
  },
  {
   "cell_type": "code",
   "execution_count": null,
   "id": "surgical-edwards",
   "metadata": {},
   "outputs": [],
   "source": []
  },
  {
   "cell_type": "markdown",
   "id": "constant-constitutional",
   "metadata": {},
   "source": [
    "## Itération sur les caractères d'une chaîne de caractères"
   ]
  },
  {
   "cell_type": "code",
   "execution_count": null,
   "id": "thrown-louisville",
   "metadata": {},
   "outputs": [],
   "source": [
    "sequence = \"ATCG\"\n",
    "\n",
    "for base in sequence:\n",
    "    print(base)"
   ]
  },
  {
   "cell_type": "code",
   "execution_count": null,
   "id": "motivated-teaching",
   "metadata": {},
   "outputs": [],
   "source": [
    "sequence = \"ATCG\"\n",
    "\n",
    "for base in sequence:\n",
    "    print(\"La base est : {}\".format(base))"
   ]
  },
  {
   "cell_type": "code",
   "execution_count": null,
   "id": "returning-unemployment",
   "metadata": {},
   "outputs": [],
   "source": []
  },
  {
   "cell_type": "markdown",
   "id": "valued-sucking",
   "metadata": {},
   "source": [
    "# Tests\n",
    "\n",
    "https://python.sdv.univ-paris-diderot.fr/06_tests/\n",
    "\n",
    "Prendre des décisions"
   ]
  },
  {
   "cell_type": "code",
   "execution_count": null,
   "id": "disabled-utilization",
   "metadata": {},
   "outputs": [],
   "source": [
    "nombre = 2\n",
    "\n",
    "if nombre == 2:\n",
    "    print(\"Gagné !\")"
   ]
  },
  {
   "cell_type": "markdown",
   "id": "selective-shipping",
   "metadata": {},
   "source": [
    "Remarques :\n",
    "\n",
    "- `:` après `if`\n",
    "- Un bloc d'instructions après `if`"
   ]
  },
  {
   "cell_type": "markdown",
   "id": "handmade-prefix",
   "metadata": {},
   "source": [
    "## Tests à deux cas"
   ]
  },
  {
   "cell_type": "code",
   "execution_count": null,
   "id": "disabled-constitutional",
   "metadata": {},
   "outputs": [],
   "source": [
    "nombre = 2\n",
    "\n",
    "if nombre == 2:\n",
    "    print(\"Gagné !\")\n",
    "else:\n",
    "    print(\"Perdu !\")"
   ]
  },
  {
   "cell_type": "markdown",
   "id": "moral-effort",
   "metadata": {
    "tags": []
   },
   "source": [
    "Remarques :\n",
    "\n",
    "- `:` après `if` et `else`\n",
    "- Un bloc d'instructions après `if`\n",
    "- Un bloc d'instructions après `else`"
   ]
  },
  {
   "cell_type": "code",
   "execution_count": null,
   "id": "metropolitan-request",
   "metadata": {},
   "outputs": [],
   "source": []
  },
  {
   "cell_type": "markdown",
   "id": "presidential-adolescent",
   "metadata": {},
   "source": [
    "## Tests à plusieurs cas"
   ]
  },
  {
   "cell_type": "code",
   "execution_count": null,
   "id": "confident-margin",
   "metadata": {},
   "outputs": [],
   "source": [
    "base = \"T\""
   ]
  },
  {
   "cell_type": "code",
   "execution_count": null,
   "id": "expensive-emergency",
   "metadata": {},
   "outputs": [],
   "source": [
    "if base == \"A\":\n",
    "    print(\"Choix d'une adénine\")\n",
    "elif base == \"T\":\n",
    "    print(\"Choix d'une thymine\")\n",
    "elif base == \"C\":\n",
    "    print(\"Choix d'une cytosine\")\n",
    "elif base == \"G\":\n",
    "    print(\"Choix d'une guanine\")"
   ]
  },
  {
   "cell_type": "markdown",
   "id": "determined-finder",
   "metadata": {},
   "source": [
    "On peut également définir un cas « par défaut » avec `else` :"
   ]
  },
  {
   "cell_type": "code",
   "execution_count": null,
   "id": "specific-novel",
   "metadata": {},
   "outputs": [],
   "source": [
    "base = \"P\"\n",
    "\n",
    "if base == \"A\":\n",
    "    print(\"Choix d'une adénine\")\n",
    "elif base == \"T\":\n",
    "    print(\"Choix d'une thymine\")\n",
    "elif base == \"C\":\n",
    "    print(\"Choix d'une cytosine\")\n",
    "elif base == \"G\":\n",
    "    print(\"Choix d'une guanine\")\n",
    "else:\n",
    "    print(\"Révise ta biologie !\")"
   ]
  },
  {
   "cell_type": "markdown",
   "id": "international-metallic",
   "metadata": {},
   "source": [
    "## Tirage aléatoire"
   ]
  },
  {
   "cell_type": "code",
   "execution_count": null,
   "id": "worldwide-worse",
   "metadata": {},
   "outputs": [],
   "source": [
    "import random"
   ]
  },
  {
   "cell_type": "code",
   "execution_count": null,
   "id": "flying-czech",
   "metadata": {},
   "outputs": [],
   "source": [
    "random.choice([\"Sandra\", \"Julie\", \"Magali\", \"Benoist\", \"Hubert\"])"
   ]
  },
  {
   "cell_type": "code",
   "execution_count": null,
   "id": "blocked-stand",
   "metadata": {},
   "outputs": [],
   "source": []
  },
  {
   "cell_type": "code",
   "execution_count": null,
   "id": "decreased-aluminum",
   "metadata": {},
   "outputs": [],
   "source": []
  },
  {
   "cell_type": "code",
   "execution_count": null,
   "id": "fourth-tulsa",
   "metadata": {},
   "outputs": [],
   "source": [
    "base = random.choice([\"A\", \"T\", \"C\", \"G\"])\n",
    "\n",
    "if base == \"A\":\n",
    "    print(\"Choix d'une adénine\")\n",
    "elif base == \"T\":\n",
    "    print(\"Choix d'une thymine\")\n",
    "elif base == \"C\":\n",
    "    print(\"Choix d'une cytosine\")\n",
    "elif base == \"G\":\n",
    "    print(\"Choix d'une guanine\")"
   ]
  },
  {
   "cell_type": "markdown",
   "id": "center-bennett",
   "metadata": {},
   "source": [
    "Remarques :\n",
    "\n",
    "- `:` après `if` et `elif`\n",
    "- Un bloc d'instructions après `if`\n",
    "- Un bloc d'instructions après `elif`"
   ]
  },
  {
   "cell_type": "markdown",
   "id": "reliable-distributor",
   "metadata": {},
   "source": [
    "## Attention à l'indentation !"
   ]
  },
  {
   "cell_type": "code",
   "execution_count": null,
   "id": "suburban-offset",
   "metadata": {},
   "outputs": [],
   "source": [
    "nombres = [4, 5, 6]\n",
    "\n",
    "for nb in nombres:\n",
    "    if nb == 5:\n",
    "        print(\"Le test est vrai\")\n",
    "        print(\"car la variable nb vaut {}\".format(nb))"
   ]
  },
  {
   "cell_type": "code",
   "execution_count": null,
   "id": "amber-sperm",
   "metadata": {},
   "outputs": [],
   "source": [
    "nombres = [4, 5, 6]\n",
    "\n",
    "for nb in nombres:\n",
    "    if nb == 5:\n",
    "        print(\"Le test est vrai\")\n",
    "    print(\"car la variable nb vaut {}\".format(nb))"
   ]
  },
  {
   "cell_type": "code",
   "execution_count": null,
   "id": "radio-rachel",
   "metadata": {},
   "outputs": [],
   "source": []
  },
  {
   "cell_type": "markdown",
   "id": "subjective-hardware",
   "metadata": {},
   "source": [
    "# Exercices"
   ]
  },
  {
   "cell_type": "markdown",
   "id": "annual-concord",
   "metadata": {},
   "source": [
    "## Notes d'un étudiant\n",
    "\n",
    "Voici les notes d'un étudiant :\n"
   ]
  },
  {
   "cell_type": "code",
   "execution_count": null,
   "id": "criminal-planner",
   "metadata": {},
   "outputs": [],
   "source": [
    "notes = [14, 9, 6, 8, 12]"
   ]
  },
  {
   "cell_type": "markdown",
   "id": "furnished-adjustment",
   "metadata": {},
   "source": [
    "Calculez la moyenne de ces notes."
   ]
  },
  {
   "cell_type": "code",
   "execution_count": null,
   "id": "stylish-glenn",
   "metadata": {},
   "outputs": [],
   "source": []
  },
  {
   "cell_type": "markdown",
   "id": "suited-power",
   "metadata": {},
   "source": [
    "Utilisez l'écriture formatée pour afficher la valeur de la moyenne avec deux décimales."
   ]
  },
  {
   "cell_type": "code",
   "execution_count": null,
   "id": "bacterial-regular",
   "metadata": {},
   "outputs": [],
   "source": []
  },
  {
   "cell_type": "markdown",
   "id": "banned-bedroom",
   "metadata": {},
   "source": [
    "## Séquence complémentaire\n",
    "\n",
    "La liste ci-dessous représente la séquence d'un brin d'ADN :"
   ]
  },
  {
   "cell_type": "code",
   "execution_count": null,
   "id": "familiar-sensitivity",
   "metadata": {},
   "outputs": [],
   "source": [
    "sequence = [\"A\",\"C\",\"G\",\"T\",\"T\",\"A\",\"G\",\"C\",\"T\",\"A\",\"A\",\"C\",\"G\"]"
   ]
  },
  {
   "cell_type": "markdown",
   "id": "champion-savings",
   "metadata": {},
   "source": [
    "Créez un code qui transforme cette séquence en sa séquence complémentaire.\n",
    "\n",
    "Rappel : la séquence complémentaire s'obtient en remplaçant A par T, T par A, C par G et G par C."
   ]
  },
  {
   "cell_type": "code",
   "execution_count": null,
   "id": "apparent-wrapping",
   "metadata": {},
   "outputs": [],
   "source": []
  },
  {
   "cell_type": "code",
   "execution_count": null,
   "id": "narrative-consideration",
   "metadata": {},
   "outputs": [],
   "source": []
  }
 ],
 "metadata": {
  "kernelspec": {
   "display_name": "Python 3",
   "language": "python",
   "name": "python3"
  },
  "language_info": {
   "codemirror_mode": {
    "name": "ipython",
    "version": 3
   },
   "file_extension": ".py",
   "mimetype": "text/x-python",
   "name": "python",
   "nbconvert_exporter": "python",
   "pygments_lexer": "ipython3",
   "version": "3.8.8"
  },
  "toc-autonumbering": false,
  "toc-showcode": false,
  "toc-showmarkdowntxt": false
 },
 "nbformat": 4,
 "nbformat_minor": 5
}
