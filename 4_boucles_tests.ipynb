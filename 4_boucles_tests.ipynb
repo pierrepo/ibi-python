{
 "cells": [
  {
   "cell_type": "markdown",
   "id": "satisfactory-links",
   "metadata": {},
   "source": [
    "# Boucles\n",
    "\n",
    "https://python.sdv.univ-paris-diderot.fr/05_boucles_comparaisons/\n",
    "\n",
    "Répéter des actions\n",
    "\n",
    "## Itération sur les éléments d'une liste"
   ]
  },
  {
   "cell_type": "code",
   "execution_count": null,
   "id": "above-flooring",
   "metadata": {},
   "outputs": [],
   "source": [
    "placard = [\"farine\", \"oeufs\",  \"sucre\", \"lait\"]\n",
    "for ingredient in placard:\n",
    "    print(ingredient)"
   ]
  },
  {
   "cell_type": "markdown",
   "id": "frozen-winner",
   "metadata": {},
   "source": [
    "Remarques :\n",
    "\n",
    "- La variable *ingredient* est appelée *variable d'itération* et change de valeur à chaque itération de la boucle.\n",
    "- La ligne débutant par `for` se termine toujours par `:`\n",
    "- Le bloc d'instructions `print(ingredient)` est indenté, c'est-à-dire qu'il est décalé vers la droite de 4 espaces."
   ]
  },
  {
   "cell_type": "markdown",
   "id": "6565e533-f8b2-49d6-adbf-a02474a7224c",
   "metadata": {},
   "source": [
    "Un bloc d'instructions peut contenir plusieurs lignes :"
   ]
  },
  {
   "cell_type": "code",
   "execution_count": null,
   "id": "engaged-financing",
   "metadata": {},
   "outputs": [],
   "source": [
    "placard = [\"farine\", \"oeufs\",  \"sucre\", \"lait\"]\n",
    "\n",
    "for ingredient in placard:\n",
    "    print(\"J'ajoute un ingrédient :\")\n",
    "    print(ingredient)\n",
    "print(\"Les crèpes sont prêtes !\")"
   ]
  },
  {
   "cell_type": "markdown",
   "id": "chronic-dimension",
   "metadata": {},
   "source": [
    "Ici, le bloc d'instructions de la boucle `for` est composé des 2 instructions :\n",
    "```\n",
    "print(\"J'ajoute un ingrédient :\")\n",
    "print(ingredient)\n",
    "```\n",
    "\n",
    "L'instruction `print(\"Les crèpes sont prêtes !\")` est en dehors du bloc d'instructions de la boucle."
   ]
  },
  {
   "cell_type": "markdown",
   "id": "constant-constitutional",
   "metadata": {},
   "source": [
    "## Itération sur les caractères d'une chaîne de caractères"
   ]
  },
  {
   "cell_type": "code",
   "execution_count": null,
   "id": "thrown-louisville",
   "metadata": {},
   "outputs": [],
   "source": [
    "sequence = \"ATCG\"\n",
    "\n",
    "for base in sequence:\n",
    "    print(base)"
   ]
  },
  {
   "cell_type": "code",
   "execution_count": null,
   "id": "motivated-teaching",
   "metadata": {},
   "outputs": [],
   "source": [
    "sequence = \"ATCG\"\n",
    "\n",
    "for base in sequence:\n",
    "    print(\"La base est : {}\".format(base))"
   ]
  },
  {
   "cell_type": "code",
   "execution_count": null,
   "id": "returning-unemployment",
   "metadata": {},
   "outputs": [],
   "source": []
  },
  {
   "cell_type": "markdown",
   "id": "valued-sucking",
   "metadata": {},
   "source": [
    "# Tests\n",
    "\n",
    "https://python.sdv.univ-paris-diderot.fr/06_tests/\n",
    "\n",
    "Prendre des décisions"
   ]
  },
  {
   "cell_type": "code",
   "execution_count": null,
   "id": "disabled-utilization",
   "metadata": {},
   "outputs": [],
   "source": [
    "nombre = 2\n",
    "\n",
    "if nombre == 2:\n",
    "    print(\"Gagné !\")"
   ]
  },
  {
   "cell_type": "markdown",
   "id": "selective-shipping",
   "metadata": {},
   "source": [
    "Remarques :\n",
    "\n",
    "- La ligne débutant par  `if` se termine toujours par `:`\n",
    "- Un bloc d'instructions suit la ligne contenant `if`"
   ]
  },
  {
   "cell_type": "markdown",
   "id": "handmade-prefix",
   "metadata": {},
   "source": [
    "## Tests à deux cas"
   ]
  },
  {
   "cell_type": "code",
   "execution_count": null,
   "id": "disabled-constitutional",
   "metadata": {},
   "outputs": [],
   "source": [
    "nombre = 2\n",
    "\n",
    "if nombre == 2:\n",
    "    print(\"Gagné !\")\n",
    "else:\n",
    "    print(\"Perdu !\")"
   ]
  },
  {
   "cell_type": "markdown",
   "id": "moral-effort",
   "metadata": {
    "tags": []
   },
   "source": [
    "Remarques :\n",
    "\n",
    "- `:` après `if` et `else`\n",
    "- Un bloc d'instructions après `if`\n",
    "- Un bloc d'instructions après `else`"
   ]
  },
  {
   "cell_type": "code",
   "execution_count": null,
   "id": "metropolitan-request",
   "metadata": {},
   "outputs": [],
   "source": []
  },
  {
   "cell_type": "markdown",
   "id": "presidential-adolescent",
   "metadata": {},
   "source": [
    "## Tests à plusieurs cas"
   ]
  },
  {
   "cell_type": "code",
   "execution_count": null,
   "id": "confident-margin",
   "metadata": {},
   "outputs": [],
   "source": [
    "base = \"T\""
   ]
  },
  {
   "cell_type": "code",
   "execution_count": null,
   "id": "expensive-emergency",
   "metadata": {},
   "outputs": [],
   "source": [
    "if base == \"A\":\n",
    "    print(\"Choix d'une adénine\")\n",
    "elif base == \"T\":\n",
    "    print(\"Choix d'une thymine\")\n",
    "elif base == \"C\":\n",
    "    print(\"Choix d'une cytosine\")\n",
    "elif base == \"G\":\n",
    "    print(\"Choix d'une guanine\")"
   ]
  },
  {
   "cell_type": "markdown",
   "id": "determined-finder",
   "metadata": {},
   "source": [
    "On peut également définir un cas « par défaut » avec `else` :"
   ]
  },
  {
   "cell_type": "code",
   "execution_count": null,
   "id": "specific-novel",
   "metadata": {},
   "outputs": [],
   "source": [
    "base = \"P\"\n",
    "\n",
    "if base == \"A\":\n",
    "    print(\"Choix d'une adénine\")\n",
    "elif base == \"T\":\n",
    "    print(\"Choix d'une thymine\")\n",
    "elif base == \"C\":\n",
    "    print(\"Choix d'une cytosine\")\n",
    "elif base == \"G\":\n",
    "    print(\"Choix d'une guanine\")\n",
    "else:\n",
    "    print(\"Révise ta biologie !\")"
   ]
  },
  {
   "cell_type": "markdown",
   "id": "international-metallic",
   "metadata": {},
   "source": [
    "## Tirage aléatoire"
   ]
  },
  {
   "cell_type": "code",
   "execution_count": null,
   "id": "worldwide-worse",
   "metadata": {},
   "outputs": [],
   "source": [
    "import random"
   ]
  },
  {
   "cell_type": "code",
   "execution_count": null,
   "id": "flying-czech",
   "metadata": {},
   "outputs": [],
   "source": [
    "random.choice([\"Sandra\", \"Julie\", \"Magali\", \"Benoist\", \"Hubert\"])"
   ]
  },
  {
   "cell_type": "markdown",
   "id": "f73eb345-c6e8-4664-b094-0e77cc13c815",
   "metadata": {},
   "source": [
    "On peut choisir une base aléatoirement puis afficher son nom avec les instructions `if` et `elif` :"
   ]
  },
  {
   "cell_type": "code",
   "execution_count": null,
   "id": "fourth-tulsa",
   "metadata": {},
   "outputs": [],
   "source": [
    "base = random.choice([\"A\", \"T\", \"C\", \"G\"])\n",
    "\n",
    "if base == \"A\":\n",
    "    print(\"Choix d'une adénine\")\n",
    "elif base == \"T\":\n",
    "    print(\"Choix d'une thymine\")\n",
    "elif base == \"C\":\n",
    "    print(\"Choix d'une cytosine\")\n",
    "elif base == \"G\":\n",
    "    print(\"Choix d'une guanine\")"
   ]
  },
  {
   "cell_type": "markdown",
   "id": "center-bennett",
   "metadata": {},
   "source": [
    "Remarques :\n",
    "\n",
    "- `:` après `if` et `elif`\n",
    "- Un bloc d'instructions après `if`\n",
    "- Un bloc d'instructions après `elif`"
   ]
  },
  {
   "cell_type": "markdown",
   "id": "reliable-distributor",
   "metadata": {},
   "source": [
    "## Attention à l'indentation !"
   ]
  },
  {
   "cell_type": "code",
   "execution_count": null,
   "id": "suburban-offset",
   "metadata": {},
   "outputs": [],
   "source": [
    "nombres = [4, 5, 6]\n",
    "\n",
    "for nb in nombres:\n",
    "    if nb == 5:\n",
    "        print(\"Le test est vrai\")\n",
    "        print(\"car la variable nb vaut {}\".format(nb))"
   ]
  },
  {
   "cell_type": "code",
   "execution_count": null,
   "id": "amber-sperm",
   "metadata": {},
   "outputs": [],
   "source": [
    "nombres = [4, 5, 6]\n",
    "\n",
    "for nb in nombres:\n",
    "    if nb == 5:\n",
    "        print(\"Le test est vrai\")\n",
    "    print(\"car la variable nb vaut {}\".format(nb))"
   ]
  },
  {
   "cell_type": "code",
   "execution_count": null,
   "id": "radio-rachel",
   "metadata": {},
   "outputs": [],
   "source": []
  },
  {
   "cell_type": "markdown",
   "id": "subjective-hardware",
   "metadata": {},
   "source": [
    "# Exercices"
   ]
  },
  {
   "cell_type": "markdown",
   "id": "annual-concord",
   "metadata": {},
   "source": [
    "## Notes d'un étudiant\n",
    "\n",
    "Voici les notes d'un étudiant :\n"
   ]
  },
  {
   "cell_type": "code",
   "execution_count": null,
   "id": "criminal-planner",
   "metadata": {},
   "outputs": [],
   "source": [
    "notes = [14, 9, 6, 8, 12]"
   ]
  },
  {
   "cell_type": "markdown",
   "id": "furnished-adjustment",
   "metadata": {},
   "source": [
    "Calculez la moyenne de ces notes."
   ]
  },
  {
   "cell_type": "code",
   "execution_count": null,
   "id": "stylish-glenn",
   "metadata": {},
   "outputs": [],
   "source": []
  },
  {
   "cell_type": "markdown",
   "id": "suited-power",
   "metadata": {},
   "source": [
    "Utilisez l'écriture formatée pour afficher la valeur de la moyenne avec deux décimales."
   ]
  },
  {
   "cell_type": "code",
   "execution_count": null,
   "id": "bacterial-regular",
   "metadata": {},
   "outputs": [],
   "source": []
  },
  {
   "cell_type": "code",
   "execution_count": null,
   "id": "f381bcdf-bf8a-4e31-8bb7-247e2b2245c0",
   "metadata": {},
   "outputs": [],
   "source": []
  }
 ],
 "metadata": {
  "kernelspec": {
   "display_name": "Python 3 (ipykernel)",
   "language": "python",
   "name": "python3"
  },
  "language_info": {
   "codemirror_mode": {
    "name": "ipython",
    "version": 3
   },
   "file_extension": ".py",
   "mimetype": "text/x-python",
   "name": "python",
   "nbconvert_exporter": "python",
   "pygments_lexer": "ipython3",
   "version": "3.8.12"
  },
  "toc-autonumbering": false,
  "toc-showcode": false,
  "toc-showmarkdowntxt": false
 },
 "nbformat": 4,
 "nbformat_minor": 5
}
