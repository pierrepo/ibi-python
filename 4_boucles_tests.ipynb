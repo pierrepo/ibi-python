{
 "cells": [
  {
   "cell_type": "markdown",
   "id": "suburban-constant",
   "metadata": {},
   "source": [
    "# Boucles\n",
    "\n",
    "https://python.sdv.univ-paris-diderot.fr/05_boucles_comparaisons/\n",
    "\n",
    "Répéter des actions\n",
    "\n",
    "## Itération sur les éléments d'une liste"
   ]
  },
  {
   "cell_type": "code",
   "execution_count": null,
   "id": "still-nigeria",
   "metadata": {},
   "outputs": [],
   "source": [
    "placard = [\"farine\", \"oeufs\", \"lait\", \"sucre\"]\n",
    "for ingredient in placard:\n",
    "    print(ingredient)"
   ]
  },
  {
   "cell_type": "markdown",
   "id": "blank-concentration",
   "metadata": {},
   "source": [
    "Remarques :\n",
    "\n",
    "- La variable *ingredient* est appelée *variable d'itération* et change de valeur à chaque itération de la boucle.\n",
    "- La ligne débutant par `for` se termine toujours par `:`\n",
    "- Le bloc d'instructions `print(ingredient)` est indenté : décalage vers la droite du contenu du bloc d'instructions."
   ]
  },
  {
   "cell_type": "code",
   "execution_count": null,
   "id": "third-manchester",
   "metadata": {},
   "outputs": [],
   "source": []
  },
  {
   "cell_type": "code",
   "execution_count": null,
   "id": "finished-delight",
   "metadata": {},
   "outputs": [],
   "source": [
    "placard = [\"farine\", \"oeufs\", \"lait\", \"sucre\"]\n",
    "\n",
    "for ingredient in placard:\n",
    "    print(\"J'ajoute un ingrédient :\")\n",
    "    print(ingredient)\n",
    "print(\"Les crèpes sont prêtes !\")"
   ]
  },
  {
   "cell_type": "markdown",
   "id": "enclosed-logging",
   "metadata": {},
   "source": [
    "Ici, le bloc d'instructions de la boucle `for` est composé de :\n",
    "```\n",
    "print(\"J'ajoute un ingrédient :\")\n",
    "print(ingredient)\n",
    "```\n",
    "\n",
    "L'instruction `print(\"Les crèpes sont prêtes !\")` est en dehors du bloc d'instructions."
   ]
  },
  {
   "cell_type": "code",
   "execution_count": null,
   "id": "designing-animation",
   "metadata": {},
   "outputs": [],
   "source": []
  },
  {
   "cell_type": "markdown",
   "id": "altered-dodge",
   "metadata": {},
   "source": [
    "## Itération sur les caractères d'une chaîne de caractères"
   ]
  },
  {
   "cell_type": "code",
   "execution_count": null,
   "id": "german-layer",
   "metadata": {},
   "outputs": [],
   "source": [
    "sequence = \"ATCG\"\n",
    "\n",
    "for base in sequence:\n",
    "    print(base)"
   ]
  },
  {
   "cell_type": "code",
   "execution_count": null,
   "id": "fresh-greece",
   "metadata": {},
   "outputs": [],
   "source": [
    "sequence = \"ATCG\"\n",
    "\n",
    "for base in sequence:\n",
    "    print(\"La base est : {}\".format(base))"
   ]
  },
  {
   "cell_type": "code",
   "execution_count": null,
   "id": "czech-award",
   "metadata": {},
   "outputs": [],
   "source": []
  },
  {
   "cell_type": "markdown",
   "id": "persistent-error",
   "metadata": {},
   "source": [
    "# Tests\n",
    "\n",
    "https://python.sdv.univ-paris-diderot.fr/06_tests/\n",
    "\n",
    "Prendre des décisions"
   ]
  },
  {
   "cell_type": "code",
   "execution_count": null,
   "id": "unnecessary-checklist",
   "metadata": {},
   "outputs": [],
   "source": [
    "nombre = 2\n",
    "\n",
    "if nombre == 2:\n",
    "    print(\"Le test est vrai !\")"
   ]
  },
  {
   "cell_type": "markdown",
   "id": "about-cuisine",
   "metadata": {},
   "source": [
    "Remarques :\n",
    "\n",
    "- `:` après `if`\n",
    "- Un bloc d'instructions après `if`"
   ]
  },
  {
   "cell_type": "markdown",
   "id": "suburban-envelope",
   "metadata": {},
   "source": [
    "## Tests à deux cas"
   ]
  },
  {
   "cell_type": "code",
   "execution_count": null,
   "id": "compressed-jerusalem",
   "metadata": {},
   "outputs": [],
   "source": [
    "nombre = 2\n",
    "\n",
    "if nombre == 2:\n",
    "    print(\"Le test est vrai !\")\n",
    "else:\n",
    "    print(\"Le test n'est pas vrai.\")"
   ]
  },
  {
   "cell_type": "markdown",
   "id": "rotary-reconstruction",
   "metadata": {
    "tags": []
   },
   "source": [
    "Remarques :\n",
    "\n",
    "- `:` après `if` et `else`\n",
    "- Un bloc d'instructions après `if`\n",
    "- Un bloc d'instructions après `else`"
   ]
  },
  {
   "cell_type": "code",
   "execution_count": null,
   "id": "czech-edward",
   "metadata": {},
   "outputs": [],
   "source": []
  },
  {
   "cell_type": "markdown",
   "id": "completed-continent",
   "metadata": {},
   "source": [
    "## Tests à plusieurs cas"
   ]
  },
  {
   "cell_type": "code",
   "execution_count": null,
   "id": "seasonal-barrel",
   "metadata": {},
   "outputs": [],
   "source": [
    "base = \"T\""
   ]
  },
  {
   "cell_type": "code",
   "execution_count": null,
   "id": "inappropriate-nashville",
   "metadata": {},
   "outputs": [],
   "source": [
    "if base == \"A\":\n",
    "    print(\"Choix d'une adénine\")\n",
    "elif base == \"T\":\n",
    "    print(\"Choix d'une thymine\")\n",
    "elif base == \"C\":\n",
    "    print(\"Choix d'une cytosine\")\n",
    "elif base == \"G\":\n",
    "    print(\"Choix d'une guanine\")"
   ]
  },
  {
   "cell_type": "code",
   "execution_count": null,
   "id": "heard-filling",
   "metadata": {},
   "outputs": [],
   "source": []
  },
  {
   "cell_type": "markdown",
   "id": "noble-policy",
   "metadata": {},
   "source": [
    "## Tirage aléatoire"
   ]
  },
  {
   "cell_type": "code",
   "execution_count": null,
   "id": "going-change",
   "metadata": {},
   "outputs": [],
   "source": [
    "import random"
   ]
  },
  {
   "cell_type": "code",
   "execution_count": null,
   "id": "convertible-place",
   "metadata": {},
   "outputs": [],
   "source": [
    "random.choice([\"Sandra\", \"Julie\", \"Magali\", \"Benoist\", \"Hubert\"])"
   ]
  },
  {
   "cell_type": "code",
   "execution_count": null,
   "id": "explicit-wonder",
   "metadata": {},
   "outputs": [],
   "source": []
  },
  {
   "cell_type": "code",
   "execution_count": null,
   "id": "inappropriate-visit",
   "metadata": {},
   "outputs": [],
   "source": []
  },
  {
   "cell_type": "code",
   "execution_count": null,
   "id": "planned-snake",
   "metadata": {},
   "outputs": [],
   "source": [
    "base = random.choice([\"A\", \"T\", \"C\", \"G\"])\n",
    "\n",
    "if base == \"A\":\n",
    "    print(\"Choix d'une adénine\")\n",
    "elif base == \"T\":\n",
    "    print(\"Choix d'une thymine\")\n",
    "elif base == \"C\":\n",
    "    print(\"Choix d'une cytosine\")\n",
    "elif base == \"G\":\n",
    "    print(\"Choix d'une guanine\")"
   ]
  },
  {
   "cell_type": "markdown",
   "id": "experimental-zambia",
   "metadata": {},
   "source": [
    "Remarques :\n",
    "\n",
    "- `:` après `if` et `elif`\n",
    "- Un bloc d'instructions après `if`\n",
    "- Un bloc d'instructions après `elif`"
   ]
  },
  {
   "cell_type": "markdown",
   "id": "israeli-baker",
   "metadata": {},
   "source": [
    "## Attention à l'indentation !"
   ]
  },
  {
   "cell_type": "code",
   "execution_count": null,
   "id": "coordinated-exercise",
   "metadata": {},
   "outputs": [],
   "source": [
    "nombres = [4, 5, 6]\n",
    "\n",
    "for nb in nombres:\n",
    "    if nb == 5:\n",
    "        print(\"Le test est vrai\")\n",
    "        print(\"car la variable nb vaut {}\".format(nb))"
   ]
  },
  {
   "cell_type": "code",
   "execution_count": null,
   "id": "bacterial-attachment",
   "metadata": {},
   "outputs": [],
   "source": [
    "nombres = [4, 5, 6]\n",
    "\n",
    "for nb in nombres:\n",
    "    if nb == 5:\n",
    "        print(\"Le test est vrai\")\n",
    "    print(\"car la variable nb vaut {}\".format(nb))"
   ]
  },
  {
   "cell_type": "code",
   "execution_count": null,
   "id": "quarterly-australia",
   "metadata": {},
   "outputs": [],
   "source": []
  },
  {
   "cell_type": "code",
   "execution_count": null,
   "id": "impressive-lounge",
   "metadata": {},
   "outputs": [],
   "source": []
  }
 ],
 "metadata": {
  "kernelspec": {
   "display_name": "Python 3",
   "language": "python",
   "name": "python3"
  },
  "language_info": {
   "codemirror_mode": {
    "name": "ipython",
    "version": 3
   },
   "file_extension": ".py",
   "mimetype": "text/x-python",
   "name": "python",
   "nbconvert_exporter": "python",
   "pygments_lexer": "ipython3",
   "version": "3.8.8"
  },
  "toc-autonumbering": false,
  "toc-showcode": false,
  "toc-showmarkdowntxt": false
 },
 "nbformat": 4,
 "nbformat_minor": 5
}
