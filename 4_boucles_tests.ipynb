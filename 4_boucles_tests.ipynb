{
 "cells": [
  {
   "cell_type": "markdown",
   "id": "false-treasury",
   "metadata": {},
   "source": [
    "# Boucles\n",
    "\n",
    "https://python.sdv.univ-paris-diderot.fr/05_boucles_comparaisons/\n",
    "\n",
    "Répéter des actions\n",
    "\n",
    "## Itération sur les éléments d'une liste"
   ]
  },
  {
   "cell_type": "code",
   "execution_count": null,
   "id": "nutritional-ground",
   "metadata": {},
   "outputs": [],
   "source": [
    "placard = [\"farine\", \"oeufs\", \"lait\", \"sucre\"]\n",
    "for ingredient in placard:\n",
    "    print(ingredient)"
   ]
  },
  {
   "cell_type": "markdown",
   "id": "north-distribution",
   "metadata": {},
   "source": [
    "Remarques :\n",
    "\n",
    "- La variable *ingredient* est appelée *variable d'itération* et change de valeur à chaque itération de la boucle.\n",
    "- La ligne débutant par `for` se termine toujours par `:`\n",
    "- Le bloc d'instructions `print(ingredient)` est indenté : décalage vers la droite du contenu du bloc d'instructions."
   ]
  },
  {
   "cell_type": "code",
   "execution_count": null,
   "id": "threaded-cattle",
   "metadata": {},
   "outputs": [],
   "source": []
  },
  {
   "cell_type": "code",
   "execution_count": null,
   "id": "patent-mandate",
   "metadata": {},
   "outputs": [],
   "source": [
    "placard = [\"farine\", \"oeufs\", \"lait\", \"sucre\"]\n",
    "\n",
    "for ingredient in placard:\n",
    "    print(\"J'ajoute un ingrédient :\")\n",
    "    print(ingredient)\n",
    "print(\"Les crèpes sont prêtes !\")"
   ]
  },
  {
   "cell_type": "markdown",
   "id": "twelve-yorkshire",
   "metadata": {},
   "source": [
    "Ici, le bloc d'instructions de la boucle `for` est composé des 2 instructions :\n",
    "```\n",
    "print(\"J'ajoute un ingrédient :\")\n",
    "print(ingredient)\n",
    "```\n",
    "\n",
    "L'instruction `print(\"Les crèpes sont prêtes !\")` est en dehors du bloc d'instructions."
   ]
  },
  {
   "cell_type": "code",
   "execution_count": null,
   "id": "respective-solution",
   "metadata": {},
   "outputs": [],
   "source": []
  },
  {
   "cell_type": "markdown",
   "id": "detected-rating",
   "metadata": {},
   "source": [
    "## Itération sur les caractères d'une chaîne de caractères"
   ]
  },
  {
   "cell_type": "code",
   "execution_count": null,
   "id": "delayed-falls",
   "metadata": {},
   "outputs": [],
   "source": [
    "sequence = \"ATCG\"\n",
    "\n",
    "for base in sequence:\n",
    "    print(base)"
   ]
  },
  {
   "cell_type": "code",
   "execution_count": null,
   "id": "mechanical-investment",
   "metadata": {},
   "outputs": [],
   "source": [
    "sequence = \"ATCG\"\n",
    "\n",
    "for base in sequence:\n",
    "    print(\"La base est : {}\".format(base))"
   ]
  },
  {
   "cell_type": "code",
   "execution_count": null,
   "id": "interested-thursday",
   "metadata": {},
   "outputs": [],
   "source": []
  },
  {
   "cell_type": "markdown",
   "id": "norwegian-offset",
   "metadata": {},
   "source": [
    "# Tests\n",
    "\n",
    "https://python.sdv.univ-paris-diderot.fr/06_tests/\n",
    "\n",
    "Prendre des décisions"
   ]
  },
  {
   "cell_type": "code",
   "execution_count": null,
   "id": "multiple-lafayette",
   "metadata": {},
   "outputs": [],
   "source": [
    "nombre = 2\n",
    "\n",
    "if nombre == 2:\n",
    "    print(\"Gagné !\")"
   ]
  },
  {
   "cell_type": "markdown",
   "id": "complete-brake",
   "metadata": {},
   "source": [
    "Remarques :\n",
    "\n",
    "- `:` après `if`\n",
    "- Un bloc d'instructions après `if`"
   ]
  },
  {
   "cell_type": "markdown",
   "id": "formal-diagram",
   "metadata": {},
   "source": [
    "## Tests à deux cas"
   ]
  },
  {
   "cell_type": "code",
   "execution_count": null,
   "id": "purple-refund",
   "metadata": {},
   "outputs": [],
   "source": [
    "nombre = 2\n",
    "\n",
    "if nombre == 2:\n",
    "    print(\"Gagné !\")\n",
    "else:\n",
    "    print(\"Perdu !\")"
   ]
  },
  {
   "cell_type": "markdown",
   "id": "emerging-therapy",
   "metadata": {
    "tags": []
   },
   "source": [
    "Remarques :\n",
    "\n",
    "- `:` après `if` et `else`\n",
    "- Un bloc d'instructions après `if`\n",
    "- Un bloc d'instructions après `else`"
   ]
  },
  {
   "cell_type": "code",
   "execution_count": null,
   "id": "tight-conjunction",
   "metadata": {},
   "outputs": [],
   "source": []
  },
  {
   "cell_type": "markdown",
   "id": "bright-intent",
   "metadata": {},
   "source": [
    "## Tests à plusieurs cas"
   ]
  },
  {
   "cell_type": "code",
   "execution_count": null,
   "id": "banner-shareware",
   "metadata": {},
   "outputs": [],
   "source": [
    "base = \"T\""
   ]
  },
  {
   "cell_type": "code",
   "execution_count": null,
   "id": "successful-peninsula",
   "metadata": {},
   "outputs": [],
   "source": [
    "if base == \"A\":\n",
    "    print(\"Choix d'une adénine\")\n",
    "elif base == \"T\":\n",
    "    print(\"Choix d'une thymine\")\n",
    "elif base == \"C\":\n",
    "    print(\"Choix d'une cytosine\")\n",
    "elif base == \"G\":\n",
    "    print(\"Choix d'une guanine\")"
   ]
  },
  {
   "cell_type": "code",
   "execution_count": null,
   "id": "defensive-cornell",
   "metadata": {},
   "outputs": [],
   "source": []
  },
  {
   "cell_type": "markdown",
   "id": "suffering-polyester",
   "metadata": {},
   "source": [
    "## Tirage aléatoire"
   ]
  },
  {
   "cell_type": "code",
   "execution_count": null,
   "id": "changed-religious",
   "metadata": {},
   "outputs": [],
   "source": [
    "import random"
   ]
  },
  {
   "cell_type": "code",
   "execution_count": null,
   "id": "individual-double",
   "metadata": {},
   "outputs": [],
   "source": [
    "random.choice([\"Sandra\", \"Julie\", \"Magali\", \"Benoist\", \"Hubert\"])"
   ]
  },
  {
   "cell_type": "code",
   "execution_count": null,
   "id": "italian-graph",
   "metadata": {},
   "outputs": [],
   "source": []
  },
  {
   "cell_type": "code",
   "execution_count": null,
   "id": "private-concept",
   "metadata": {},
   "outputs": [],
   "source": []
  },
  {
   "cell_type": "code",
   "execution_count": null,
   "id": "powered-christmas",
   "metadata": {},
   "outputs": [],
   "source": [
    "base = random.choice([\"A\", \"T\", \"C\", \"G\"])\n",
    "\n",
    "if base == \"A\":\n",
    "    print(\"Choix d'une adénine\")\n",
    "elif base == \"T\":\n",
    "    print(\"Choix d'une thymine\")\n",
    "elif base == \"C\":\n",
    "    print(\"Choix d'une cytosine\")\n",
    "elif base == \"G\":\n",
    "    print(\"Choix d'une guanine\")"
   ]
  },
  {
   "cell_type": "markdown",
   "id": "serious-helping",
   "metadata": {},
   "source": [
    "Remarques :\n",
    "\n",
    "- `:` après `if` et `elif`\n",
    "- Un bloc d'instructions après `if`\n",
    "- Un bloc d'instructions après `elif`"
   ]
  },
  {
   "cell_type": "markdown",
   "id": "driving-greensboro",
   "metadata": {},
   "source": [
    "## Attention à l'indentation !"
   ]
  },
  {
   "cell_type": "code",
   "execution_count": null,
   "id": "comparable-danger",
   "metadata": {},
   "outputs": [],
   "source": [
    "nombres = [4, 5, 6]\n",
    "\n",
    "for nb in nombres:\n",
    "    if nb == 5:\n",
    "        print(\"Le test est vrai\")\n",
    "        print(\"car la variable nb vaut {}\".format(nb))"
   ]
  },
  {
   "cell_type": "code",
   "execution_count": null,
   "id": "distinguished-amazon",
   "metadata": {},
   "outputs": [],
   "source": [
    "nombres = [4, 5, 6]\n",
    "\n",
    "for nb in nombres:\n",
    "    if nb == 5:\n",
    "        print(\"Le test est vrai\")\n",
    "    print(\"car la variable nb vaut {}\".format(nb))"
   ]
  },
  {
   "cell_type": "code",
   "execution_count": null,
   "id": "through-costs",
   "metadata": {},
   "outputs": [],
   "source": []
  },
  {
   "cell_type": "markdown",
   "id": "appreciated-breast",
   "metadata": {},
   "source": [
    "# Exercices"
   ]
  },
  {
   "cell_type": "markdown",
   "id": "smaller-committee",
   "metadata": {},
   "source": [
    "## Notes d'un étudiant\n",
    "\n",
    "Voici les notes d'un étudiant :\n"
   ]
  },
  {
   "cell_type": "code",
   "execution_count": 2,
   "id": "minor-redhead",
   "metadata": {},
   "outputs": [],
   "source": [
    "notes = [14, 9, 6, 8, 12]"
   ]
  },
  {
   "cell_type": "markdown",
   "id": "unlikely-lecture",
   "metadata": {},
   "source": [
    "Calculez la moyenne de ces notes. Utilisez l'écriture formatée pour afficher la valeur de la moyenne avec deux décimales."
   ]
  },
  {
   "cell_type": "code",
   "execution_count": null,
   "id": "electronic-episode",
   "metadata": {},
   "outputs": [],
   "source": []
  },
  {
   "cell_type": "code",
   "execution_count": null,
   "id": "powered-penalty",
   "metadata": {},
   "outputs": [],
   "source": []
  },
  {
   "cell_type": "markdown",
   "id": "accurate-kruger",
   "metadata": {},
   "source": [
    "## Séquence complémentaire\n",
    "\n",
    "La liste ci-dessous représente la séquence d'un brin d'ADN :"
   ]
  },
  {
   "cell_type": "code",
   "execution_count": 4,
   "id": "separated-lebanon",
   "metadata": {},
   "outputs": [],
   "source": [
    "sequence = [\"A\",\"C\",\"G\",\"T\",\"T\",\"A\",\"G\",\"C\",\"T\",\"A\",\"A\",\"C\",\"G\"]"
   ]
  },
  {
   "cell_type": "markdown",
   "id": "necessary-depression",
   "metadata": {},
   "source": [
    "Créez un code qui transforme cette séquence en sa séquence complémentaire.\n",
    "\n",
    "Rappel : la séquence complémentaire s'obtient en remplaçant A par T, T par A, C par G et G par C."
   ]
  },
  {
   "cell_type": "code",
   "execution_count": null,
   "id": "subjective-traffic",
   "metadata": {},
   "outputs": [],
   "source": []
  },
  {
   "cell_type": "code",
   "execution_count": null,
   "id": "african-notion",
   "metadata": {},
   "outputs": [],
   "source": []
  }
 ],
 "metadata": {
  "kernelspec": {
   "display_name": "Python 3",
   "language": "python",
   "name": "python3"
  },
  "language_info": {
   "codemirror_mode": {
    "name": "ipython",
    "version": 3
   },
   "file_extension": ".py",
   "mimetype": "text/x-python",
   "name": "python",
   "nbconvert_exporter": "python",
   "pygments_lexer": "ipython3",
   "version": "3.8.8"
  },
  "toc-autonumbering": false,
  "toc-showcode": false,
  "toc-showmarkdowntxt": false
 },
 "nbformat": 4,
 "nbformat_minor": 5
}
