{
 "cells": [
  {
   "cell_type": "markdown",
   "id": "developmental-liberty",
   "metadata": {},
   "source": [
    "# Boucles\n",
    "\n",
    "https://python.sdv.univ-paris-diderot.fr/05_boucles_comparaisons/\n",
    "\n",
    "Répéter des actions\n",
    "\n",
    "## Itération sur les éléments d'une liste"
   ]
  },
  {
   "cell_type": "code",
   "execution_count": null,
   "id": "prime-helen",
   "metadata": {},
   "outputs": [],
   "source": [
    "placard = [\"farine\", \"oeufs\", \"lait\", \"sucre\"]\n",
    "for ingredient in placard:\n",
    "    print(ingredient)"
   ]
  },
  {
   "cell_type": "markdown",
   "id": "nearby-observation",
   "metadata": {},
   "source": [
    "Remarques :\n",
    "\n",
    "- La variable *ingredient* est appelée *variable d'itération* et change de valeur à chaque itération de la boucle.\n",
    "- La ligne débutant par `for` se termine toujours par `:`\n",
    "- Le bloc d'instructions `print(ingredient)` est indenté : décalage vers la droite du contenu du bloc d'instructions."
   ]
  },
  {
   "cell_type": "code",
   "execution_count": null,
   "id": "devoted-click",
   "metadata": {},
   "outputs": [],
   "source": []
  },
  {
   "cell_type": "code",
   "execution_count": null,
   "id": "bearing-russell",
   "metadata": {},
   "outputs": [],
   "source": [
    "placard = [\"farine\", \"oeufs\", \"lait\", \"sucre\"]\n",
    "\n",
    "for ingredient in placard:\n",
    "    print(\"J'ajoute un ingrédient :\")\n",
    "    print(ingredient)\n",
    "print(\"Les crèpes sont prêtes !\")"
   ]
  },
  {
   "cell_type": "markdown",
   "id": "immune-maple",
   "metadata": {},
   "source": [
    "Ici, le bloc d'instructions de la boucle `for` est composé de :\n",
    "```\n",
    "print(\"J'ajoute un ingrédient :\")\n",
    "print(ingredient)\n",
    "```\n",
    "\n",
    "L'instruction `print(\"Les crèpes sont prêtes !\")` est en dehors du bloc d'instructions."
   ]
  },
  {
   "cell_type": "code",
   "execution_count": null,
   "id": "brown-shirt",
   "metadata": {},
   "outputs": [],
   "source": []
  },
  {
   "cell_type": "markdown",
   "id": "rolled-newton",
   "metadata": {},
   "source": [
    "## Itération sur les caractères d'une chaîne de caractères"
   ]
  },
  {
   "cell_type": "code",
   "execution_count": null,
   "id": "understood-cement",
   "metadata": {},
   "outputs": [],
   "source": [
    "sequence = \"ATCG\"\n",
    "\n",
    "for base in sequence:\n",
    "    print(base)"
   ]
  },
  {
   "cell_type": "code",
   "execution_count": null,
   "id": "veterinary-sailing",
   "metadata": {},
   "outputs": [],
   "source": [
    "sequence = \"ATCG\"\n",
    "\n",
    "for base in sequence:\n",
    "    print(\"La base est : {}\".format(base))"
   ]
  },
  {
   "cell_type": "code",
   "execution_count": null,
   "id": "controversial-albania",
   "metadata": {},
   "outputs": [],
   "source": []
  },
  {
   "cell_type": "markdown",
   "id": "drawn-contemporary",
   "metadata": {},
   "source": [
    "# Tests\n",
    "\n",
    "https://python.sdv.univ-paris-diderot.fr/06_tests/\n",
    "\n",
    "Prendre des décisions"
   ]
  },
  {
   "cell_type": "code",
   "execution_count": null,
   "id": "official-wallet",
   "metadata": {},
   "outputs": [],
   "source": [
    "nombre = 2\n",
    "\n",
    "if nombre == 2:\n",
    "    print(\"Le test est vrai !\")"
   ]
  },
  {
   "cell_type": "markdown",
   "id": "desirable-creator",
   "metadata": {},
   "source": [
    "Remarques :\n",
    "\n",
    "- `:` après `if`\n",
    "- Un bloc d'instructions après `if`"
   ]
  },
  {
   "cell_type": "markdown",
   "id": "animal-chorus",
   "metadata": {},
   "source": [
    "## Tests à deux cas"
   ]
  },
  {
   "cell_type": "code",
   "execution_count": null,
   "id": "decreased-collect",
   "metadata": {},
   "outputs": [],
   "source": [
    "nombre = 2\n",
    "\n",
    "if nombre == 2:\n",
    "    print(\"Le test est vrai !\")\n",
    "else:\n",
    "    print(\"Le test n'est pas vrai.\")"
   ]
  },
  {
   "cell_type": "markdown",
   "id": "opponent-pendant",
   "metadata": {
    "tags": []
   },
   "source": [
    "Remarques :\n",
    "\n",
    "- `:` après `if` et `else`\n",
    "- Un bloc d'instructions après `if`\n",
    "- Un bloc d'instructions après `else`"
   ]
  },
  {
   "cell_type": "code",
   "execution_count": null,
   "id": "equipped-genius",
   "metadata": {},
   "outputs": [],
   "source": []
  },
  {
   "cell_type": "markdown",
   "id": "integral-september",
   "metadata": {},
   "source": [
    "## Tests à plusieurs cas"
   ]
  },
  {
   "cell_type": "code",
   "execution_count": null,
   "id": "funny-factory",
   "metadata": {},
   "outputs": [],
   "source": [
    "base = \"T\""
   ]
  },
  {
   "cell_type": "code",
   "execution_count": null,
   "id": "unavailable-nutrition",
   "metadata": {},
   "outputs": [],
   "source": [
    "if base == \"A\":\n",
    "    print(\"Choix d'une adénine\")\n",
    "elif base == \"T\":\n",
    "    print(\"Choix d'une thymine\")\n",
    "elif base == \"C\":\n",
    "    print(\"Choix d'une cytosine\")\n",
    "elif base == \"G\":\n",
    "    print(\"Choix d'une guanine\")"
   ]
  },
  {
   "cell_type": "code",
   "execution_count": null,
   "id": "heavy-joint",
   "metadata": {},
   "outputs": [],
   "source": []
  },
  {
   "cell_type": "markdown",
   "id": "burning-biodiversity",
   "metadata": {},
   "source": [
    "## Tirage aléatoire"
   ]
  },
  {
   "cell_type": "code",
   "execution_count": null,
   "id": "committed-congress",
   "metadata": {},
   "outputs": [],
   "source": [
    "import random"
   ]
  },
  {
   "cell_type": "code",
   "execution_count": null,
   "id": "contained-passion",
   "metadata": {},
   "outputs": [],
   "source": [
    "random.choice([\"Sandra\", \"Julie\", \"Magali\", \"Benoist\", \"Hubert\"])"
   ]
  },
  {
   "cell_type": "code",
   "execution_count": null,
   "id": "crude-complexity",
   "metadata": {},
   "outputs": [],
   "source": []
  },
  {
   "cell_type": "code",
   "execution_count": null,
   "id": "assured-conviction",
   "metadata": {},
   "outputs": [],
   "source": []
  },
  {
   "cell_type": "code",
   "execution_count": null,
   "id": "particular-collector",
   "metadata": {},
   "outputs": [],
   "source": [
    "base = random.choice([\"A\", \"T\", \"C\", \"G\"])\n",
    "\n",
    "if base == \"A\":\n",
    "    print(\"Choix d'une adénine\")\n",
    "elif base == \"T\":\n",
    "    print(\"Choix d'une thymine\")\n",
    "elif base == \"C\":\n",
    "    print(\"Choix d'une cytosine\")\n",
    "elif base == \"G\":\n",
    "    print(\"Choix d'une guanine\")"
   ]
  },
  {
   "cell_type": "markdown",
   "id": "industrial-navigation",
   "metadata": {},
   "source": [
    "Remarques :\n",
    "\n",
    "- `:` après `if` et `elif`\n",
    "- Un bloc d'instructions après `if`\n",
    "- Un bloc d'instructions après `elif`"
   ]
  },
  {
   "cell_type": "markdown",
   "id": "neutral-hotel",
   "metadata": {},
   "source": [
    "## Attention à l'indentation !"
   ]
  },
  {
   "cell_type": "code",
   "execution_count": null,
   "id": "considerable-safety",
   "metadata": {},
   "outputs": [],
   "source": [
    "nombres = [4, 5, 6]\n",
    "\n",
    "for nb in nombres:\n",
    "    if nb == 5:\n",
    "        print(\"Le test est vrai\")\n",
    "        print(\"car la variable nb vaut {}\".format(nb))"
   ]
  },
  {
   "cell_type": "code",
   "execution_count": null,
   "id": "administrative-calculation",
   "metadata": {},
   "outputs": [],
   "source": [
    "nombres = [4, 5, 6]\n",
    "\n",
    "for nb in nombres:\n",
    "    if nb == 5:\n",
    "        print(\"Le test est vrai\")\n",
    "    print(\"car la variable nb vaut {}\".format(nb))"
   ]
  },
  {
   "cell_type": "code",
   "execution_count": null,
   "id": "outside-glucose",
   "metadata": {},
   "outputs": [],
   "source": []
  },
  {
   "cell_type": "markdown",
   "id": "straight-chosen",
   "metadata": {},
   "source": [
    "# Exercices"
   ]
  },
  {
   "cell_type": "markdown",
   "id": "aerial-crossing",
   "metadata": {},
   "source": [
    "Voici les notes d'un étudiant : \n",
    "```\n",
    "[14, 9, 6, 8, 12]\n",
    "```\n",
    "Calculez la moyenne de ces notes. Utilisez l'écriture formatée pour afficher la valeur de la moyenne avec deux décimales."
   ]
  },
  {
   "cell_type": "code",
   "execution_count": null,
   "id": "municipal-grammar",
   "metadata": {},
   "outputs": [],
   "source": []
  },
  {
   "cell_type": "markdown",
   "id": "worth-ensemble",
   "metadata": {},
   "source": [
    "La liste ci-dessous représente la séquence d'un brin d'ADN :\n",
    "```\n",
    "[\"A\",\"C\",\"G\",\"T\",\"T\",\"A\",\"G\",\"C\",\"T\",\"A\",\"A\",\"C\",\"G\"]\n",
    "```\n",
    "Créez un code qui transforme cette séquence en sa séquence complémentaire.\n",
    "\n",
    "Rappel : la séquence complémentaire s'obtient en remplaçant A par T, T par A, C par G et G par C."
   ]
  },
  {
   "cell_type": "code",
   "execution_count": null,
   "id": "interesting-organization",
   "metadata": {},
   "outputs": [],
   "source": []
  }
 ],
 "metadata": {
  "kernelspec": {
   "display_name": "Python 3",
   "language": "python",
   "name": "python3"
  },
  "language_info": {
   "codemirror_mode": {
    "name": "ipython",
    "version": 3
   },
   "file_extension": ".py",
   "mimetype": "text/x-python",
   "name": "python",
   "nbconvert_exporter": "python",
   "pygments_lexer": "ipython3",
   "version": "3.8.8"
  },
  "toc-autonumbering": false,
  "toc-showcode": false,
  "toc-showmarkdowntxt": false
 },
 "nbformat": 4,
 "nbformat_minor": 5
}
