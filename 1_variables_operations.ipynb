{
 "cells": [
  {
   "cell_type": "markdown",
   "id": "balanced-entertainment",
   "metadata": {},
   "source": [
    "# Variables\n",
    "\n",
    "https://python.sdv.univ-paris-diderot.fr/02_variables/\n",
    "\n",
    "Variables dites « simples ».\n",
    "\n",
    "Python pratique le *duck typing*, c'est-à-dire qu'il devine le type d'une variable automatiquement.\n",
    "\n",
    "## Entiers"
   ]
  },
  {
   "cell_type": "code",
   "execution_count": null,
   "id": "optical-possible",
   "metadata": {},
   "outputs": [],
   "source": [
    "a = 10"
   ]
  },
  {
   "cell_type": "markdown",
   "id": "hungarian-charge",
   "metadata": {
    "tags": []
   },
   "source": [
    "Le simple fait d'entrer le nom d'une variable seule dans une cellule, ou à la fin d'une cellule, affiche le contenu de cette variable."
   ]
  },
  {
   "cell_type": "code",
   "execution_count": null,
   "id": "aerial-series",
   "metadata": {},
   "outputs": [],
   "source": [
    "a"
   ]
  },
  {
   "cell_type": "code",
   "execution_count": null,
   "id": "sunrise-information",
   "metadata": {},
   "outputs": [],
   "source": [
    "b = -3\n",
    "b"
   ]
  },
  {
   "cell_type": "code",
   "execution_count": null,
   "id": "pacific-interaction",
   "metadata": {},
   "outputs": [],
   "source": []
  },
  {
   "cell_type": "markdown",
   "id": "crude-louisiana",
   "metadata": {},
   "source": [
    "## *Floats* (réels)"
   ]
  },
  {
   "cell_type": "code",
   "execution_count": null,
   "id": "behavioral-former",
   "metadata": {},
   "outputs": [],
   "source": [
    "c = 3.14"
   ]
  },
  {
   "cell_type": "code",
   "execution_count": null,
   "id": "fresh-astrology",
   "metadata": {},
   "outputs": [],
   "source": [
    "c"
   ]
  },
  {
   "cell_type": "markdown",
   "id": "severe-stocks",
   "metadata": {},
   "source": [
    "## Chaînes de caractères (*string*, *str*) "
   ]
  },
  {
   "cell_type": "code",
   "execution_count": null,
   "id": "outdoor-missile",
   "metadata": {},
   "outputs": [],
   "source": [
    "seq1 = 'CGAT'"
   ]
  },
  {
   "cell_type": "code",
   "execution_count": null,
   "id": "framed-maldives",
   "metadata": {},
   "outputs": [],
   "source": [
    "seq1"
   ]
  },
  {
   "cell_type": "code",
   "execution_count": null,
   "id": "dying-personal",
   "metadata": {},
   "outputs": [],
   "source": [
    "seq2 = \"ATCGCG\""
   ]
  },
  {
   "cell_type": "code",
   "execution_count": null,
   "id": "naughty-execution",
   "metadata": {},
   "outputs": [],
   "source": [
    "seq2"
   ]
  },
  {
   "cell_type": "markdown",
   "id": "healthy-burning",
   "metadata": {},
   "source": [
    "Fonction `len()` : renvoie la taille d'une chaîne de caractères (le nombre de caractères)"
   ]
  },
  {
   "cell_type": "code",
   "execution_count": null,
   "id": "southeast-premiere",
   "metadata": {},
   "outputs": [],
   "source": [
    "len(seq1)"
   ]
  },
  {
   "cell_type": "markdown",
   "id": "swiss-blank",
   "metadata": {},
   "source": [
    "len(seq2)"
   ]
  },
  {
   "cell_type": "markdown",
   "id": "specialized-kinase",
   "metadata": {},
   "source": [
    "## Nommage des variables\n",
    "\n",
    "```\n",
    "abcdefghijklmnopqrstuvwxyz\n",
    "ABCDEFGHIJKLMNOPQRSTUVWXYZ\n",
    "0123456789\n",
    "_\n",
    "```\n",
    "\n",
    "Les noms de variables débutent par une lettre et sont **explicites**."
   ]
  },
  {
   "cell_type": "code",
   "execution_count": null,
   "id": "drawn-winning",
   "metadata": {},
   "outputs": [],
   "source": [
    "bases = \"ATCG\""
   ]
  },
  {
   "cell_type": "code",
   "execution_count": null,
   "id": "classified-aurora",
   "metadata": {},
   "outputs": [],
   "source": [
    "taille_sequence = 24"
   ]
  },
  {
   "cell_type": "code",
   "execution_count": null,
   "id": "blind-message",
   "metadata": {},
   "outputs": [],
   "source": [
    "moyenne_S2 = 16"
   ]
  },
  {
   "cell_type": "markdown",
   "id": "killing-layout",
   "metadata": {},
   "source": [
    "# Opérations\n",
    "\n",
    "## Types arithmétiques\n",
    "\n",
    "`+`, `-`, `*`, `/`, `**`, `//` et `%`"
   ]
  },
  {
   "cell_type": "code",
   "execution_count": null,
   "id": "patient-cedar",
   "metadata": {},
   "outputs": [],
   "source": [
    "a + b"
   ]
  },
  {
   "cell_type": "code",
   "execution_count": null,
   "id": "advised-shareware",
   "metadata": {},
   "outputs": [],
   "source": [
    "5 * 2"
   ]
  },
  {
   "cell_type": "code",
   "execution_count": null,
   "id": "finished-regression",
   "metadata": {},
   "outputs": [],
   "source": [
    "5 / 2"
   ]
  },
  {
   "cell_type": "code",
   "execution_count": null,
   "id": "dressed-harmony",
   "metadata": {},
   "outputs": [],
   "source": [
    "5 ** 2"
   ]
  },
  {
   "cell_type": "code",
   "execution_count": null,
   "id": "charming-hungarian",
   "metadata": {},
   "outputs": [],
   "source": [
    "5 // 2"
   ]
  },
  {
   "cell_type": "code",
   "execution_count": null,
   "id": "multiple-frost",
   "metadata": {},
   "outputs": [],
   "source": [
    "5 % 2"
   ]
  },
  {
   "cell_type": "markdown",
   "id": "annoying-pharmaceutical",
   "metadata": {},
   "source": [
    "## Chaînes de caractères\n",
    "\n",
    "`+` et `*`"
   ]
  },
  {
   "cell_type": "code",
   "execution_count": null,
   "id": "particular-transcription",
   "metadata": {},
   "outputs": [],
   "source": [
    "seq1 + seq2"
   ]
  },
  {
   "cell_type": "code",
   "execution_count": null,
   "id": "pregnant-chocolate",
   "metadata": {},
   "outputs": [],
   "source": [
    "seq1 * 2"
   ]
  },
  {
   "cell_type": "markdown",
   "id": "recorded-glory",
   "metadata": {},
   "source": [
    "La multiplication d'une chaîne de caractère avec un nombre n'est possible qu'avec un nombre entier et positif."
   ]
  },
  {
   "cell_type": "code",
   "execution_count": null,
   "id": "constitutional-durham",
   "metadata": {},
   "outputs": [],
   "source": [
    "seq2 * 3.5"
   ]
  },
  {
   "cell_type": "code",
   "execution_count": null,
   "id": "incredible-combining",
   "metadata": {},
   "outputs": [],
   "source": []
  },
  {
   "cell_type": "code",
   "execution_count": null,
   "id": "dynamic-inclusion",
   "metadata": {},
   "outputs": [],
   "source": []
  },
  {
   "cell_type": "code",
   "execution_count": null,
   "id": "intimate-dimension",
   "metadata": {},
   "outputs": [],
   "source": []
  },
  {
   "cell_type": "markdown",
   "id": "genetic-evening",
   "metadata": {},
   "source": [
    "# Fonction `type()`\n",
    "\n",
    "Quand on ne sait plus quel type de variable on manipule."
   ]
  },
  {
   "cell_type": "code",
   "execution_count": null,
   "id": "posted-matrix",
   "metadata": {},
   "outputs": [],
   "source": [
    "a"
   ]
  },
  {
   "cell_type": "code",
   "execution_count": null,
   "id": "unlike-individual",
   "metadata": {},
   "outputs": [],
   "source": [
    "type(a)"
   ]
  },
  {
   "cell_type": "code",
   "execution_count": null,
   "id": "shaped-magnet",
   "metadata": {},
   "outputs": [],
   "source": [
    "c"
   ]
  },
  {
   "cell_type": "code",
   "execution_count": null,
   "id": "engaged-liverpool",
   "metadata": {},
   "outputs": [],
   "source": [
    "type(c)"
   ]
  },
  {
   "cell_type": "code",
   "execution_count": null,
   "id": "second-proposition",
   "metadata": {},
   "outputs": [],
   "source": [
    "seq1"
   ]
  },
  {
   "cell_type": "code",
   "execution_count": null,
   "id": "acceptable-heater",
   "metadata": {},
   "outputs": [],
   "source": [
    "type(seq1)"
   ]
  },
  {
   "cell_type": "markdown",
   "id": "accepting-petite",
   "metadata": {},
   "source": [
    "# Conversion de types\n",
    "\n",
    "Passage d'un type à l'autre.\n",
    "\n",
    "Fonctions `int()`, `float()` et `str()`"
   ]
  },
  {
   "cell_type": "code",
   "execution_count": null,
   "id": "thermal-rider",
   "metadata": {},
   "outputs": [],
   "source": [
    "int(3.14)"
   ]
  },
  {
   "cell_type": "code",
   "execution_count": null,
   "id": "organized-tracy",
   "metadata": {},
   "outputs": [],
   "source": [
    "int(\"-45\")"
   ]
  },
  {
   "cell_type": "markdown",
   "id": "acceptable-offense",
   "metadata": {},
   "source": [
    "Les conversions entre types doivent avoir un sens."
   ]
  },
  {
   "cell_type": "code",
   "execution_count": null,
   "id": "broke-evening",
   "metadata": {},
   "outputs": [],
   "source": [
    "int(\"-45a\")"
   ]
  },
  {
   "cell_type": "code",
   "execution_count": null,
   "id": "undefined-anchor",
   "metadata": {},
   "outputs": [],
   "source": [
    "float(5)"
   ]
  },
  {
   "cell_type": "code",
   "execution_count": null,
   "id": "running-group",
   "metadata": {},
   "outputs": [],
   "source": [
    "float(\"3.14\")"
   ]
  },
  {
   "cell_type": "code",
   "execution_count": null,
   "id": "optical-society",
   "metadata": {},
   "outputs": [],
   "source": [
    "str(42)"
   ]
  },
  {
   "cell_type": "code",
   "execution_count": null,
   "id": "official-yorkshire",
   "metadata": {},
   "outputs": [],
   "source": [
    "str(3.14)"
   ]
  },
  {
   "cell_type": "markdown",
   "id": "arranged-japan",
   "metadata": {},
   "source": [
    "# Exercices\n",
    "\n",
    "Sans les exécuter, que renvoient les instructions suivantes ?"
   ]
  },
  {
   "cell_type": "code",
   "execution_count": null,
   "id": "abstract-flooring",
   "metadata": {},
   "outputs": [],
   "source": [
    "str(4) * int(\"3\")"
   ]
  },
  {
   "cell_type": "code",
   "execution_count": null,
   "id": "coastal-webster",
   "metadata": {},
   "outputs": [],
   "source": [
    "int(\"3\") + float(\"3.2\")"
   ]
  },
  {
   "cell_type": "code",
   "execution_count": null,
   "id": "yellow-acoustic",
   "metadata": {},
   "outputs": [],
   "source": [
    "str(3) * float(\"3.2\")"
   ]
  },
  {
   "cell_type": "code",
   "execution_count": null,
   "id": "understanding-label",
   "metadata": {},
   "outputs": [],
   "source": [
    "str(3/4) * 2"
   ]
  }
 ],
 "metadata": {
  "kernelspec": {
   "display_name": "Python 3",
   "language": "python",
   "name": "python3"
  },
  "language_info": {
   "codemirror_mode": {
    "name": "ipython",
    "version": 3
   },
   "file_extension": ".py",
   "mimetype": "text/x-python",
   "name": "python",
   "nbconvert_exporter": "python",
   "pygments_lexer": "ipython3",
   "version": "3.8.8"
  },
  "toc-autonumbering": false,
  "toc-showtags": false
 },
 "nbformat": 4,
 "nbformat_minor": 5
}
