{
 "cells": [
  {
   "cell_type": "markdown",
   "id": "amino-advisory",
   "metadata": {},
   "source": [
    "# Variables\n",
    "\n",
    "https://python.sdv.univ-paris-diderot.fr/02_variables/\n",
    "\n",
    "## Variables dites « simples ».\n",
    "\n",
    "Python pratique le *duck typing*, c'est-à-dire qu'il « devine » le type d'une variable automatiquement.\n",
    "\n",
    "### Entiers"
   ]
  },
  {
   "cell_type": "code",
   "execution_count": null,
   "id": "coordinate-microwave",
   "metadata": {
    "jupyter": {
     "source_hidden": true
    },
    "tags": []
   },
   "outputs": [],
   "source": [
    "a = 10"
   ]
  },
  {
   "cell_type": "markdown",
   "id": "provincial-wages",
   "metadata": {
    "tags": []
   },
   "source": [
    "Le simple fait d'entrer le nom d'une variable seule dans une cellule, ou à la fin d'une cellule, affiche le contenu de cette variable."
   ]
  },
  {
   "cell_type": "code",
   "execution_count": null,
   "id": "julian-papua",
   "metadata": {
    "jupyter": {
     "source_hidden": true
    },
    "tags": []
   },
   "outputs": [],
   "source": [
    "a"
   ]
  },
  {
   "cell_type": "code",
   "execution_count": null,
   "id": "special-poverty",
   "metadata": {
    "jupyter": {
     "source_hidden": true
    },
    "tags": []
   },
   "outputs": [],
   "source": [
    "b = -3\n",
    "b"
   ]
  },
  {
   "cell_type": "code",
   "execution_count": null,
   "id": "liked-singles",
   "metadata": {},
   "outputs": [],
   "source": []
  },
  {
   "cell_type": "markdown",
   "id": "ready-stanford",
   "metadata": {},
   "source": [
    "### *Floats* (réels)"
   ]
  },
  {
   "cell_type": "code",
   "execution_count": null,
   "id": "environmental-romance",
   "metadata": {},
   "outputs": [],
   "source": [
    "c = 3.14"
   ]
  },
  {
   "cell_type": "code",
   "execution_count": null,
   "id": "boring-enhancement",
   "metadata": {},
   "outputs": [],
   "source": [
    "c"
   ]
  },
  {
   "cell_type": "markdown",
   "id": "finnish-torture",
   "metadata": {},
   "source": [
    "### Chaînes de caractères (*string*, *str*) "
   ]
  },
  {
   "cell_type": "code",
   "execution_count": null,
   "id": "democratic-mouse",
   "metadata": {},
   "outputs": [],
   "source": [
    "seq1 = 'CGAT'"
   ]
  },
  {
   "cell_type": "code",
   "execution_count": null,
   "id": "metropolitan-graphic",
   "metadata": {},
   "outputs": [],
   "source": [
    "seq1"
   ]
  },
  {
   "cell_type": "code",
   "execution_count": null,
   "id": "great-mirror",
   "metadata": {},
   "outputs": [],
   "source": [
    "seq2 = \"ATCGCG\""
   ]
  },
  {
   "cell_type": "code",
   "execution_count": null,
   "id": "alike-defensive",
   "metadata": {},
   "outputs": [],
   "source": [
    "seq2"
   ]
  },
  {
   "cell_type": "markdown",
   "id": "executive-artwork",
   "metadata": {},
   "source": [
    "Fonction `len()` : renvoie la taille d'une chaîne de caractères (le nombre de caractères)"
   ]
  },
  {
   "cell_type": "code",
   "execution_count": null,
   "id": "medium-fundamental",
   "metadata": {},
   "outputs": [],
   "source": [
    "len(seq1)"
   ]
  },
  {
   "cell_type": "code",
   "execution_count": null,
   "id": "hungry-removal",
   "metadata": {},
   "outputs": [],
   "source": [
    "len(seq2)"
   ]
  },
  {
   "cell_type": "markdown",
   "id": "familiar-dublin",
   "metadata": {},
   "source": [
    "## Nommage des variables\n",
    "\n",
    "Le nom d'une variable peut être composé des caractères suivants :\n",
    "```\n",
    "abcdefghijklmnopqrstuvwxyz\n",
    "ABCDEFGHIJKLMNOPQRSTUVWXYZ\n",
    "0123456789\n",
    "_\n",
    "```\n",
    "\n",
    "Les noms de variables débutent par une lettre. Pensez à leur donner des noms **explicites**."
   ]
  },
  {
   "cell_type": "code",
   "execution_count": null,
   "id": "removed-graph",
   "metadata": {},
   "outputs": [],
   "source": [
    "bases = \"ATCG\""
   ]
  },
  {
   "cell_type": "code",
   "execution_count": null,
   "id": "proved-conversation",
   "metadata": {},
   "outputs": [],
   "source": [
    "taille_sequence = 24"
   ]
  },
  {
   "cell_type": "code",
   "execution_count": null,
   "id": "greater-correlation",
   "metadata": {},
   "outputs": [],
   "source": [
    "moyenne_S2 = 16"
   ]
  },
  {
   "cell_type": "markdown",
   "id": "incorporate-jonathan",
   "metadata": {},
   "source": [
    "# Opérations\n",
    "\n",
    "## Types arithmétiques\n",
    "\n",
    "`+`, `-`, `*`, `/`, `**`, `//` et `%`"
   ]
  },
  {
   "cell_type": "code",
   "execution_count": null,
   "id": "reasonable-canada",
   "metadata": {
    "jupyter": {
     "source_hidden": true
    },
    "tags": []
   },
   "outputs": [],
   "source": [
    "a + b"
   ]
  },
  {
   "cell_type": "code",
   "execution_count": null,
   "id": "august-austin",
   "metadata": {
    "jupyter": {
     "source_hidden": true
    },
    "tags": []
   },
   "outputs": [],
   "source": [
    "5 * 2"
   ]
  },
  {
   "cell_type": "code",
   "execution_count": null,
   "id": "rural-feeling",
   "metadata": {
    "jupyter": {
     "source_hidden": true
    },
    "tags": []
   },
   "outputs": [],
   "source": [
    "5 / 2"
   ]
  },
  {
   "cell_type": "code",
   "execution_count": null,
   "id": "controversial-testimony",
   "metadata": {
    "jupyter": {
     "source_hidden": true
    },
    "tags": []
   },
   "outputs": [],
   "source": [
    "5 ** 2"
   ]
  },
  {
   "cell_type": "code",
   "execution_count": null,
   "id": "challenging-tribute",
   "metadata": {
    "jupyter": {
     "source_hidden": true
    },
    "tags": []
   },
   "outputs": [],
   "source": [
    "5 // 2"
   ]
  },
  {
   "cell_type": "code",
   "execution_count": null,
   "id": "administrative-quest",
   "metadata": {
    "jupyter": {
     "source_hidden": true
    },
    "tags": []
   },
   "outputs": [],
   "source": [
    "5 % 2"
   ]
  },
  {
   "cell_type": "markdown",
   "id": "revised-charles",
   "metadata": {},
   "source": [
    "## Chaînes de caractères\n",
    "\n",
    "`+` et `*`"
   ]
  },
  {
   "cell_type": "code",
   "execution_count": null,
   "id": "usual-tattoo",
   "metadata": {
    "jupyter": {
     "source_hidden": true
    },
    "tags": []
   },
   "outputs": [],
   "source": [
    "seq1 + seq2"
   ]
  },
  {
   "cell_type": "code",
   "execution_count": null,
   "id": "selected-hormone",
   "metadata": {
    "jupyter": {
     "source_hidden": true
    },
    "tags": []
   },
   "outputs": [],
   "source": [
    "seq1 * 2"
   ]
  },
  {
   "cell_type": "markdown",
   "id": "fluid-withdrawal",
   "metadata": {},
   "source": [
    "La multiplication d'une chaîne de caractère avec un nombre n'est possible qu'avec un nombre entier et positif."
   ]
  },
  {
   "cell_type": "code",
   "execution_count": null,
   "id": "veterinary-cooking",
   "metadata": {},
   "outputs": [],
   "source": [
    "seq2 * 3.5"
   ]
  },
  {
   "cell_type": "code",
   "execution_count": null,
   "id": "portable-albania",
   "metadata": {},
   "outputs": [],
   "source": []
  },
  {
   "cell_type": "code",
   "execution_count": null,
   "id": "measured-texas",
   "metadata": {},
   "outputs": [],
   "source": []
  },
  {
   "cell_type": "code",
   "execution_count": null,
   "id": "surprising-landing",
   "metadata": {},
   "outputs": [],
   "source": []
  },
  {
   "cell_type": "markdown",
   "id": "medical-ceiling",
   "metadata": {
    "jp-MarkdownHeadingCollapsed": true,
    "tags": []
   },
   "source": [
    "# Fonction `type()`\n",
    "\n",
    "Quand on ne sait plus quel type de variable on manipule."
   ]
  },
  {
   "cell_type": "code",
   "execution_count": null,
   "id": "independent-penny",
   "metadata": {},
   "outputs": [],
   "source": [
    "a"
   ]
  },
  {
   "cell_type": "code",
   "execution_count": null,
   "id": "german-salem",
   "metadata": {},
   "outputs": [],
   "source": [
    "type(a)"
   ]
  },
  {
   "cell_type": "code",
   "execution_count": null,
   "id": "injured-report",
   "metadata": {},
   "outputs": [],
   "source": [
    "c"
   ]
  },
  {
   "cell_type": "code",
   "execution_count": null,
   "id": "universal-praise",
   "metadata": {},
   "outputs": [],
   "source": [
    "type(c)"
   ]
  },
  {
   "cell_type": "code",
   "execution_count": null,
   "id": "national-polyester",
   "metadata": {},
   "outputs": [],
   "source": [
    "seq1"
   ]
  },
  {
   "cell_type": "code",
   "execution_count": null,
   "id": "confidential-tokyo",
   "metadata": {},
   "outputs": [],
   "source": [
    "type(seq1)"
   ]
  },
  {
   "cell_type": "markdown",
   "id": "sustainable-camera",
   "metadata": {},
   "source": [
    "# Conversion de types\n",
    "\n",
    "Passage d'un type à l'autre.\n",
    "\n",
    "Fonctions `int()`, `float()` et `str()`"
   ]
  },
  {
   "cell_type": "code",
   "execution_count": null,
   "id": "yellow-slave",
   "metadata": {},
   "outputs": [],
   "source": [
    "int(3.14)"
   ]
  },
  {
   "cell_type": "code",
   "execution_count": null,
   "id": "exempt-breach",
   "metadata": {},
   "outputs": [],
   "source": [
    "int(\"-45\")"
   ]
  },
  {
   "cell_type": "markdown",
   "id": "beginning-cross",
   "metadata": {},
   "source": [
    "Les conversions entre types doivent avoir un sens."
   ]
  },
  {
   "cell_type": "code",
   "execution_count": null,
   "id": "handy-arbitration",
   "metadata": {},
   "outputs": [],
   "source": [
    "int(\"-45a\")"
   ]
  },
  {
   "cell_type": "code",
   "execution_count": null,
   "id": "changing-investor",
   "metadata": {},
   "outputs": [],
   "source": [
    "float(5)"
   ]
  },
  {
   "cell_type": "code",
   "execution_count": null,
   "id": "ethical-objective",
   "metadata": {},
   "outputs": [],
   "source": [
    "float(\"3.14\")"
   ]
  },
  {
   "cell_type": "code",
   "execution_count": null,
   "id": "spatial-gasoline",
   "metadata": {},
   "outputs": [],
   "source": [
    "str(42)"
   ]
  },
  {
   "cell_type": "code",
   "execution_count": null,
   "id": "moved-tractor",
   "metadata": {},
   "outputs": [],
   "source": [
    "str(3.14)"
   ]
  },
  {
   "cell_type": "markdown",
   "id": "adjusted-proposal",
   "metadata": {},
   "source": [
    "# Exercices\n",
    "\n",
    "Sans les exécuter au préalable, essayez de prédire ce que renvoient les instructions suivantes ?"
   ]
  },
  {
   "cell_type": "code",
   "execution_count": null,
   "id": "geological-original",
   "metadata": {},
   "outputs": [],
   "source": [
    "str(4) * int(\"3\")"
   ]
  },
  {
   "cell_type": "code",
   "execution_count": null,
   "id": "beginning-snapshot",
   "metadata": {},
   "outputs": [],
   "source": [
    "int(\"3\") + float(\"3.2\")"
   ]
  },
  {
   "cell_type": "code",
   "execution_count": null,
   "id": "polish-correction",
   "metadata": {},
   "outputs": [],
   "source": [
    "str(3) * float(\"3.2\")"
   ]
  },
  {
   "cell_type": "code",
   "execution_count": null,
   "id": "interested-opening",
   "metadata": {},
   "outputs": [],
   "source": [
    "str(3/4) * 2"
   ]
  },
  {
   "cell_type": "markdown",
   "id": "enormous-difference",
   "metadata": {},
   "source": [
    "Générez une chaîne de caractères représentant un brin d'ADN poly-A (c'est-à-dire qui ne contient que des bases A) de 20 bases de longueur, sans taper littéralement toutes les bases."
   ]
  },
  {
   "cell_type": "code",
   "execution_count": null,
   "id": "chemical-privilege",
   "metadata": {},
   "outputs": [],
   "source": []
  },
  {
   "cell_type": "markdown",
   "id": "returning-democracy",
   "metadata": {},
   "source": [
    "Sur le modèle de l'exercice précédent, générez en une ligne de code un brin d'ADN poly-A (AAAA...) de 20 bases suivi d'un poly-GC régulier (GCGCGC...) de 30 bases."
   ]
  },
  {
   "cell_type": "code",
   "execution_count": null,
   "id": "olive-cooler",
   "metadata": {},
   "outputs": [],
   "source": []
  }
 ],
 "metadata": {
  "kernelspec": {
   "display_name": "Python 3 (ipykernel)",
   "language": "python",
   "name": "python3"
  },
  "language_info": {
   "codemirror_mode": {
    "name": "ipython",
    "version": 3
   },
   "file_extension": ".py",
   "mimetype": "text/x-python",
   "name": "python",
   "nbconvert_exporter": "python",
   "pygments_lexer": "ipython3",
   "version": "3.8.12"
  },
  "toc-autonumbering": false,
  "toc-showtags": false
 },
 "nbformat": 4,
 "nbformat_minor": 5
}
