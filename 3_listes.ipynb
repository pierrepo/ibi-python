{
 "cells": [
  {
   "cell_type": "markdown",
   "id": "imperial-signal",
   "metadata": {
    "tags": []
   },
   "source": [
    "# Listes\n",
    "\n",
    "https://python.sdv.univ-paris-diderot.fr/04_listes/\n",
    "\n",
    "Les listes sont un type de variables plus complexes que les entiers, les *floats* ou les chaînes de caractères.\n",
    "\n",
    "## Définition"
   ]
  },
  {
   "cell_type": "code",
   "execution_count": null,
   "id": "analyzed-bookmark",
   "metadata": {},
   "outputs": [],
   "source": [
    "animaux = ['girafe', 'tigre', 'singe', 'souris']"
   ]
  },
  {
   "cell_type": "code",
   "execution_count": null,
   "id": "adopted-knowing",
   "metadata": {},
   "outputs": [],
   "source": [
    "animaux"
   ]
  },
  {
   "cell_type": "code",
   "execution_count": null,
   "id": "covered-authorization",
   "metadata": {},
   "outputs": [],
   "source": [
    "print(animaux)"
   ]
  },
  {
   "cell_type": "markdown",
   "id": "ordered-evans",
   "metadata": {},
   "source": [
    "Une liste peut contenir n'importe quels objets : entiers, *floats*, chaînes de caractères, d'autres listes..."
   ]
  },
  {
   "cell_type": "code",
   "execution_count": null,
   "id": "dress-trading",
   "metadata": {},
   "outputs": [],
   "source": [
    "a = [\"ADN\", 3.14, 42]"
   ]
  },
  {
   "cell_type": "code",
   "execution_count": null,
   "id": "addressed-start",
   "metadata": {},
   "outputs": [],
   "source": [
    "a"
   ]
  },
  {
   "cell_type": "markdown",
   "id": "italian-analyst",
   "metadata": {},
   "source": [
    "## Indices\n",
    "\n",
    "```\n",
    "         ['girafe', 'tigre', 'singe', 'souris']\n",
    "indice :        0        1        2         3\n",
    "```"
   ]
  },
  {
   "cell_type": "code",
   "execution_count": null,
   "id": "finished-assignment",
   "metadata": {},
   "outputs": [],
   "source": [
    "animaux[0]"
   ]
  },
  {
   "cell_type": "code",
   "execution_count": null,
   "id": "arabic-nudist",
   "metadata": {},
   "outputs": [],
   "source": [
    "animaux[2]"
   ]
  },
  {
   "cell_type": "code",
   "execution_count": null,
   "id": "absent-member",
   "metadata": {},
   "outputs": [],
   "source": [
    "animaux[4]"
   ]
  },
  {
   "cell_type": "markdown",
   "id": "processed-functionality",
   "metadata": {},
   "source": [
    "## Opérations\n",
    "\n",
    "`+` et `*` (comme les chaînes de caractères)"
   ]
  },
  {
   "cell_type": "code",
   "execution_count": null,
   "id": "hungarian-discretion",
   "metadata": {},
   "outputs": [],
   "source": [
    "ani1 = [\"girafe\", \"tigre\"]\n",
    "ani2 = [\"singe\", \"souris\"]"
   ]
  },
  {
   "cell_type": "code",
   "execution_count": null,
   "id": "sought-jones",
   "metadata": {},
   "outputs": [],
   "source": [
    "ani1 + ani2"
   ]
  },
  {
   "cell_type": "code",
   "execution_count": null,
   "id": "sunset-checklist",
   "metadata": {},
   "outputs": [],
   "source": [
    "ani1 + [\"lion\"]"
   ]
  },
  {
   "cell_type": "code",
   "execution_count": null,
   "id": "numerical-artist",
   "metadata": {},
   "outputs": [],
   "source": [
    "ani1 * 2"
   ]
  },
  {
   "cell_type": "code",
   "execution_count": null,
   "id": "amazing-arena",
   "metadata": {},
   "outputs": [],
   "source": [
    "ani1 * 3"
   ]
  },
  {
   "cell_type": "markdown",
   "id": "crucial-mandate",
   "metadata": {},
   "source": [
    "La multiplication d'une liste avec un nombre n'est possible qu'avec un nombre entier et positif."
   ]
  },
  {
   "cell_type": "code",
   "execution_count": null,
   "id": "impossible-journalist",
   "metadata": {},
   "outputs": [],
   "source": [
    "ani1 * 3.5"
   ]
  },
  {
   "cell_type": "markdown",
   "id": "direct-fitting",
   "metadata": {},
   "source": [
    "## La méthode `.append()`"
   ]
  },
  {
   "cell_type": "code",
   "execution_count": null,
   "id": "planned-heath",
   "metadata": {},
   "outputs": [],
   "source": [
    "animaux.append(\"lion\")"
   ]
  },
  {
   "cell_type": "code",
   "execution_count": null,
   "id": "honest-programmer",
   "metadata": {},
   "outputs": [],
   "source": [
    "animaux"
   ]
  },
  {
   "cell_type": "code",
   "execution_count": null,
   "id": "irish-theology",
   "metadata": {},
   "outputs": [],
   "source": [
    "animaux.append(14)"
   ]
  },
  {
   "cell_type": "code",
   "execution_count": null,
   "id": "ready-coast",
   "metadata": {},
   "outputs": [],
   "source": [
    "animaux"
   ]
  },
  {
   "cell_type": "markdown",
   "id": "banner-jones",
   "metadata": {},
   "source": [
    "## Indices négatifs\n",
    "\n",
    "```\n",
    "                 ['girafe', 'tigre', 'singe', 'souris']\n",
    "indice positif :        0        1        2         3\n",
    "indice négatif :       -4       -3       -2        -1\n",
    "```"
   ]
  },
  {
   "cell_type": "code",
   "execution_count": null,
   "id": "comfortable-beatles",
   "metadata": {},
   "outputs": [],
   "source": [
    "animaux = ['girafe','tigre','singe','souris']"
   ]
  },
  {
   "cell_type": "code",
   "execution_count": null,
   "id": "wanted-memorabilia",
   "metadata": {},
   "outputs": [],
   "source": [
    "animaux[0]"
   ]
  },
  {
   "cell_type": "code",
   "execution_count": null,
   "id": "olympic-solid",
   "metadata": {},
   "outputs": [],
   "source": [
    "animaux[-4]"
   ]
  },
  {
   "cell_type": "code",
   "execution_count": null,
   "id": "religious-hardwood",
   "metadata": {},
   "outputs": [],
   "source": [
    "animaux[-1]"
   ]
  },
  {
   "cell_type": "code",
   "execution_count": null,
   "id": "contrary-interval",
   "metadata": {},
   "outputs": [],
   "source": [
    "animaux[-2]"
   ]
  },
  {
   "cell_type": "markdown",
   "id": "christian-native",
   "metadata": {},
   "source": [
    "## Tranches\n",
    "\n",
    "`liste[indice inférieur inclus: indice supérieur exclus]`\n",
    "\n",
    "```\n",
    "                 ['girafe', 'tigre', 'singe', 'souris']\n",
    "indice positif :        0        1        2         3\n",
    "indice négatif :       -4       -3       -2        -1\n",
    "```"
   ]
  },
  {
   "cell_type": "code",
   "execution_count": null,
   "id": "convinced-portable",
   "metadata": {},
   "outputs": [],
   "source": [
    "animaux[0:3]"
   ]
  },
  {
   "cell_type": "code",
   "execution_count": null,
   "id": "important-interpretation",
   "metadata": {},
   "outputs": [],
   "source": [
    "animaux[1:2]"
   ]
  },
  {
   "cell_type": "code",
   "execution_count": null,
   "id": "creative-aging",
   "metadata": {},
   "outputs": [],
   "source": [
    "animaux[:2]"
   ]
  },
  {
   "cell_type": "code",
   "execution_count": null,
   "id": "confident-wildlife",
   "metadata": {},
   "outputs": [],
   "source": [
    "animaux[2:]"
   ]
  },
  {
   "cell_type": "code",
   "execution_count": null,
   "id": "organic-convention",
   "metadata": {},
   "outputs": [],
   "source": [
    "animaux[1:-1]"
   ]
  },
  {
   "cell_type": "markdown",
   "id": "understood-detector",
   "metadata": {},
   "source": [
    "## Fonction `len()`\n",
    "\n",
    "Renvoie le nombre d'éléments d'une liste."
   ]
  },
  {
   "cell_type": "code",
   "execution_count": null,
   "id": "promising-italic",
   "metadata": {},
   "outputs": [],
   "source": [
    "len(animaux)"
   ]
  },
  {
   "cell_type": "code",
   "execution_count": null,
   "id": "strong-medicaid",
   "metadata": {},
   "outputs": [],
   "source": []
  },
  {
   "cell_type": "markdown",
   "id": "recreational-penetration",
   "metadata": {},
   "source": [
    "## Fonctions `range()` et `list()`\n",
    "\n",
    "Pour créer une liste de nombre entiers."
   ]
  },
  {
   "cell_type": "code",
   "execution_count": null,
   "id": "contemporary-laugh",
   "metadata": {},
   "outputs": [],
   "source": [
    "list(range(5))"
   ]
  },
  {
   "cell_type": "code",
   "execution_count": null,
   "id": "overhead-repository",
   "metadata": {},
   "outputs": [],
   "source": [
    "list(range(2,5))"
   ]
  },
  {
   "cell_type": "code",
   "execution_count": null,
   "id": "hired-genealogy",
   "metadata": {},
   "outputs": [],
   "source": [
    "list(range(2,10,3))"
   ]
  },
  {
   "cell_type": "markdown",
   "id": "aggressive-republican",
   "metadata": {},
   "source": [
    "## Listes de listes"
   ]
  },
  {
   "cell_type": "code",
   "execution_count": null,
   "id": "stylish-glasgow",
   "metadata": {},
   "outputs": [],
   "source": [
    "enclos1 = ['girafe', 4]\n",
    "enclos2 = ['tigre', 2]\n",
    "enclos3 = ['singe', 5]"
   ]
  },
  {
   "cell_type": "code",
   "execution_count": null,
   "id": "civic-moisture",
   "metadata": {},
   "outputs": [],
   "source": [
    "zoo = [enclos1, enclos2, enclos3]"
   ]
  },
  {
   "cell_type": "code",
   "execution_count": null,
   "id": "packed-printing",
   "metadata": {},
   "outputs": [],
   "source": [
    "zoo[1]"
   ]
  },
  {
   "cell_type": "code",
   "execution_count": null,
   "id": "smart-moldova",
   "metadata": {},
   "outputs": [],
   "source": [
    "zoo[1][0]"
   ]
  },
  {
   "cell_type": "code",
   "execution_count": null,
   "id": "collect-induction",
   "metadata": {},
   "outputs": [],
   "source": [
    "zoo[0][1]"
   ]
  },
  {
   "cell_type": "code",
   "execution_count": null,
   "id": "downtown-genetics",
   "metadata": {},
   "outputs": [],
   "source": [
    "zoo[-1][-2]"
   ]
  },
  {
   "cell_type": "markdown",
   "id": "narrative-yield",
   "metadata": {},
   "source": [
    "## Retour sur les chaînes de caractères\n",
    "\n",
    "https://python.sdv.univ-paris-diderot.fr/10_plus_sur_les_chaines_de_caracteres/\n",
    "\n",
    "Les chaînes de caractères sont des listes (de caractères), mais non modifiables.   \n",
    "Certaines propriétés des listes leurs sont donc applicables.\n"
   ]
  },
  {
   "cell_type": "code",
   "execution_count": null,
   "id": "legal-blackjack",
   "metadata": {},
   "outputs": [],
   "source": [
    "texte = \"Salut Python\""
   ]
  },
  {
   "cell_type": "code",
   "execution_count": null,
   "id": "worth-orlando",
   "metadata": {},
   "outputs": [],
   "source": [
    "texte[0]"
   ]
  },
  {
   "cell_type": "code",
   "execution_count": null,
   "id": "competitive-garbage",
   "metadata": {},
   "outputs": [],
   "source": [
    "texte[-1]"
   ]
  },
  {
   "cell_type": "code",
   "execution_count": null,
   "id": "pacific-mongolia",
   "metadata": {},
   "outputs": [],
   "source": [
    "texte[6:]"
   ]
  },
  {
   "cell_type": "markdown",
   "id": "metropolitan-zealand",
   "metadata": {},
   "source": [
    "Mais attention, les chaînes de caractères ne sont pas modifiables :"
   ]
  },
  {
   "cell_type": "code",
   "execution_count": null,
   "id": "changed-helmet",
   "metadata": {},
   "outputs": [],
   "source": [
    "texte[0] = \"s\""
   ]
  },
  {
   "cell_type": "code",
   "execution_count": null,
   "id": "occupied-circus",
   "metadata": {},
   "outputs": [],
   "source": [
    "texte.append(\"!\")"
   ]
  },
  {
   "cell_type": "code",
   "execution_count": null,
   "id": "great-student",
   "metadata": {},
   "outputs": [],
   "source": []
  }
 ],
 "metadata": {
  "kernelspec": {
   "display_name": "Python 3",
   "language": "python",
   "name": "python3"
  },
  "language_info": {
   "codemirror_mode": {
    "name": "ipython",
    "version": 3
   },
   "file_extension": ".py",
   "mimetype": "text/x-python",
   "name": "python",
   "nbconvert_exporter": "python",
   "pygments_lexer": "ipython3",
   "version": "3.8.8"
  },
  "toc-showmarkdowntxt": false
 },
 "nbformat": 4,
 "nbformat_minor": 5
}
