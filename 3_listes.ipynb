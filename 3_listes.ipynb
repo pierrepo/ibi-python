{
 "cells": [
  {
   "cell_type": "markdown",
   "id": "third-stack",
   "metadata": {
    "tags": []
   },
   "source": [
    "# Listes\n",
    "\n",
    "https://python.sdv.univ-paris-diderot.fr/04_listes/\n",
    "\n",
    "Les listes sont un type de variables plus complexes que les entiers, les *floats* ou les chaînes de caractères.\n",
    "\n",
    "## Définition"
   ]
  },
  {
   "cell_type": "code",
   "execution_count": null,
   "id": "quantitative-chester",
   "metadata": {},
   "outputs": [],
   "source": [
    "animaux = ['girafe', 'tigre', 'singe', 'souris']"
   ]
  },
  {
   "cell_type": "code",
   "execution_count": null,
   "id": "subsequent-lemon",
   "metadata": {},
   "outputs": [],
   "source": [
    "animaux"
   ]
  },
  {
   "cell_type": "code",
   "execution_count": null,
   "id": "brutal-greensboro",
   "metadata": {},
   "outputs": [],
   "source": [
    "print(animaux)"
   ]
  },
  {
   "cell_type": "markdown",
   "id": "designed-uruguay",
   "metadata": {},
   "source": [
    "Une liste peut contenir n'importe quels objets : entiers, *floats*, chaînes de caractères et même d'autres listes !"
   ]
  },
  {
   "cell_type": "code",
   "execution_count": null,
   "id": "united-suffering",
   "metadata": {},
   "outputs": [],
   "source": [
    "a = [\"ADN\", 3.14, 42]"
   ]
  },
  {
   "cell_type": "code",
   "execution_count": null,
   "id": "constitutional-mouse",
   "metadata": {},
   "outputs": [],
   "source": [
    "a"
   ]
  },
  {
   "cell_type": "markdown",
   "id": "right-joining",
   "metadata": {},
   "source": [
    "## Indices\n",
    "\n",
    "```\n",
    "         ['girafe', 'tigre', 'singe', 'souris']\n",
    "indice :        0        1        2         3\n",
    "```\n",
    "\n",
    "Comme beaucoup de langages de programmation, Python compte à partir de **0**, c'est-à-dire que le premier élément de la liste possède l'indice 0."
   ]
  },
  {
   "cell_type": "code",
   "execution_count": null,
   "id": "simple-warehouse",
   "metadata": {},
   "outputs": [],
   "source": [
    "animaux[0]"
   ]
  },
  {
   "cell_type": "code",
   "execution_count": null,
   "id": "sealed-christian",
   "metadata": {},
   "outputs": [],
   "source": [
    "animaux[2]"
   ]
  },
  {
   "cell_type": "code",
   "execution_count": null,
   "id": "bacterial-loading",
   "metadata": {},
   "outputs": [],
   "source": [
    "animaux[4]"
   ]
  },
  {
   "cell_type": "markdown",
   "id": "spatial-repeat",
   "metadata": {},
   "source": [
    "## Opérations\n",
    "\n",
    "`+` et `*` (comme les chaînes de caractères)"
   ]
  },
  {
   "cell_type": "code",
   "execution_count": null,
   "id": "understood-rehabilitation",
   "metadata": {},
   "outputs": [],
   "source": [
    "ani1 = [\"girafe\", \"tigre\"]\n",
    "ani2 = [\"singe\", \"souris\"]"
   ]
  },
  {
   "cell_type": "code",
   "execution_count": null,
   "id": "external-format",
   "metadata": {},
   "outputs": [],
   "source": [
    "ani1 + ani2"
   ]
  },
  {
   "cell_type": "code",
   "execution_count": null,
   "id": "humanitarian-surgeon",
   "metadata": {},
   "outputs": [],
   "source": [
    "ani1 + [\"lion\"]"
   ]
  },
  {
   "cell_type": "code",
   "execution_count": null,
   "id": "simplified-examination",
   "metadata": {},
   "outputs": [],
   "source": [
    "ani1 * 2"
   ]
  },
  {
   "cell_type": "code",
   "execution_count": null,
   "id": "compressed-orchestra",
   "metadata": {},
   "outputs": [],
   "source": [
    "ani1 * 3"
   ]
  },
  {
   "cell_type": "markdown",
   "id": "atomic-parent",
   "metadata": {},
   "source": [
    "La multiplication d'une liste avec un nombre n'est possible qu'avec un nombre entier et positif."
   ]
  },
  {
   "cell_type": "code",
   "execution_count": null,
   "id": "massive-situation",
   "metadata": {},
   "outputs": [],
   "source": [
    "ani1 * 3.5"
   ]
  },
  {
   "cell_type": "markdown",
   "id": "respected-sucking",
   "metadata": {},
   "source": [
    "## Méthode `.append()`"
   ]
  },
  {
   "cell_type": "code",
   "execution_count": null,
   "id": "figured-medicaid",
   "metadata": {},
   "outputs": [],
   "source": [
    "animaux.append(\"lion\")"
   ]
  },
  {
   "cell_type": "code",
   "execution_count": null,
   "id": "adult-attitude",
   "metadata": {},
   "outputs": [],
   "source": [
    "animaux"
   ]
  },
  {
   "cell_type": "code",
   "execution_count": null,
   "id": "experienced-november",
   "metadata": {},
   "outputs": [],
   "source": [
    "animaux.append(14)"
   ]
  },
  {
   "cell_type": "code",
   "execution_count": null,
   "id": "distinguished-oasis",
   "metadata": {},
   "outputs": [],
   "source": [
    "animaux"
   ]
  },
  {
   "cell_type": "markdown",
   "id": "radical-master",
   "metadata": {},
   "source": [
    "## Indices négatifs\n",
    "\n",
    "```\n",
    "                 ['girafe', 'tigre', 'singe', 'souris']\n",
    "indice positif :        0        1        2         3\n",
    "indice négatif :       -4       -3       -2        -1\n",
    "```"
   ]
  },
  {
   "cell_type": "code",
   "execution_count": null,
   "id": "involved-google",
   "metadata": {},
   "outputs": [],
   "source": [
    "animaux = ['girafe','tigre','singe','souris']"
   ]
  },
  {
   "cell_type": "code",
   "execution_count": null,
   "id": "efficient-squad",
   "metadata": {},
   "outputs": [],
   "source": [
    "animaux[0]"
   ]
  },
  {
   "cell_type": "code",
   "execution_count": null,
   "id": "august-translator",
   "metadata": {},
   "outputs": [],
   "source": [
    "animaux[-4]"
   ]
  },
  {
   "cell_type": "code",
   "execution_count": null,
   "id": "sunset-daughter",
   "metadata": {},
   "outputs": [],
   "source": [
    "animaux[-1]"
   ]
  },
  {
   "cell_type": "code",
   "execution_count": null,
   "id": "charged-chrome",
   "metadata": {},
   "outputs": [],
   "source": [
    "animaux[-2]"
   ]
  },
  {
   "cell_type": "markdown",
   "id": "fundamental-judgment",
   "metadata": {},
   "source": [
    "## Tranches\n",
    "\n",
    "`liste[indice inférieur inclus: indice supérieur exclus]`\n",
    "\n",
    "```\n",
    "                 ['girafe', 'tigre', 'singe', 'souris']\n",
    "indice positif :        0        1        2         3\n",
    "indice négatif :       -4       -3       -2        -1\n",
    "```"
   ]
  },
  {
   "cell_type": "code",
   "execution_count": null,
   "id": "persistent-brown",
   "metadata": {},
   "outputs": [],
   "source": [
    "animaux[0:3]"
   ]
  },
  {
   "cell_type": "code",
   "execution_count": null,
   "id": "endangered-haven",
   "metadata": {},
   "outputs": [],
   "source": [
    "animaux[1:2]"
   ]
  },
  {
   "cell_type": "code",
   "execution_count": null,
   "id": "creative-nelson",
   "metadata": {},
   "outputs": [],
   "source": [
    "animaux[:2]"
   ]
  },
  {
   "cell_type": "code",
   "execution_count": null,
   "id": "headed-absorption",
   "metadata": {},
   "outputs": [],
   "source": [
    "animaux[2:]"
   ]
  },
  {
   "cell_type": "code",
   "execution_count": null,
   "id": "local-monthly",
   "metadata": {},
   "outputs": [],
   "source": [
    "animaux[1:-1]"
   ]
  },
  {
   "cell_type": "markdown",
   "id": "devoted-field",
   "metadata": {},
   "source": [
    "## Fonction `len()`\n",
    "\n",
    "Renvoie le nombre d'éléments d'une liste."
   ]
  },
  {
   "cell_type": "code",
   "execution_count": null,
   "id": "personalized-creature",
   "metadata": {},
   "outputs": [],
   "source": [
    "len(animaux)"
   ]
  },
  {
   "cell_type": "code",
   "execution_count": null,
   "id": "weekly-marijuana",
   "metadata": {},
   "outputs": [],
   "source": []
  },
  {
   "cell_type": "markdown",
   "id": "yellow-cyprus",
   "metadata": {},
   "source": [
    "## Fonctions `range()` et `list()`\n",
    "\n",
    "Pour créer une liste de nombre entiers."
   ]
  },
  {
   "cell_type": "code",
   "execution_count": null,
   "id": "conditional-disclaimer",
   "metadata": {},
   "outputs": [],
   "source": [
    "list(range(5))"
   ]
  },
  {
   "cell_type": "code",
   "execution_count": null,
   "id": "confirmed-elephant",
   "metadata": {},
   "outputs": [],
   "source": [
    "list(range(2,5))"
   ]
  },
  {
   "cell_type": "code",
   "execution_count": null,
   "id": "controversial-nursing",
   "metadata": {},
   "outputs": [],
   "source": [
    "list(range(2,10,3))"
   ]
  },
  {
   "cell_type": "markdown",
   "id": "difficult-emergency",
   "metadata": {},
   "source": [
    "## Listes de listes"
   ]
  },
  {
   "cell_type": "code",
   "execution_count": null,
   "id": "super-basket",
   "metadata": {},
   "outputs": [],
   "source": [
    "enclos1 = ['girafe', 4]\n",
    "enclos2 = ['tigre', 2]\n",
    "enclos3 = ['singe', 5]"
   ]
  },
  {
   "cell_type": "code",
   "execution_count": null,
   "id": "developed-pharmacology",
   "metadata": {},
   "outputs": [],
   "source": [
    "zoo = [enclos1, enclos2, enclos3]"
   ]
  },
  {
   "cell_type": "code",
   "execution_count": null,
   "id": "incoming-headline",
   "metadata": {},
   "outputs": [],
   "source": [
    "zoo[1]"
   ]
  },
  {
   "cell_type": "code",
   "execution_count": null,
   "id": "dense-friendly",
   "metadata": {},
   "outputs": [],
   "source": [
    "zoo[1][0]"
   ]
  },
  {
   "cell_type": "code",
   "execution_count": null,
   "id": "considerable-cable",
   "metadata": {},
   "outputs": [],
   "source": [
    "zoo[0][1]"
   ]
  },
  {
   "cell_type": "code",
   "execution_count": null,
   "id": "refined-mistress",
   "metadata": {},
   "outputs": [],
   "source": [
    "zoo[-1][-2]"
   ]
  },
  {
   "cell_type": "markdown",
   "id": "industrial-milwaukee",
   "metadata": {},
   "source": [
    "# Retour sur les chaînes de caractères\n",
    "\n",
    "https://python.sdv.univ-paris-diderot.fr/10_plus_sur_les_chaines_de_caracteres/\n",
    "\n",
    "Les chaînes de caractères sont des listes (de caractères), mais non modifiables.   \n",
    "Certaines propriétés des listes leurs sont donc applicables.\n"
   ]
  },
  {
   "cell_type": "code",
   "execution_count": null,
   "id": "spoken-possible",
   "metadata": {},
   "outputs": [],
   "source": [
    "texte = \"Salut Python\""
   ]
  },
  {
   "cell_type": "code",
   "execution_count": null,
   "id": "grateful-color",
   "metadata": {},
   "outputs": [],
   "source": [
    "texte[0]"
   ]
  },
  {
   "cell_type": "code",
   "execution_count": null,
   "id": "authorized-iraqi",
   "metadata": {},
   "outputs": [],
   "source": [
    "texte[-1]"
   ]
  },
  {
   "cell_type": "code",
   "execution_count": null,
   "id": "certain-rochester",
   "metadata": {},
   "outputs": [],
   "source": [
    "texte[6:]"
   ]
  },
  {
   "cell_type": "markdown",
   "id": "relevant-support",
   "metadata": {},
   "source": [
    "Mais attention, les chaînes de caractères ne sont pas modifiables :"
   ]
  },
  {
   "cell_type": "code",
   "execution_count": null,
   "id": "arabic-retailer",
   "metadata": {},
   "outputs": [],
   "source": [
    "texte[0] = \"s\""
   ]
  },
  {
   "cell_type": "code",
   "execution_count": null,
   "id": "boring-detective",
   "metadata": {},
   "outputs": [],
   "source": [
    "texte.append(\"!\")"
   ]
  },
  {
   "cell_type": "markdown",
   "id": "fancy-express",
   "metadata": {},
   "source": [
    "# Exercices\n",
    "\n",
    "## Jours de la semaine\n",
    "\n",
    "Constituez une liste `semaine` contenant les 7 jours de la semaine."
   ]
  },
  {
   "cell_type": "code",
   "execution_count": null,
   "id": "absent-gentleman",
   "metadata": {},
   "outputs": [],
   "source": [
    "semaine = [\"lundi\", \"mardi\", \"mercredi\", \"jeudi\", \"vendredi\", \"samedi\", \"dimanche\"]"
   ]
  },
  {
   "cell_type": "markdown",
   "id": "obvious-anger",
   "metadata": {},
   "source": [
    "- À partir de cette liste, comment récupérez-vous seulement les 5 premiers jours de la semaine d'une part, et ceux du week-end d'autre part ? Utilisez pour cela l'indiçage.\n",
    "- Cherchez un autre moyen pour arriver au même résultat (en utilisant un autre indiçage)."
   ]
  },
  {
   "cell_type": "code",
   "execution_count": null,
   "id": "disciplinary-colleague",
   "metadata": {},
   "outputs": [],
   "source": []
  },
  {
   "cell_type": "code",
   "execution_count": null,
   "id": "overhead-toyota",
   "metadata": {},
   "outputs": [],
   "source": []
  },
  {
   "cell_type": "code",
   "execution_count": null,
   "id": "alert-examination",
   "metadata": {},
   "outputs": [],
   "source": []
  },
  {
   "cell_type": "code",
   "execution_count": null,
   "id": "material-fields",
   "metadata": {},
   "outputs": [],
   "source": []
  }
 ],
 "metadata": {
  "kernelspec": {
   "display_name": "Python 3 (ipykernel)",
   "language": "python",
   "name": "python3"
  },
  "language_info": {
   "codemirror_mode": {
    "name": "ipython",
    "version": 3
   },
   "file_extension": ".py",
   "mimetype": "text/x-python",
   "name": "python",
   "nbconvert_exporter": "python",
   "pygments_lexer": "ipython3",
   "version": "3.8.12"
  },
  "toc-showmarkdowntxt": false
 },
 "nbformat": 4,
 "nbformat_minor": 5
}
