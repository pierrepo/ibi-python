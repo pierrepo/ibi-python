{
 "cells": [
  {
   "cell_type": "markdown",
   "id": "encouraging-dairy",
   "metadata": {
    "tags": []
   },
   "source": [
    "# Listes\n",
    "\n",
    "https://python.sdv.univ-paris-diderot.fr/04_listes/\n",
    "\n",
    "Les listes sont un type de variables plus complexes que les entiers, les *floats* ou les chaînes de caractères.\n",
    "\n",
    "## Définition"
   ]
  },
  {
   "cell_type": "code",
   "execution_count": null,
   "id": "brutal-andorra",
   "metadata": {},
   "outputs": [],
   "source": [
    "animaux = ['girafe', 'tigre', 'singe', 'souris']"
   ]
  },
  {
   "cell_type": "code",
   "execution_count": null,
   "id": "norman-wiring",
   "metadata": {},
   "outputs": [],
   "source": [
    "animaux"
   ]
  },
  {
   "cell_type": "code",
   "execution_count": null,
   "id": "governing-chrome",
   "metadata": {},
   "outputs": [],
   "source": [
    "print(animaux)"
   ]
  },
  {
   "cell_type": "markdown",
   "id": "square-exhibit",
   "metadata": {},
   "source": [
    "Une liste peut contenir n'importe quels objets : entiers, *floats*, chaînes de caractères, d'autres listes..."
   ]
  },
  {
   "cell_type": "code",
   "execution_count": null,
   "id": "flush-olympus",
   "metadata": {},
   "outputs": [],
   "source": [
    "a = [\"ADN\", 3.14, 42]"
   ]
  },
  {
   "cell_type": "code",
   "execution_count": null,
   "id": "acting-probability",
   "metadata": {},
   "outputs": [],
   "source": [
    "a"
   ]
  },
  {
   "cell_type": "markdown",
   "id": "humanitarian-driving",
   "metadata": {},
   "source": [
    "## Indices\n",
    "\n",
    "```\n",
    "         ['girafe', 'tigre', 'singe', 'souris']\n",
    "indice :        0        1        2         3\n",
    "```\n",
    "\n",
    "Comme beaucoup de langages de programmation, Python compte à partir de **0**."
   ]
  },
  {
   "cell_type": "code",
   "execution_count": null,
   "id": "objective-condition",
   "metadata": {},
   "outputs": [],
   "source": [
    "animaux[0]"
   ]
  },
  {
   "cell_type": "code",
   "execution_count": null,
   "id": "champion-ideal",
   "metadata": {},
   "outputs": [],
   "source": [
    "animaux[2]"
   ]
  },
  {
   "cell_type": "code",
   "execution_count": null,
   "id": "complicated-shuttle",
   "metadata": {},
   "outputs": [],
   "source": [
    "animaux[4]"
   ]
  },
  {
   "cell_type": "markdown",
   "id": "civil-baltimore",
   "metadata": {},
   "source": [
    "## Opérations\n",
    "\n",
    "`+` et `*` (comme les chaînes de caractères)"
   ]
  },
  {
   "cell_type": "code",
   "execution_count": null,
   "id": "worth-september",
   "metadata": {},
   "outputs": [],
   "source": [
    "ani1 = [\"girafe\", \"tigre\"]\n",
    "ani2 = [\"singe\", \"souris\"]"
   ]
  },
  {
   "cell_type": "code",
   "execution_count": null,
   "id": "structural-neighbor",
   "metadata": {},
   "outputs": [],
   "source": [
    "ani1 + ani2"
   ]
  },
  {
   "cell_type": "code",
   "execution_count": null,
   "id": "breeding-brisbane",
   "metadata": {},
   "outputs": [],
   "source": [
    "ani1 + [\"lion\"]"
   ]
  },
  {
   "cell_type": "code",
   "execution_count": null,
   "id": "ordinary-builder",
   "metadata": {},
   "outputs": [],
   "source": [
    "ani1 * 2"
   ]
  },
  {
   "cell_type": "code",
   "execution_count": null,
   "id": "terminal-profit",
   "metadata": {},
   "outputs": [],
   "source": [
    "ani1 * 3"
   ]
  },
  {
   "cell_type": "markdown",
   "id": "resistant-elephant",
   "metadata": {},
   "source": [
    "La multiplication d'une liste avec un nombre n'est possible qu'avec un nombre entier et positif."
   ]
  },
  {
   "cell_type": "code",
   "execution_count": null,
   "id": "creative-julian",
   "metadata": {},
   "outputs": [],
   "source": [
    "ani1 * 3.5"
   ]
  },
  {
   "cell_type": "markdown",
   "id": "otherwise-tribe",
   "metadata": {},
   "source": [
    "## La méthode `.append()`"
   ]
  },
  {
   "cell_type": "code",
   "execution_count": null,
   "id": "interior-endorsement",
   "metadata": {},
   "outputs": [],
   "source": [
    "animaux.append(\"lion\")"
   ]
  },
  {
   "cell_type": "code",
   "execution_count": null,
   "id": "diagnostic-reaction",
   "metadata": {},
   "outputs": [],
   "source": [
    "animaux"
   ]
  },
  {
   "cell_type": "code",
   "execution_count": null,
   "id": "pharmaceutical-paragraph",
   "metadata": {},
   "outputs": [],
   "source": [
    "animaux.append(14)"
   ]
  },
  {
   "cell_type": "code",
   "execution_count": null,
   "id": "introductory-spokesman",
   "metadata": {},
   "outputs": [],
   "source": [
    "animaux"
   ]
  },
  {
   "cell_type": "markdown",
   "id": "leading-freeze",
   "metadata": {},
   "source": [
    "## Indices négatifs\n",
    "\n",
    "```\n",
    "                 ['girafe', 'tigre', 'singe', 'souris']\n",
    "indice positif :        0        1        2         3\n",
    "indice négatif :       -4       -3       -2        -1\n",
    "```"
   ]
  },
  {
   "cell_type": "code",
   "execution_count": null,
   "id": "rough-wilderness",
   "metadata": {},
   "outputs": [],
   "source": [
    "animaux = ['girafe','tigre','singe','souris']"
   ]
  },
  {
   "cell_type": "code",
   "execution_count": null,
   "id": "supported-virtue",
   "metadata": {},
   "outputs": [],
   "source": [
    "animaux[0]"
   ]
  },
  {
   "cell_type": "code",
   "execution_count": null,
   "id": "excellent-locking",
   "metadata": {},
   "outputs": [],
   "source": [
    "animaux[-4]"
   ]
  },
  {
   "cell_type": "code",
   "execution_count": null,
   "id": "numeric-advance",
   "metadata": {},
   "outputs": [],
   "source": [
    "animaux[-1]"
   ]
  },
  {
   "cell_type": "code",
   "execution_count": null,
   "id": "hundred-carol",
   "metadata": {},
   "outputs": [],
   "source": [
    "animaux[-2]"
   ]
  },
  {
   "cell_type": "markdown",
   "id": "automated-seating",
   "metadata": {},
   "source": [
    "## Tranches\n",
    "\n",
    "`liste[indice inférieur inclus: indice supérieur exclus]`\n",
    "\n",
    "```\n",
    "                 ['girafe', 'tigre', 'singe', 'souris']\n",
    "indice positif :        0        1        2         3\n",
    "indice négatif :       -4       -3       -2        -1\n",
    "```"
   ]
  },
  {
   "cell_type": "code",
   "execution_count": null,
   "id": "mineral-observer",
   "metadata": {},
   "outputs": [],
   "source": [
    "animaux[0:3]"
   ]
  },
  {
   "cell_type": "code",
   "execution_count": null,
   "id": "fixed-suite",
   "metadata": {},
   "outputs": [],
   "source": [
    "animaux[1:2]"
   ]
  },
  {
   "cell_type": "code",
   "execution_count": null,
   "id": "functional-effects",
   "metadata": {},
   "outputs": [],
   "source": [
    "animaux[:2]"
   ]
  },
  {
   "cell_type": "code",
   "execution_count": null,
   "id": "appreciated-saturn",
   "metadata": {},
   "outputs": [],
   "source": [
    "animaux[2:]"
   ]
  },
  {
   "cell_type": "code",
   "execution_count": null,
   "id": "funky-stopping",
   "metadata": {},
   "outputs": [],
   "source": [
    "animaux[1:-1]"
   ]
  },
  {
   "cell_type": "markdown",
   "id": "aggregate-planning",
   "metadata": {},
   "source": [
    "## Fonction `len()`\n",
    "\n",
    "Renvoie le nombre d'éléments d'une liste."
   ]
  },
  {
   "cell_type": "code",
   "execution_count": null,
   "id": "tutorial-husband",
   "metadata": {},
   "outputs": [],
   "source": [
    "len(animaux)"
   ]
  },
  {
   "cell_type": "code",
   "execution_count": null,
   "id": "funny-pharmaceutical",
   "metadata": {},
   "outputs": [],
   "source": []
  },
  {
   "cell_type": "markdown",
   "id": "facial-wallace",
   "metadata": {},
   "source": [
    "## Fonctions `range()` et `list()`\n",
    "\n",
    "Pour créer une liste de nombre entiers."
   ]
  },
  {
   "cell_type": "code",
   "execution_count": null,
   "id": "sustained-sensitivity",
   "metadata": {},
   "outputs": [],
   "source": [
    "list(range(5))"
   ]
  },
  {
   "cell_type": "code",
   "execution_count": null,
   "id": "solid-corporation",
   "metadata": {},
   "outputs": [],
   "source": [
    "list(range(2,5))"
   ]
  },
  {
   "cell_type": "code",
   "execution_count": null,
   "id": "early-composite",
   "metadata": {},
   "outputs": [],
   "source": [
    "list(range(2,10,3))"
   ]
  },
  {
   "cell_type": "markdown",
   "id": "specific-doctor",
   "metadata": {},
   "source": [
    "## Listes de listes"
   ]
  },
  {
   "cell_type": "code",
   "execution_count": null,
   "id": "unnecessary-texas",
   "metadata": {},
   "outputs": [],
   "source": [
    "enclos1 = ['girafe', 4]\n",
    "enclos2 = ['tigre', 2]\n",
    "enclos3 = ['singe', 5]"
   ]
  },
  {
   "cell_type": "code",
   "execution_count": null,
   "id": "resistant-struggle",
   "metadata": {},
   "outputs": [],
   "source": [
    "zoo = [enclos1, enclos2, enclos3]"
   ]
  },
  {
   "cell_type": "code",
   "execution_count": null,
   "id": "short-venezuela",
   "metadata": {},
   "outputs": [],
   "source": [
    "zoo[1]"
   ]
  },
  {
   "cell_type": "code",
   "execution_count": null,
   "id": "indian-antique",
   "metadata": {},
   "outputs": [],
   "source": [
    "zoo[1][0]"
   ]
  },
  {
   "cell_type": "code",
   "execution_count": null,
   "id": "awful-clock",
   "metadata": {},
   "outputs": [],
   "source": [
    "zoo[0][1]"
   ]
  },
  {
   "cell_type": "code",
   "execution_count": null,
   "id": "running-surgeon",
   "metadata": {},
   "outputs": [],
   "source": [
    "zoo[-1][-2]"
   ]
  },
  {
   "cell_type": "markdown",
   "id": "rubber-throw",
   "metadata": {},
   "source": [
    "## Retour sur les chaînes de caractères\n",
    "\n",
    "https://python.sdv.univ-paris-diderot.fr/10_plus_sur_les_chaines_de_caracteres/\n",
    "\n",
    "Les chaînes de caractères sont des listes (de caractères), mais non modifiables.   \n",
    "Certaines propriétés des listes leurs sont donc applicables.\n"
   ]
  },
  {
   "cell_type": "code",
   "execution_count": null,
   "id": "negative-relaxation",
   "metadata": {},
   "outputs": [],
   "source": [
    "texte = \"Salut Python\""
   ]
  },
  {
   "cell_type": "code",
   "execution_count": null,
   "id": "touched-wrapping",
   "metadata": {},
   "outputs": [],
   "source": [
    "texte[0]"
   ]
  },
  {
   "cell_type": "code",
   "execution_count": null,
   "id": "possible-billy",
   "metadata": {},
   "outputs": [],
   "source": [
    "texte[-1]"
   ]
  },
  {
   "cell_type": "code",
   "execution_count": null,
   "id": "crazy-satisfaction",
   "metadata": {},
   "outputs": [],
   "source": [
    "texte[6:]"
   ]
  },
  {
   "cell_type": "markdown",
   "id": "warming-swift",
   "metadata": {},
   "source": [
    "Mais attention, les chaînes de caractères ne sont pas modifiables :"
   ]
  },
  {
   "cell_type": "code",
   "execution_count": null,
   "id": "filled-congo",
   "metadata": {},
   "outputs": [],
   "source": [
    "texte[0] = \"s\""
   ]
  },
  {
   "cell_type": "code",
   "execution_count": null,
   "id": "computational-thunder",
   "metadata": {},
   "outputs": [],
   "source": [
    "texte.append(\"!\")"
   ]
  },
  {
   "cell_type": "markdown",
   "id": "structural-upper",
   "metadata": {},
   "source": [
    "## Exercices\n",
    "\n",
    "Constituez une liste semaine contenant les 7 jours de la semaine.\n",
    "\n",
    "- À partir de cette liste, comment récupérez-vous seulement les 5 premiers jours de la semaine d'une part, et ceux du week-end d'autre part ? Utilisez pour cela l'indiçage.\n",
    "- Cherchez un autre moyen pour arriver au même résultat (en utilisant un autre indiçage)."
   ]
  },
  {
   "cell_type": "code",
   "execution_count": null,
   "id": "helpful-genre",
   "metadata": {},
   "outputs": [],
   "source": [
    "semaine = [\"lundi\", \"mardi\", \"mercredi\", \"jeudi\", \"vendredi\", \"samedi\", \"dimanche\"]"
   ]
  },
  {
   "cell_type": "code",
   "execution_count": null,
   "id": "swiss-process",
   "metadata": {},
   "outputs": [],
   "source": []
  },
  {
   "cell_type": "code",
   "execution_count": null,
   "id": "knowing-wilderness",
   "metadata": {},
   "outputs": [],
   "source": []
  },
  {
   "cell_type": "code",
   "execution_count": null,
   "id": "solid-links",
   "metadata": {},
   "outputs": [],
   "source": []
  },
  {
   "cell_type": "code",
   "execution_count": null,
   "id": "robust-liechtenstein",
   "metadata": {},
   "outputs": [],
   "source": []
  },
  {
   "cell_type": "markdown",
   "id": "robust-glass",
   "metadata": {},
   "source": [
    "Combien y a-t-il de nombres pairs dans l'intervalle `[2, 10000]` inclus ? Répondez à cette question en une seule commande."
   ]
  },
  {
   "cell_type": "code",
   "execution_count": null,
   "id": "neural-imaging",
   "metadata": {},
   "outputs": [],
   "source": []
  }
 ],
 "metadata": {
  "kernelspec": {
   "display_name": "Python 3",
   "language": "python",
   "name": "python3"
  },
  "language_info": {
   "codemirror_mode": {
    "name": "ipython",
    "version": 3
   },
   "file_extension": ".py",
   "mimetype": "text/x-python",
   "name": "python",
   "nbconvert_exporter": "python",
   "pygments_lexer": "ipython3",
   "version": "3.8.8"
  },
  "toc-showmarkdowntxt": false
 },
 "nbformat": 4,
 "nbformat_minor": 5
}
